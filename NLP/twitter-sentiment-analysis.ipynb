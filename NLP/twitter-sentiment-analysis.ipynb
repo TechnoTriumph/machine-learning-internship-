{
 "cells": [
  {
   "cell_type": "markdown",
   "metadata": {
    "_uuid": "92b885dd147dac19bd0a33db3cd0da100bd5bc23"
   },
   "source": [
    "# Twitter Sentiment Analysis"
   ]
  },
  {
   "cell_type": "code",
   "execution_count": 2,
   "metadata": {
    "_uuid": "70282bce8b42a51e4d44f2c7d85c4ca9567b0fd4"
   },
   "outputs": [
    {
     "name": "stdout",
     "output_type": "stream",
     "text": [
      "Collecting gensim\n",
      "  Using cached https://files.pythonhosted.org/packages/09/ed/b59a2edde05b7f5755ea68648487c150c7c742361e9c8733c6d4ca005020/gensim-3.8.1-cp37-cp37m-win_amd64.whl\n",
      "Requirement already satisfied, skipping upgrade: numpy>=1.11.3 in c:\\users\\krishna prasad p\\anaconda3\\lib\\site-packages (from gensim) (1.16.5)\n",
      "Collecting smart-open>=1.8.1 (from gensim)\n",
      "  Downloading https://files.pythonhosted.org/packages/0c/09/735f2786dfac9bbf39d244ce75c0313d27d4962e71e0774750dc809f2395/smart_open-1.9.0.tar.gz (70kB)\n",
      "Requirement already satisfied, skipping upgrade: six>=1.5.0 in c:\\users\\krishna prasad p\\anaconda3\\lib\\site-packages (from gensim) (1.12.0)\n",
      "Requirement already satisfied, skipping upgrade: scipy>=0.18.1 in c:\\users\\krishna prasad p\\anaconda3\\lib\\site-packages (from gensim) (1.4.1)\n",
      "Requirement already satisfied, skipping upgrade: boto>=2.32 in c:\\users\\krishna prasad p\\anaconda3\\lib\\site-packages (from smart-open>=1.8.1->gensim) (2.49.0)\n",
      "Requirement already satisfied, skipping upgrade: requests in c:\\users\\krishna prasad p\\anaconda3\\lib\\site-packages (from smart-open>=1.8.1->gensim) (2.22.0)\n",
      "Collecting boto3 (from smart-open>=1.8.1->gensim)\n",
      "  Downloading https://files.pythonhosted.org/packages/90/03/604ab6b7ff71b996b27669495879ffdd372fe147bd95eb0cd73436ff0380/boto3-1.11.5-py2.py3-none-any.whl (128kB)\n",
      "Requirement already satisfied, skipping upgrade: urllib3!=1.25.0,!=1.25.1,<1.26,>=1.21.1 in c:\\users\\krishna prasad p\\anaconda3\\lib\\site-packages (from requests->smart-open>=1.8.1->gensim) (1.24.2)\n",
      "Requirement already satisfied, skipping upgrade: chardet<3.1.0,>=3.0.2 in c:\\users\\krishna prasad p\\anaconda3\\lib\\site-packages (from requests->smart-open>=1.8.1->gensim) (3.0.4)\n",
      "Requirement already satisfied, skipping upgrade: certifi>=2017.4.17 in c:\\users\\krishna prasad p\\anaconda3\\lib\\site-packages (from requests->smart-open>=1.8.1->gensim) (2019.9.11)\n",
      "Requirement already satisfied, skipping upgrade: idna<2.9,>=2.5 in c:\\users\\krishna prasad p\\anaconda3\\lib\\site-packages (from requests->smart-open>=1.8.1->gensim) (2.8)\n",
      "Collecting jmespath<1.0.0,>=0.7.1 (from boto3->smart-open>=1.8.1->gensim)\n",
      "  Using cached https://files.pythonhosted.org/packages/83/94/7179c3832a6d45b266ddb2aac329e101367fbdb11f425f13771d27f225bb/jmespath-0.9.4-py2.py3-none-any.whl\n",
      "Collecting botocore<1.15.0,>=1.14.5 (from boto3->smart-open>=1.8.1->gensim)\n",
      "  Downloading https://files.pythonhosted.org/packages/e9/89/2ba646f66e403dac1d530ae6db84f84ee0ff53ddde2699721395e5627488/botocore-1.14.5-py2.py3-none-any.whl (5.9MB)\n",
      "Collecting s3transfer<0.4.0,>=0.3.0 (from boto3->smart-open>=1.8.1->gensim)\n",
      "  Downloading https://files.pythonhosted.org/packages/de/6d/27abf73e66a05726dd52fb3a6645417b5dc86d90488b59589296dafbf054/s3transfer-0.3.1-py2.py3-none-any.whl (69kB)\n",
      "Requirement already satisfied, skipping upgrade: docutils<0.16,>=0.10 in c:\\users\\krishna prasad p\\anaconda3\\lib\\site-packages (from botocore<1.15.0,>=1.14.5->boto3->smart-open>=1.8.1->gensim) (0.15.2)\n",
      "Requirement already satisfied, skipping upgrade: python-dateutil<3.0.0,>=2.1 in c:\\users\\krishna prasad p\\anaconda3\\lib\\site-packages (from botocore<1.15.0,>=1.14.5->boto3->smart-open>=1.8.1->gensim) (2.8.0)\n",
      "Building wheels for collected packages: smart-open\n",
      "  Building wheel for smart-open (setup.py): started\n",
      "  Building wheel for smart-open (setup.py): finished with status 'done'\n",
      "  Created wheel for smart-open: filename=smart_open-1.9.0-cp37-none-any.whl size=73092 sha256=bbadc152fe1b4502342f33a9b30d29a32f40f4e1674fefd041e78e09eab9eace\n",
      "  Stored in directory: C:\\Users\\KRISHNA PRASAD P\\AppData\\Local\\pip\\Cache\\wheels\\ab\\10\\93\\5cff86f5b721d77edaecc29959b1c60d894be1f66d91407d28\n",
      "Successfully built smart-open\n",
      "Installing collected packages: jmespath, botocore, s3transfer, boto3, smart-open, gensim\n",
      "Successfully installed boto3-1.11.5 botocore-1.14.5 gensim-3.8.1 jmespath-0.9.4 s3transfer-0.3.1 smart-open-1.9.0\n",
      "Collecting keras\n",
      "  Using cached https://files.pythonhosted.org/packages/ad/fd/6bfe87920d7f4fd475acd28500a42482b6b84479832bdc0fe9e589a60ceb/Keras-2.3.1-py2.py3-none-any.whl\n",
      "Requirement already satisfied, skipping upgrade: keras-applications>=1.0.6 in c:\\users\\krishna prasad p\\anaconda3\\lib\\site-packages (from keras) (1.0.8)\n",
      "Requirement already satisfied, skipping upgrade: scipy>=0.14 in c:\\users\\krishna prasad p\\anaconda3\\lib\\site-packages (from keras) (1.4.1)\n",
      "Requirement already satisfied, skipping upgrade: six>=1.9.0 in c:\\users\\krishna prasad p\\anaconda3\\lib\\site-packages (from keras) (1.12.0)\n",
      "Requirement already satisfied, skipping upgrade: h5py in c:\\users\\krishna prasad p\\anaconda3\\lib\\site-packages (from keras) (2.9.0)\n",
      "Requirement already satisfied, skipping upgrade: numpy>=1.9.1 in c:\\users\\krishna prasad p\\anaconda3\\lib\\site-packages (from keras) (1.16.5)\n",
      "Requirement already satisfied, skipping upgrade: pyyaml in c:\\users\\krishna prasad p\\anaconda3\\lib\\site-packages (from keras) (5.1.2)\n",
      "Requirement already satisfied, skipping upgrade: keras-preprocessing>=1.0.5 in c:\\users\\krishna prasad p\\anaconda3\\lib\\site-packages (from keras) (1.1.0)\n",
      "Installing collected packages: keras\n",
      "  Found existing installation: Keras 2.2.5\n",
      "    Uninstalling Keras-2.2.5:\n",
      "      Successfully uninstalled Keras-2.2.5\n",
      "Successfully installed keras-2.3.1\n",
      "Collecting pandas\n",
      "  Downloading https://files.pythonhosted.org/packages/02/d0/1e8e60e61e748338e3a40e42f5dfeee63ccdecfc4f0894122b890bfb009a/pandas-0.25.3-cp37-cp37m-win_amd64.whl (9.2MB)\n",
      "Requirement already satisfied, skipping upgrade: pytz>=2017.2 in c:\\users\\krishna prasad p\\anaconda3\\lib\\site-packages (from pandas) (2019.3)\n",
      "Requirement already satisfied, skipping upgrade: python-dateutil>=2.6.1 in c:\\users\\krishna prasad p\\anaconda3\\lib\\site-packages (from pandas) (2.8.0)\n",
      "Requirement already satisfied, skipping upgrade: numpy>=1.13.3 in c:\\users\\krishna prasad p\\anaconda3\\lib\\site-packages (from pandas) (1.16.5)\n",
      "Requirement already satisfied, skipping upgrade: six>=1.5 in c:\\users\\krishna prasad p\\anaconda3\\lib\\site-packages (from python-dateutil>=2.6.1->pandas) (1.12.0)\n",
      "Installing collected packages: pandas\n",
      "  Found existing installation: pandas 0.25.1\n",
      "    Uninstalling pandas-0.25.1:\n",
      "      Successfully uninstalled pandas-0.25.1\n"
     ]
    },
    {
     "name": "stderr",
     "output_type": "stream",
     "text": [
      "ERROR: Could not install packages due to an EnvironmentError: [WinError 5] Access is denied: 'c:\\\\users\\\\krishna prasad p\\\\appdata\\\\roaming\\\\python\\\\python37\\\\site-packages\\\\~andas\\\\io\\\\msgpack\\\\_packer.cp37-win_amd64.pyd'\n",
      "Consider using the `--user` option or check the permissions.\n",
      "\n"
     ]
    }
   ],
   "source": [
    "!pip install gensim --upgrade\n",
    "!pip install keras --upgrade\n",
    "!pip install pandas --upgrade"
   ]
  },
  {
   "cell_type": "code",
   "execution_count": 1,
   "metadata": {
    "_uuid": "303e72966af732ddef0bd8108a321095314e44af"
   },
   "outputs": [
    {
     "name": "stderr",
     "output_type": "stream",
     "text": [
      "Using TensorFlow backend.\n"
     ]
    }
   ],
   "source": [
    "# DataFrame\n",
    "import pandas as pd\n",
    "\n",
    "# Matplot\n",
    "import matplotlib.pyplot as plt\n",
    "%matplotlib inline\n",
    "\n",
    "# Scikit-learn\n",
    "from sklearn.model_selection import train_test_split\n",
    "from sklearn.preprocessing import LabelEncoder\n",
    "from sklearn.metrics import confusion_matrix, classification_report, accuracy_score\n",
    "from sklearn.manifold import TSNE\n",
    "from sklearn.feature_extraction.text import TfidfVectorizer\n",
    "\n",
    "# Keras\n",
    "from keras.preprocessing.text import Tokenizer\n",
    "from keras.preprocessing.sequence import pad_sequences\n",
    "from keras.models import Sequential\n",
    "from keras.layers import Activation, Dense, Dropout, Embedding, Flatten, Conv1D, MaxPooling1D, LSTM\n",
    "from keras import utils\n",
    "from keras.callbacks import ReduceLROnPlateau, EarlyStopping\n",
    "\n",
    "# nltk\n",
    "import nltk\n",
    "from nltk.corpus import stopwords\n",
    "from  nltk.stem import SnowballStemmer\n",
    "\n",
    "# Word2vec\n",
    "import gensim\n",
    "\n",
    "# Utility\n",
    "import re\n",
    "import numpy as np\n",
    "import os\n",
    "from collections import Counter\n",
    "import logging\n",
    "import time\n",
    "import pickle\n",
    "import itertools\n",
    "\n",
    "# Set log\n",
    "logging.basicConfig(format='%(asctime)s : %(levelname)s : %(message)s', level=logging.INFO)"
   ]
  },
  {
   "cell_type": "code",
   "execution_count": 2,
   "metadata": {
    "_uuid": "35e1a89dead5fd160e4c9a024a21d2e569fc89ff"
   },
   "outputs": [
    {
     "name": "stderr",
     "output_type": "stream",
     "text": [
      "[nltk_data] Error loading stopwords: <urlopen error [Errno 11001]\n",
      "[nltk_data]     getaddrinfo failed>\n"
     ]
    },
    {
     "data": {
      "text/plain": [
       "False"
      ]
     },
     "execution_count": 2,
     "metadata": {},
     "output_type": "execute_result"
    }
   ],
   "source": [
    "nltk.download('stopwords')"
   ]
  },
  {
   "cell_type": "markdown",
   "metadata": {
    "_uuid": "e8b01a07df001e4abcc745900336c4db06e455f3"
   },
   "source": [
    "### Settings"
   ]
  },
  {
   "cell_type": "code",
   "execution_count": 27,
   "metadata": {
    "_uuid": "180f0dd2a95419e4602b5c0229822b0111c826f6"
   },
   "outputs": [],
   "source": [
    "# DATASET\n",
    "DATASET_COLUMNS = [\"target\", \"ids\", \"date\", \"flag\", \"user\", \"text\"]\n",
    "DATASET_ENCODING = \"ISO-8859-1\"\n",
    "TRAIN_SIZE = 0.8\n",
    "\n",
    "# TEXT CLENAING\n",
    "TEXT_CLEANING_RE = \"@\\S+|https?:\\S+|http?:\\S|[^A-Za-z0-9]+\"\n",
    "\n",
    "# WORD2VEC \n",
    "W2V_SIZE = 300\n",
    "W2V_WINDOW = 7\n",
    "W2V_EPOCH = 32\n",
    "W2V_MIN_COUNT = 10\n",
    "\n",
    "# KERAS\n",
    "SEQUENCE_LENGTH = 300\n",
    "EPOCHS = 8\n",
    "BATCH_SIZE = 1024\n",
    "\n",
    "# SENTIMENT\n",
    "POSITIVE = \"POSITIVE\"\n",
    "NEGATIVE = \"NEGATIVE\"\n",
    "NEUTRAL = \"NEUTRAL\"\n",
    "SENTIMENT_THRESHOLDS = (0.4, 0.7)\n",
    "\n",
    "# EXPORT\n",
    "KERAS_MODEL = \"model.h5\"\n",
    "WORD2VEC_MODEL = \"model.w2v\"\n",
    "TOKENIZER_MODEL = \"tokenizer.pkl\"\n",
    "ENCODER_MODEL = \"encoder.pkl\""
   ]
  },
  {
   "cell_type": "markdown",
   "metadata": {
    "_uuid": "1c3beecc618be68480b3d4f0de08d9d863da1dc1"
   },
   "source": [
    "### Read Dataset"
   ]
  },
  {
   "cell_type": "markdown",
   "metadata": {
    "_uuid": "563b3c44f1092dba0b853747b098e00509098cca"
   },
   "source": [
    "### Dataset details\n",
    "* **target**: the polarity of the tweet (0 = negative, 2 = neutral, 4 = positive)\n",
    "* **ids**: The id of the tweet ( 2087)\n",
    "* **date**: the date of the tweet (Sat May 16 23:58:44 UTC 2009)\n",
    "* **flag**: The query (lyx). If there is no query, then this value is NO_QUERY.\n",
    "* **user**: the user that tweeted (robotickilldozr)\n",
    "* **text**: the text of the tweet (Lyx is cool)"
   ]
  },
  {
   "cell_type": "code",
   "execution_count": 15,
   "metadata": {
    "_uuid": "bba8f91cd70de4f5ea0fb0870ae2029b6e3dcc24"
   },
   "outputs": [
    {
     "name": "stdout",
     "output_type": "stream",
     "text": [
      "Open file: ./data.csv\n"
     ]
    }
   ],
   "source": [
    "# dataset_filename = os.listdir(\"../input\")[0]\n",
    "dataset_path = './data.csv'\n",
    "print(\"Open file:\", dataset_path)\n",
    "df = pd.read_csv(dataset_path, encoding =DATASET_ENCODING , names=DATASET_COLUMNS)"
   ]
  },
  {
   "cell_type": "code",
   "execution_count": 16,
   "metadata": {
    "_uuid": "936d499c00c4f1648bc16ca9d283c3b39be7fb10"
   },
   "outputs": [
    {
     "name": "stdout",
     "output_type": "stream",
     "text": [
      "Dataset size: 1600000\n"
     ]
    }
   ],
   "source": [
    "print(\"Dataset size:\", len(df))"
   ]
  },
  {
   "cell_type": "code",
   "execution_count": 17,
   "metadata": {
    "_uuid": "7486ed895b813c5246f97b31b6162b0f65ff763b"
   },
   "outputs": [
    {
     "data": {
      "text/html": [
       "<div>\n",
       "<style scoped>\n",
       "    .dataframe tbody tr th:only-of-type {\n",
       "        vertical-align: middle;\n",
       "    }\n",
       "\n",
       "    .dataframe tbody tr th {\n",
       "        vertical-align: top;\n",
       "    }\n",
       "\n",
       "    .dataframe thead th {\n",
       "        text-align: right;\n",
       "    }\n",
       "</style>\n",
       "<table border=\"1\" class=\"dataframe\">\n",
       "  <thead>\n",
       "    <tr style=\"text-align: right;\">\n",
       "      <th></th>\n",
       "      <th>target</th>\n",
       "      <th>ids</th>\n",
       "      <th>date</th>\n",
       "      <th>flag</th>\n",
       "      <th>user</th>\n",
       "      <th>text</th>\n",
       "    </tr>\n",
       "  </thead>\n",
       "  <tbody>\n",
       "    <tr>\n",
       "      <th>0</th>\n",
       "      <td>0</td>\n",
       "      <td>1467810369</td>\n",
       "      <td>Mon Apr 06 22:19:45 PDT 2009</td>\n",
       "      <td>NO_QUERY</td>\n",
       "      <td>_TheSpecialOne_</td>\n",
       "      <td>@switchfoot http://twitpic.com/2y1zl - Awww, t...</td>\n",
       "    </tr>\n",
       "    <tr>\n",
       "      <th>1</th>\n",
       "      <td>0</td>\n",
       "      <td>1467810672</td>\n",
       "      <td>Mon Apr 06 22:19:49 PDT 2009</td>\n",
       "      <td>NO_QUERY</td>\n",
       "      <td>scotthamilton</td>\n",
       "      <td>is upset that he can't update his Facebook by ...</td>\n",
       "    </tr>\n",
       "    <tr>\n",
       "      <th>2</th>\n",
       "      <td>0</td>\n",
       "      <td>1467810917</td>\n",
       "      <td>Mon Apr 06 22:19:53 PDT 2009</td>\n",
       "      <td>NO_QUERY</td>\n",
       "      <td>mattycus</td>\n",
       "      <td>@Kenichan I dived many times for the ball. Man...</td>\n",
       "    </tr>\n",
       "    <tr>\n",
       "      <th>3</th>\n",
       "      <td>0</td>\n",
       "      <td>1467811184</td>\n",
       "      <td>Mon Apr 06 22:19:57 PDT 2009</td>\n",
       "      <td>NO_QUERY</td>\n",
       "      <td>ElleCTF</td>\n",
       "      <td>my whole body feels itchy and like its on fire</td>\n",
       "    </tr>\n",
       "    <tr>\n",
       "      <th>4</th>\n",
       "      <td>0</td>\n",
       "      <td>1467811193</td>\n",
       "      <td>Mon Apr 06 22:19:57 PDT 2009</td>\n",
       "      <td>NO_QUERY</td>\n",
       "      <td>Karoli</td>\n",
       "      <td>@nationwideclass no, it's not behaving at all....</td>\n",
       "    </tr>\n",
       "  </tbody>\n",
       "</table>\n",
       "</div>"
      ],
      "text/plain": [
       "   target         ids                          date      flag  \\\n",
       "0       0  1467810369  Mon Apr 06 22:19:45 PDT 2009  NO_QUERY   \n",
       "1       0  1467810672  Mon Apr 06 22:19:49 PDT 2009  NO_QUERY   \n",
       "2       0  1467810917  Mon Apr 06 22:19:53 PDT 2009  NO_QUERY   \n",
       "3       0  1467811184  Mon Apr 06 22:19:57 PDT 2009  NO_QUERY   \n",
       "4       0  1467811193  Mon Apr 06 22:19:57 PDT 2009  NO_QUERY   \n",
       "\n",
       "              user                                               text  \n",
       "0  _TheSpecialOne_  @switchfoot http://twitpic.com/2y1zl - Awww, t...  \n",
       "1    scotthamilton  is upset that he can't update his Facebook by ...  \n",
       "2         mattycus  @Kenichan I dived many times for the ball. Man...  \n",
       "3          ElleCTF    my whole body feels itchy and like its on fire   \n",
       "4           Karoli  @nationwideclass no, it's not behaving at all....  "
      ]
     },
     "execution_count": 17,
     "metadata": {},
     "output_type": "execute_result"
    }
   ],
   "source": [
    "df.head(5)"
   ]
  },
  {
   "cell_type": "markdown",
   "metadata": {
    "_uuid": "3f9a7bb129e184967b13261fb5d253af451c75c5"
   },
   "source": [
    "### Map target label to String\n",
    "* **0** -> **NEGATIVE**\n",
    "* **2** -> **NEUTRAL**\n",
    "* **4** -> **POSITIVE**"
   ]
  },
  {
   "cell_type": "code",
   "execution_count": 18,
   "metadata": {
    "_uuid": "14074b59106cb9550440839e48b832223fc9502f"
   },
   "outputs": [],
   "source": [
    "decode_map = {0: \"NEGATIVE\", 2: \"NEUTRAL\", 4: \"POSITIVE\"}\n",
    "def decode_sentiment(label):\n",
    "    return decode_map[int(label)]"
   ]
  },
  {
   "cell_type": "code",
   "execution_count": 19,
   "metadata": {
    "_uuid": "4449d473187f647a195a6ac6986b009da32a7f4b"
   },
   "outputs": [
    {
     "name": "stdout",
     "output_type": "stream",
     "text": [
      "Wall time: 1.09 s\n"
     ]
    }
   ],
   "source": [
    "%%time\n",
    "df.target = df.target.apply(lambda x: decode_sentiment(x))"
   ]
  },
  {
   "cell_type": "code",
   "execution_count": 1,
   "metadata": {},
   "outputs": [
    {
     "ename": "NameError",
     "evalue": "name 'df' is not defined",
     "output_type": "error",
     "traceback": [
      "\u001b[1;31m---------------------------------------------------------------------------\u001b[0m",
      "\u001b[1;31mNameError\u001b[0m                                 Traceback (most recent call last)",
      "\u001b[1;32m<ipython-input-1-a29405eb924b>\u001b[0m in \u001b[0;36m<module>\u001b[1;34m\u001b[0m\n\u001b[1;32m----> 1\u001b[1;33m \u001b[0mdf\u001b[0m\u001b[1;33m.\u001b[0m\u001b[0mhead\u001b[0m\u001b[1;33m(\u001b[0m\u001b[1;36m5\u001b[0m\u001b[1;33m)\u001b[0m\u001b[1;33m\u001b[0m\u001b[1;33m\u001b[0m\u001b[0m\n\u001b[0m",
      "\u001b[1;31mNameError\u001b[0m: name 'df' is not defined"
     ]
    }
   ],
   "source": [
    "df.head(5)"
   ]
  },
  {
   "cell_type": "code",
   "execution_count": 21,
   "metadata": {
    "_uuid": "19eb327803192f31cce3512aacb232f4d6b38715"
   },
   "outputs": [
    {
     "data": {
      "text/plain": [
       "Text(0.5, 1.0, 'Dataset labels distribuition')"
      ]
     },
     "execution_count": 21,
     "metadata": {},
     "output_type": "execute_result"
    },
    {
     "data": {
      "image/png": "[encoded data removed]",
      "text/plain": [
       "<Figure size 1152x576 with 1 Axes>"
      ]
     },
     "metadata": {
      "needs_background": "light"
     },
     "output_type": "display_data"
    }
   ],
   "source": [
    "target_cnt = Counter(df.target)\n",
    "\n",
    "plt.figure(figsize=(16,8))\n",
    "plt.bar(target_cnt.keys(), target_cnt.values())\n",
    "plt.title(\"Dataset labels distribuition\")"
   ]
  },
  {
   "cell_type": "markdown",
   "metadata": {
    "_uuid": "4329b1573518b03e497213efa7676220734ebb4b"
   },
   "source": [
    "### Pre-Process dataset"
   ]
  },
  {
   "cell_type": "code",
   "execution_count": 22,
   "metadata": {
    "_uuid": "8aeee8b7b9ea11b749c7f91cd4787a7b50ed1a91"
   },
   "outputs": [],
   "source": [
    "stop_words = stopwords.words(\"english\")\n",
    "stemmer = SnowballStemmer(\"english\")"
   ]
  },
  {
   "cell_type": "code",
   "execution_count": 23,
   "metadata": {
    "_uuid": "649ebcb97969b9ac4301138783704bb3d7846a49"
   },
   "outputs": [],
   "source": [
    "def preprocess(text, stem=False):\n",
    "    # Remove link,user and special characters\n",
    "    text = re.sub(TEXT_CLEANING_RE, ' ', str(text).lower()).strip()\n",
    "    tokens = []\n",
    "    for token in text.split():\n",
    "        if token not in stop_words:\n",
    "            if stem:\n",
    "                tokens.append(stemmer.stem(token))\n",
    "            else:\n",
    "                tokens.append(token)\n",
    "    return \" \".join(tokens)"
   ]
  },
  {
   "cell_type": "code",
   "execution_count": 24,
   "metadata": {
    "_uuid": "f7f3e77ab9291d14687c49e71ba9b2b1e3323432"
   },
   "outputs": [
    {
     "name": "stdout",
     "output_type": "stream",
     "text": [
      "Wall time: 1min 38s\n"
     ]
    }
   ],
   "source": [
    "%%time\n",
    "df.text = df.text.apply(lambda x: preprocess(x))"
   ]
  },
  {
   "cell_type": "markdown",
   "metadata": {
    "_uuid": "f5f9714a8507409bbe780eebf2855a33e8e6ba37"
   },
   "source": [
    "### Split train and test"
   ]
  },
  {
   "cell_type": "code",
   "execution_count": 25,
   "metadata": {
    "_uuid": "d2b1179c968e3f3910c790ecf0c5b2cbb34b0e68"
   },
   "outputs": [
    {
     "name": "stdout",
     "output_type": "stream",
     "text": [
      "TRAIN size: 1280000\n",
      "TEST size: 320000\n"
     ]
    }
   ],
   "source": [
    "df_train, df_test = train_test_split(df, test_size=1-TRAIN_SIZE, random_state=42)\n",
    "print(\"TRAIN size:\", len(df_train))\n",
    "print(\"TEST size:\", len(df_test))"
   ]
  },
  {
   "cell_type": "markdown",
   "metadata": {
    "_uuid": "f08a28aab2c3d16d8b9681a7d5d07587153a1cd6"
   },
   "source": [
    "### Word2Vec \n",
    "https://towardsdatascience.com/a-beginners-guide-to-word-embedding-with-gensim-word2vec-model-5970fa56cc92"
   ]
  },
  {
   "cell_type": "code",
   "execution_count": 26,
   "metadata": {
    "_uuid": "2461bf564de1b4414841933d0c1d1bee5f5cc5a6"
   },
   "outputs": [
    {
     "name": "stdout",
     "output_type": "stream",
     "text": [
      "Wall time: 4.77 s\n"
     ]
    },
    {
     "data": {
      "text/plain": [
       "[['ya',\n",
       "  'quot',\n",
       "  'like',\n",
       "  'palm',\n",
       "  'pre',\n",
       "  'touchstone',\n",
       "  'charger',\n",
       "  'readynow',\n",
       "  'yes',\n",
       "  'sounds',\n",
       "  'good',\n",
       "  'beer',\n",
       "  'ready',\n",
       "  'prelaunch'],\n",
       " ['felt', 'earthquake', 'afternoon', 'seems', 'epicenter'],\n",
       " ['ruffles', 'shirts', 'like', 'likey'],\n",
       " ['pretty',\n",
       "  'bad',\n",
       "  'night',\n",
       "  'crappy',\n",
       "  'morning',\n",
       "  'fml',\n",
       "  'buttface',\n",
       "  'didnt',\n",
       "  'say',\n",
       "  'could',\n",
       "  'go',\n",
       "  'work',\n",
       "  'today'],\n",
       " ['yeah', 'clear', 'view']]"
      ]
     },
     "execution_count": 26,
     "metadata": {},
     "output_type": "execute_result"
    }
   ],
   "source": [
    "%%time\n",
    "documents = [_text.split() for _text in df_train.text] \n",
    "documents[0:5]"
   ]
  },
  {
   "cell_type": "markdown",
   "metadata": {
    "_uuid": "8e19b9f25801ba86420decc266d2b3e6fb44f1ea"
   },
   "source": [
    "https://machinelearningmastery.com/gentle-introduction-bag-words-model/\n",
    "\n",
    "https://radimrehurek.com/gensim/auto_examples/tutorials/run_word2vec.html\n",
    "\n",
    "https://pathmind.com/wiki/word2vec\n"
   ]
  },
  {
   "cell_type": "code",
   "execution_count": 28,
   "metadata": {},
   "outputs": [],
   "source": [
    "w2v_model = gensim.models.word2vec.Word2Vec(size=W2V_SIZE, \n",
    "                                            window=W2V_WINDOW, \n",
    "                                            min_count=W2V_MIN_COUNT, \n",
    "                                            workers=8)"
   ]
  },
  {
   "cell_type": "code",
   "execution_count": 29,
   "metadata": {
    "_uuid": "58d655af07653c594bec6bebcfb302a973b0ad9c"
   },
   "outputs": [
    {
     "name": "stderr",
     "output_type": "stream",
     "text": [
      "2020-01-21 21:26:34,372 : INFO : collecting all words and their counts\n",
      "2020-01-21 21:26:34,372 : INFO : PROGRESS: at sentence #0, processed 0 words, keeping 0 word types\n",
      "2020-01-21 21:26:34,392 : INFO : PROGRESS: at sentence #10000, processed 72565 words, keeping 14005 word types\n",
      "2020-01-21 21:26:34,410 : INFO : PROGRESS: at sentence #20000, processed 144393 words, keeping 21587 word types\n",
      "2020-01-21 21:26:34,442 : INFO : PROGRESS: at sentence #30000, processed 215826 words, keeping 27541 word types\n",
      "2020-01-21 21:26:34,470 : INFO : PROGRESS: at sentence #40000, processed 288271 words, keeping 32764 word types\n",
      "2020-01-21 21:26:34,511 : INFO : PROGRESS: at sentence #50000, processed 359772 words, keeping 37587 word types\n",
      "2020-01-21 21:26:34,535 : INFO : PROGRESS: at sentence #60000, processed 431431 words, keeping 42198 word types\n",
      "2020-01-21 21:26:34,578 : INFO : PROGRESS: at sentence #70000, processed 503103 words, keeping 46458 word types\n",
      "2020-01-21 21:26:34,641 : INFO : PROGRESS: at sentence #80000, processed 575709 words, keeping 50476 word types\n",
      "2020-01-21 21:26:34,708 : INFO : PROGRESS: at sentence #90000, processed 647100 words, keeping 54140 word types\n",
      "2020-01-21 21:26:34,750 : INFO : PROGRESS: at sentence #100000, processed 718681 words, keeping 57777 word types\n",
      "2020-01-21 21:26:34,790 : INFO : PROGRESS: at sentence #110000, processed 790696 words, keeping 61207 word types\n",
      "2020-01-21 21:26:34,820 : INFO : PROGRESS: at sentence #120000, processed 863134 words, keeping 64583 word types\n",
      "2020-01-21 21:26:34,858 : INFO : PROGRESS: at sentence #130000, processed 935111 words, keeping 67865 word types\n",
      "2020-01-21 21:26:34,888 : INFO : PROGRESS: at sentence #140000, processed 1006668 words, keeping 70966 word types\n",
      "2020-01-21 21:26:34,919 : INFO : PROGRESS: at sentence #150000, processed 1078512 words, keeping 74119 word types\n",
      "2020-01-21 21:26:34,954 : INFO : PROGRESS: at sentence #160000, processed 1149914 words, keeping 77187 word types\n",
      "2020-01-21 21:26:34,985 : INFO : PROGRESS: at sentence #170000, processed 1222145 words, keeping 80267 word types\n",
      "2020-01-21 21:26:35,019 : INFO : PROGRESS: at sentence #180000, processed 1294708 words, keeping 83393 word types\n",
      "2020-01-21 21:26:35,048 : INFO : PROGRESS: at sentence #190000, processed 1367608 words, keeping 86329 word types\n",
      "2020-01-21 21:26:35,087 : INFO : PROGRESS: at sentence #200000, processed 1439469 words, keeping 89103 word types\n",
      "2020-01-21 21:26:35,116 : INFO : PROGRESS: at sentence #210000, processed 1512099 words, keeping 91840 word types\n",
      "2020-01-21 21:26:35,149 : INFO : PROGRESS: at sentence #220000, processed 1584149 words, keeping 94636 word types\n",
      "2020-01-21 21:26:35,180 : INFO : PROGRESS: at sentence #230000, processed 1656354 words, keeping 97353 word types\n",
      "2020-01-21 21:26:35,229 : INFO : PROGRESS: at sentence #240000, processed 1728573 words, keeping 99975 word types\n",
      "2020-01-21 21:26:35,276 : INFO : PROGRESS: at sentence #250000, processed 1801102 words, keeping 102594 word types\n",
      "2020-01-21 21:26:35,308 : INFO : PROGRESS: at sentence #260000, processed 1873103 words, keeping 105162 word types\n",
      "2020-01-21 21:26:35,345 : INFO : PROGRESS: at sentence #270000, processed 1945245 words, keeping 107626 word types\n",
      "2020-01-21 21:26:35,370 : INFO : PROGRESS: at sentence #280000, processed 2017163 words, keeping 110141 word types\n",
      "2020-01-21 21:26:35,404 : INFO : PROGRESS: at sentence #290000, processed 2089574 words, keeping 112539 word types\n",
      "2020-01-21 21:26:35,458 : INFO : PROGRESS: at sentence #300000, processed 2160996 words, keeping 114893 word types\n",
      "2020-01-21 21:26:35,493 : INFO : PROGRESS: at sentence #310000, processed 2232913 words, keeping 117298 word types\n",
      "2020-01-21 21:26:35,524 : INFO : PROGRESS: at sentence #320000, processed 2305039 words, keeping 119693 word types\n",
      "2020-01-21 21:26:35,557 : INFO : PROGRESS: at sentence #330000, processed 2377119 words, keeping 122131 word types\n",
      "2020-01-21 21:26:35,587 : INFO : PROGRESS: at sentence #340000, processed 2449370 words, keeping 124416 word types\n",
      "2020-01-21 21:26:35,621 : INFO : PROGRESS: at sentence #350000, processed 2521564 words, keeping 126669 word types\n",
      "2020-01-21 21:26:35,660 : INFO : PROGRESS: at sentence #360000, processed 2593681 words, keeping 128912 word types\n",
      "2020-01-21 21:26:35,699 : INFO : PROGRESS: at sentence #370000, processed 2665692 words, keeping 131135 word types\n",
      "2020-01-21 21:26:35,732 : INFO : PROGRESS: at sentence #380000, processed 2737859 words, keeping 133403 word types\n",
      "2020-01-21 21:26:35,774 : INFO : PROGRESS: at sentence #390000, processed 2809848 words, keeping 135551 word types\n",
      "2020-01-21 21:26:35,807 : INFO : PROGRESS: at sentence #400000, processed 2882438 words, keeping 137742 word types\n",
      "2020-01-21 21:26:35,841 : INFO : PROGRESS: at sentence #410000, processed 2954075 words, keeping 139909 word types\n",
      "2020-01-21 21:26:35,873 : INFO : PROGRESS: at sentence #420000, processed 3026247 words, keeping 142144 word types\n",
      "2020-01-21 21:26:35,903 : INFO : PROGRESS: at sentence #430000, processed 3098659 words, keeping 144364 word types\n",
      "2020-01-21 21:26:35,936 : INFO : PROGRESS: at sentence #440000, processed 3170663 words, keeping 146439 word types\n",
      "2020-01-21 21:26:35,968 : INFO : PROGRESS: at sentence #450000, processed 3243344 words, keeping 148526 word types\n",
      "2020-01-21 21:26:36,000 : INFO : PROGRESS: at sentence #460000, processed 3315466 words, keeping 150610 word types\n",
      "2020-01-21 21:26:36,029 : INFO : PROGRESS: at sentence #470000, processed 3388295 words, keeping 152737 word types\n",
      "2020-01-21 21:26:36,064 : INFO : PROGRESS: at sentence #480000, processed 3460120 words, keeping 154757 word types\n",
      "2020-01-21 21:26:36,097 : INFO : PROGRESS: at sentence #490000, processed 3531883 words, keeping 156825 word types\n",
      "2020-01-21 21:26:36,127 : INFO : PROGRESS: at sentence #500000, processed 3604217 words, keeping 158859 word types\n",
      "2020-01-21 21:26:36,163 : INFO : PROGRESS: at sentence #510000, processed 3676427 words, keeping 160852 word types\n",
      "2020-01-21 21:26:36,195 : INFO : PROGRESS: at sentence #520000, processed 3749045 words, keeping 162863 word types\n",
      "2020-01-21 21:26:36,227 : INFO : PROGRESS: at sentence #530000, processed 3821622 words, keeping 164929 word types\n",
      "2020-01-21 21:26:36,260 : INFO : PROGRESS: at sentence #540000, processed 3893627 words, keeping 166840 word types\n",
      "2020-01-21 21:26:36,290 : INFO : PROGRESS: at sentence #550000, processed 3965477 words, keeping 168799 word types\n",
      "2020-01-21 21:26:36,341 : INFO : PROGRESS: at sentence #560000, processed 4038050 words, keeping 170802 word types\n",
      "2020-01-21 21:26:36,380 : INFO : PROGRESS: at sentence #570000, processed 4110296 words, keeping 172760 word types\n",
      "2020-01-21 21:26:36,412 : INFO : PROGRESS: at sentence #580000, processed 4182385 words, keeping 174635 word types\n",
      "2020-01-21 21:26:36,457 : INFO : PROGRESS: at sentence #590000, processed 4254632 words, keeping 176470 word types\n",
      "2020-01-21 21:26:36,487 : INFO : PROGRESS: at sentence #600000, processed 4326859 words, keeping 178350 word types\n",
      "2020-01-21 21:26:36,522 : INFO : PROGRESS: at sentence #610000, processed 4399183 words, keeping 180290 word types\n",
      "2020-01-21 21:26:36,578 : INFO : PROGRESS: at sentence #620000, processed 4471343 words, keeping 182129 word types\n",
      "2020-01-21 21:26:36,615 : INFO : PROGRESS: at sentence #630000, processed 4543286 words, keeping 184005 word types\n",
      "2020-01-21 21:26:36,652 : INFO : PROGRESS: at sentence #640000, processed 4615780 words, keeping 185835 word types\n",
      "2020-01-21 21:26:36,687 : INFO : PROGRESS: at sentence #650000, processed 4688481 words, keeping 187705 word types\n",
      "2020-01-21 21:26:36,718 : INFO : PROGRESS: at sentence #660000, processed 4760481 words, keeping 189439 word types\n",
      "2020-01-21 21:26:36,750 : INFO : PROGRESS: at sentence #670000, processed 4833024 words, keeping 191232 word types\n",
      "2020-01-21 21:26:36,782 : INFO : PROGRESS: at sentence #680000, processed 4904516 words, keeping 193177 word types\n",
      "2020-01-21 21:26:36,812 : INFO : PROGRESS: at sentence #690000, processed 4976968 words, keeping 194960 word types\n",
      "2020-01-21 21:26:36,846 : INFO : PROGRESS: at sentence #700000, processed 5049412 words, keeping 196725 word types\n",
      "2020-01-21 21:26:36,882 : INFO : PROGRESS: at sentence #710000, processed 5121976 words, keeping 198516 word types\n"
     ]
    },
    {
     "name": "stderr",
     "output_type": "stream",
     "text": [
      "2020-01-21 21:26:36,912 : INFO : PROGRESS: at sentence #720000, processed 5193881 words, keeping 200325 word types\n",
      "2020-01-21 21:26:36,946 : INFO : PROGRESS: at sentence #730000, processed 5265467 words, keeping 202133 word types\n",
      "2020-01-21 21:26:36,975 : INFO : PROGRESS: at sentence #740000, processed 5337518 words, keeping 203818 word types\n",
      "2020-01-21 21:26:37,011 : INFO : PROGRESS: at sentence #750000, processed 5409321 words, keeping 205535 word types\n",
      "2020-01-21 21:26:37,044 : INFO : PROGRESS: at sentence #760000, processed 5481512 words, keeping 207282 word types\n",
      "2020-01-21 21:26:37,095 : INFO : PROGRESS: at sentence #770000, processed 5554093 words, keeping 209076 word types\n",
      "2020-01-21 21:26:37,128 : INFO : PROGRESS: at sentence #780000, processed 5625382 words, keeping 210805 word types\n",
      "2020-01-21 21:26:37,164 : INFO : PROGRESS: at sentence #790000, processed 5698066 words, keeping 212618 word types\n",
      "2020-01-21 21:26:37,224 : INFO : PROGRESS: at sentence #800000, processed 5770880 words, keeping 214374 word types\n",
      "2020-01-21 21:26:37,263 : INFO : PROGRESS: at sentence #810000, processed 5843418 words, keeping 216009 word types\n",
      "2020-01-21 21:26:37,299 : INFO : PROGRESS: at sentence #820000, processed 5915628 words, keeping 217804 word types\n",
      "2020-01-21 21:26:37,342 : INFO : PROGRESS: at sentence #830000, processed 5987499 words, keeping 219585 word types\n",
      "2020-01-21 21:26:37,411 : INFO : PROGRESS: at sentence #840000, processed 6058973 words, keeping 221344 word types\n",
      "2020-01-21 21:26:37,461 : INFO : PROGRESS: at sentence #850000, processed 6131125 words, keeping 223002 word types\n",
      "2020-01-21 21:26:37,508 : INFO : PROGRESS: at sentence #860000, processed 6202951 words, keeping 224643 word types\n",
      "2020-01-21 21:26:37,544 : INFO : PROGRESS: at sentence #870000, processed 6275461 words, keeping 226362 word types\n",
      "2020-01-21 21:26:37,578 : INFO : PROGRESS: at sentence #880000, processed 6347661 words, keeping 227986 word types\n",
      "2020-01-21 21:26:37,607 : INFO : PROGRESS: at sentence #890000, processed 6419806 words, keeping 229634 word types\n",
      "2020-01-21 21:26:37,641 : INFO : PROGRESS: at sentence #900000, processed 6491644 words, keeping 231389 word types\n",
      "2020-01-21 21:26:37,674 : INFO : PROGRESS: at sentence #910000, processed 6564022 words, keeping 233050 word types\n",
      "2020-01-21 21:26:37,708 : INFO : PROGRESS: at sentence #920000, processed 6636228 words, keeping 234686 word types\n",
      "2020-01-21 21:26:37,738 : INFO : PROGRESS: at sentence #930000, processed 6708573 words, keeping 236393 word types\n",
      "2020-01-21 21:26:37,773 : INFO : PROGRESS: at sentence #940000, processed 6779956 words, keeping 238052 word types\n",
      "2020-01-21 21:26:37,804 : INFO : PROGRESS: at sentence #950000, processed 6852599 words, keeping 239716 word types\n",
      "2020-01-21 21:26:37,839 : INFO : PROGRESS: at sentence #960000, processed 6924717 words, keeping 241354 word types\n",
      "2020-01-21 21:26:37,872 : INFO : PROGRESS: at sentence #970000, processed 6996992 words, keeping 242980 word types\n",
      "2020-01-21 21:26:37,903 : INFO : PROGRESS: at sentence #980000, processed 7068402 words, keeping 244646 word types\n",
      "2020-01-21 21:26:37,937 : INFO : PROGRESS: at sentence #990000, processed 7140346 words, keeping 246186 word types\n",
      "2020-01-21 21:26:37,966 : INFO : PROGRESS: at sentence #1000000, processed 7211757 words, keeping 247726 word types\n",
      "2020-01-21 21:26:37,993 : INFO : PROGRESS: at sentence #1010000, processed 7283267 words, keeping 249288 word types\n",
      "2020-01-21 21:26:38,020 : INFO : PROGRESS: at sentence #1020000, processed 7355299 words, keeping 250860 word types\n",
      "2020-01-21 21:26:38,058 : INFO : PROGRESS: at sentence #1030000, processed 7426918 words, keeping 252366 word types\n",
      "2020-01-21 21:26:38,096 : INFO : PROGRESS: at sentence #1040000, processed 7498815 words, keeping 253930 word types\n",
      "2020-01-21 21:26:38,134 : INFO : PROGRESS: at sentence #1050000, processed 7570499 words, keeping 255471 word types\n",
      "2020-01-21 21:26:38,175 : INFO : PROGRESS: at sentence #1060000, processed 7643251 words, keeping 257035 word types\n",
      "2020-01-21 21:26:38,211 : INFO : PROGRESS: at sentence #1070000, processed 7714721 words, keeping 258509 word types\n",
      "2020-01-21 21:26:38,247 : INFO : PROGRESS: at sentence #1080000, processed 7787371 words, keeping 260071 word types\n",
      "2020-01-21 21:26:38,278 : INFO : PROGRESS: at sentence #1090000, processed 7859336 words, keeping 261683 word types\n",
      "2020-01-21 21:26:38,307 : INFO : PROGRESS: at sentence #1100000, processed 7932029 words, keeping 263278 word types\n",
      "2020-01-21 21:26:38,342 : INFO : PROGRESS: at sentence #1110000, processed 8004146 words, keeping 264800 word types\n",
      "2020-01-21 21:26:38,373 : INFO : PROGRESS: at sentence #1120000, processed 8075880 words, keeping 266309 word types\n",
      "2020-01-21 21:26:38,409 : INFO : PROGRESS: at sentence #1130000, processed 8148163 words, keeping 267826 word types\n",
      "2020-01-21 21:26:38,444 : INFO : PROGRESS: at sentence #1140000, processed 8220487 words, keeping 269391 word types\n",
      "2020-01-21 21:26:38,477 : INFO : PROGRESS: at sentence #1150000, processed 8292498 words, keeping 270894 word types\n",
      "2020-01-21 21:26:38,507 : INFO : PROGRESS: at sentence #1160000, processed 8363838 words, keeping 272400 word types\n",
      "2020-01-21 21:26:38,544 : INFO : PROGRESS: at sentence #1170000, processed 8435510 words, keeping 273970 word types\n",
      "2020-01-21 21:26:38,579 : INFO : PROGRESS: at sentence #1180000, processed 8507795 words, keeping 275521 word types\n",
      "2020-01-21 21:26:38,610 : INFO : PROGRESS: at sentence #1190000, processed 8579080 words, keeping 277007 word types\n",
      "2020-01-21 21:26:38,643 : INFO : PROGRESS: at sentence #1200000, processed 8650606 words, keeping 278457 word types\n",
      "2020-01-21 21:26:38,678 : INFO : PROGRESS: at sentence #1210000, processed 8721893 words, keeping 279959 word types\n",
      "2020-01-21 21:26:38,715 : INFO : PROGRESS: at sentence #1220000, processed 8793795 words, keeping 281427 word types\n",
      "2020-01-21 21:26:38,747 : INFO : PROGRESS: at sentence #1230000, processed 8865726 words, keeping 282981 word types\n",
      "2020-01-21 21:26:38,786 : INFO : PROGRESS: at sentence #1240000, processed 8938173 words, keeping 284542 word types\n",
      "2020-01-21 21:26:38,819 : INFO : PROGRESS: at sentence #1250000, processed 9010842 words, keeping 286064 word types\n",
      "2020-01-21 21:26:38,885 : INFO : PROGRESS: at sentence #1260000, processed 9083261 words, keeping 287521 word types\n",
      "2020-01-21 21:26:38,923 : INFO : PROGRESS: at sentence #1270000, processed 9155616 words, keeping 288987 word types\n",
      "2020-01-21 21:26:38,961 : INFO : collected 290418 word types from a corpus of 9227204 raw words and 1280000 sentences\n",
      "2020-01-21 21:26:38,961 : INFO : Loading a fresh vocabulary\n",
      "2020-01-21 21:26:39,233 : INFO : effective_min_count=10 retains 30369 unique words (10% of original 290418, drops 260049)\n",
      "2020-01-21 21:26:39,233 : INFO : effective_min_count=10 leaves 8780739 word corpus (95% of original 9227204, drops 446465)\n",
      "2020-01-21 21:26:39,396 : INFO : deleting the raw counts dictionary of 290418 items\n",
      "2020-01-21 21:26:39,405 : INFO : sample=0.001 downsamples 45 most-common words\n",
      "2020-01-21 21:26:39,405 : INFO : downsampling leaves estimated 8222658 word corpus (93.6% of prior 8780739)\n",
      "2020-01-21 21:26:39,552 : INFO : estimated required memory for 30369 words and 300 dimensions: 88070100 bytes\n",
      "2020-01-21 21:26:39,552 : INFO : resetting layer weights\n"
     ]
    }
   ],
   "source": [
    "w2v_model.build_vocab(documents)"
   ]
  },
  {
   "cell_type": "code",
   "execution_count": 22,
   "metadata": {
    "_uuid": "72a5628ca81fd4b8983c12d93ae0bf950b86b6ae"
   },
   "outputs": [],
   "source": [
    "# words = w2v_model.wv.vocab.keys()\n",
    "# vocab_size = len(words)\n",
    "# print(\"Vocab size\", vocab_size)\n"
   ]
  },
  {
   "cell_type": "code",
   "execution_count": 30,
   "metadata": {
    "_uuid": "68c3e4a5ba07cac3dee67f78ecdd1404c7f83f14"
   },
   "outputs": [
    {
     "name": "stderr",
     "output_type": "stream",
     "text": [
      "2020-01-21 21:26:50,062 : INFO : training model with 8 workers on 30369 vocabulary and 300 features, using sg=0 hs=0 sample=0.001 negative=5 window=7\n",
      "2020-01-21 21:26:51,112 : INFO : EPOCH 1 - PROGRESS: at 7.38% examples, 585300 words/s, in_qsize 14, out_qsize 1\n",
      "2020-01-21 21:26:52,133 : INFO : EPOCH 1 - PROGRESS: at 15.30% examples, 611086 words/s, in_qsize 16, out_qsize 0\n",
      "2020-01-21 21:26:53,139 : INFO : EPOCH 1 - PROGRESS: at 23.31% examples, 626466 words/s, in_qsize 15, out_qsize 0\n",
      "2020-01-21 21:26:54,138 : INFO : EPOCH 1 - PROGRESS: at 31.10% examples, 630072 words/s, in_qsize 15, out_qsize 0\n",
      "2020-01-21 21:26:55,146 : INFO : EPOCH 1 - PROGRESS: at 38.89% examples, 631415 words/s, in_qsize 14, out_qsize 1\n",
      "2020-01-21 21:26:56,145 : INFO : EPOCH 1 - PROGRESS: at 46.89% examples, 635839 words/s, in_qsize 15, out_qsize 0\n",
      "2020-01-21 21:26:57,148 : INFO : EPOCH 1 - PROGRESS: at 54.35% examples, 632744 words/s, in_qsize 14, out_qsize 1\n",
      "2020-01-21 21:26:58,161 : INFO : EPOCH 1 - PROGRESS: at 61.93% examples, 630446 words/s, in_qsize 14, out_qsize 1\n",
      "2020-01-21 21:26:59,186 : INFO : EPOCH 1 - PROGRESS: at 70.05% examples, 633005 words/s, in_qsize 15, out_qsize 0\n",
      "2020-01-21 21:27:00,254 : INFO : EPOCH 1 - PROGRESS: at 77.96% examples, 630315 words/s, in_qsize 14, out_qsize 2\n",
      "2020-01-21 21:27:01,265 : INFO : EPOCH 1 - PROGRESS: at 85.77% examples, 630807 words/s, in_qsize 16, out_qsize 0\n",
      "2020-01-21 21:27:02,277 : INFO : EPOCH 1 - PROGRESS: at 93.48% examples, 630217 words/s, in_qsize 16, out_qsize 0\n",
      "2020-01-21 21:27:02,960 : INFO : worker thread finished; awaiting finish of 7 more threads\n",
      "2020-01-21 21:27:02,964 : INFO : worker thread finished; awaiting finish of 6 more threads\n",
      "2020-01-21 21:27:02,969 : INFO : worker thread finished; awaiting finish of 5 more threads\n",
      "2020-01-21 21:27:02,972 : INFO : worker thread finished; awaiting finish of 4 more threads\n",
      "2020-01-21 21:27:02,979 : INFO : worker thread finished; awaiting finish of 3 more threads\n",
      "2020-01-21 21:27:02,985 : INFO : worker thread finished; awaiting finish of 2 more threads\n",
      "2020-01-21 21:27:03,000 : INFO : worker thread finished; awaiting finish of 1 more threads\n",
      "2020-01-21 21:27:03,003 : INFO : worker thread finished; awaiting finish of 0 more threads\n",
      "2020-01-21 21:27:03,004 : INFO : EPOCH - 1 : training on 9227204 raw words (8223767 effective words) took 12.9s, 636337 effective words/s\n",
      "2020-01-21 21:27:04,043 : INFO : EPOCH 2 - PROGRESS: at 7.28% examples, 581198 words/s, in_qsize 15, out_qsize 0\n",
      "2020-01-21 21:27:05,074 : INFO : EPOCH 2 - PROGRESS: at 15.41% examples, 614877 words/s, in_qsize 15, out_qsize 0\n",
      "2020-01-21 21:27:06,081 : INFO : EPOCH 2 - PROGRESS: at 23.09% examples, 619060 words/s, in_qsize 15, out_qsize 0\n",
      "2020-01-21 21:27:07,082 : INFO : EPOCH 2 - PROGRESS: at 31.21% examples, 630977 words/s, in_qsize 15, out_qsize 0\n",
      "2020-01-21 21:27:08,085 : INFO : EPOCH 2 - PROGRESS: at 39.43% examples, 640019 words/s, in_qsize 14, out_qsize 1\n",
      "2020-01-21 21:27:09,090 : INFO : EPOCH 2 - PROGRESS: at 47.21% examples, 639612 words/s, in_qsize 14, out_qsize 1\n",
      "2020-01-21 21:27:10,113 : INFO : EPOCH 2 - PROGRESS: at 54.78% examples, 635449 words/s, in_qsize 14, out_qsize 1\n",
      "2020-01-21 21:27:11,115 : INFO : EPOCH 2 - PROGRESS: at 62.68% examples, 637004 words/s, in_qsize 14, out_qsize 1\n",
      "2020-01-21 21:27:12,118 : INFO : EPOCH 2 - PROGRESS: at 71.13% examples, 643204 words/s, in_qsize 14, out_qsize 1\n",
      "2020-01-21 21:27:13,125 : INFO : EPOCH 2 - PROGRESS: at 79.38% examples, 646219 words/s, in_qsize 15, out_qsize 0\n",
      "2020-01-21 21:27:14,181 : INFO : EPOCH 2 - PROGRESS: at 87.40% examples, 644096 words/s, in_qsize 15, out_qsize 2\n",
      "2020-01-21 21:27:15,204 : INFO : EPOCH 2 - PROGRESS: at 95.55% examples, 644646 words/s, in_qsize 16, out_qsize 1\n",
      "2020-01-21 21:27:15,651 : INFO : worker thread finished; awaiting finish of 7 more threads\n",
      "2020-01-21 21:27:15,671 : INFO : worker thread finished; awaiting finish of 6 more threads\n",
      "2020-01-21 21:27:15,677 : INFO : worker thread finished; awaiting finish of 5 more threads\n",
      "2020-01-21 21:27:15,680 : INFO : worker thread finished; awaiting finish of 4 more threads\n",
      "2020-01-21 21:27:15,682 : INFO : worker thread finished; awaiting finish of 3 more threads\n",
      "2020-01-21 21:27:15,686 : INFO : worker thread finished; awaiting finish of 2 more threads\n",
      "2020-01-21 21:27:15,697 : INFO : worker thread finished; awaiting finish of 1 more threads\n",
      "2020-01-21 21:27:15,703 : INFO : worker thread finished; awaiting finish of 0 more threads\n",
      "2020-01-21 21:27:15,704 : INFO : EPOCH - 2 : training on 9227204 raw words (8223292 effective words) took 12.7s, 648256 effective words/s\n",
      "2020-01-21 21:27:16,723 : INFO : EPOCH 3 - PROGRESS: at 7.28% examples, 592548 words/s, in_qsize 13, out_qsize 2\n",
      "2020-01-21 21:27:17,765 : INFO : EPOCH 3 - PROGRESS: at 15.19% examples, 608859 words/s, in_qsize 15, out_qsize 0\n",
      "2020-01-21 21:27:18,779 : INFO : EPOCH 3 - PROGRESS: at 23.63% examples, 633743 words/s, in_qsize 16, out_qsize 0\n",
      "2020-01-21 21:27:19,782 : INFO : EPOCH 3 - PROGRESS: at 31.43% examples, 635356 words/s, in_qsize 16, out_qsize 0\n",
      "2020-01-21 21:27:20,814 : INFO : EPOCH 3 - PROGRESS: at 39.54% examples, 637692 words/s, in_qsize 16, out_qsize 1\n",
      "2020-01-21 21:27:21,817 : INFO : EPOCH 3 - PROGRESS: at 47.22% examples, 636560 words/s, in_qsize 14, out_qsize 1\n",
      "2020-01-21 21:27:22,821 : INFO : EPOCH 3 - PROGRESS: at 55.21% examples, 639593 words/s, in_qsize 15, out_qsize 1\n",
      "2020-01-21 21:27:23,850 : INFO : EPOCH 3 - PROGRESS: at 63.43% examples, 641999 words/s, in_qsize 14, out_qsize 1\n",
      "2020-01-21 21:27:24,873 : INFO : EPOCH 3 - PROGRESS: at 71.56% examples, 643187 words/s, in_qsize 16, out_qsize 0\n",
      "2020-01-21 21:27:25,897 : INFO : EPOCH 3 - PROGRESS: at 79.27% examples, 640405 words/s, in_qsize 16, out_qsize 1\n",
      "2020-01-21 21:27:26,897 : INFO : EPOCH 3 - PROGRESS: at 87.18% examples, 641242 words/s, in_qsize 15, out_qsize 0\n",
      "2020-01-21 21:27:27,913 : INFO : EPOCH 3 - PROGRESS: at 95.12% examples, 641227 words/s, in_qsize 15, out_qsize 0\n",
      "2020-01-21 21:27:28,413 : INFO : worker thread finished; awaiting finish of 7 more threads\n",
      "2020-01-21 21:27:28,421 : INFO : worker thread finished; awaiting finish of 6 more threads\n",
      "2020-01-21 21:27:28,426 : INFO : worker thread finished; awaiting finish of 5 more threads\n",
      "2020-01-21 21:27:28,438 : INFO : worker thread finished; awaiting finish of 4 more threads\n",
      "2020-01-21 21:27:28,439 : INFO : worker thread finished; awaiting finish of 3 more threads\n",
      "2020-01-21 21:27:28,443 : INFO : worker thread finished; awaiting finish of 2 more threads\n",
      "2020-01-21 21:27:28,455 : INFO : worker thread finished; awaiting finish of 1 more threads\n",
      "2020-01-21 21:27:28,457 : INFO : worker thread finished; awaiting finish of 0 more threads\n",
      "2020-01-21 21:27:28,457 : INFO : EPOCH - 3 : training on 9227204 raw words (8222936 effective words) took 12.7s, 645445 effective words/s\n",
      "2020-01-21 21:27:29,502 : INFO : EPOCH 4 - PROGRESS: at 7.28% examples, 581969 words/s, in_qsize 15, out_qsize 0\n",
      "2020-01-21 21:27:30,502 : INFO : EPOCH 4 - PROGRESS: at 14.76% examples, 597978 words/s, in_qsize 14, out_qsize 1\n",
      "2020-01-21 21:27:31,528 : INFO : EPOCH 4 - PROGRESS: at 22.66% examples, 610051 words/s, in_qsize 12, out_qsize 3\n",
      "2020-01-21 21:27:32,550 : INFO : EPOCH 4 - PROGRESS: at 30.46% examples, 614569 words/s, in_qsize 16, out_qsize 0\n",
      "2020-01-21 21:27:33,578 : INFO : EPOCH 4 - PROGRESS: at 38.57% examples, 621396 words/s, in_qsize 15, out_qsize 0\n",
      "2020-01-21 21:27:34,585 : INFO : EPOCH 4 - PROGRESS: at 46.46% examples, 625628 words/s, in_qsize 16, out_qsize 2\n",
      "2020-01-21 21:27:35,617 : INFO : EPOCH 4 - PROGRESS: at 54.46% examples, 627637 words/s, in_qsize 15, out_qsize 0\n",
      "2020-01-21 21:27:36,627 : INFO : EPOCH 4 - PROGRESS: at 62.46% examples, 630620 words/s, in_qsize 15, out_qsize 0\n",
      "2020-01-21 21:27:37,661 : INFO : EPOCH 4 - PROGRESS: at 70.05% examples, 627421 words/s, in_qsize 16, out_qsize 0\n",
      "2020-01-21 21:27:38,688 : INFO : EPOCH 4 - PROGRESS: at 78.07% examples, 628824 words/s, in_qsize 13, out_qsize 2\n",
      "2020-01-21 21:27:39,711 : INFO : EPOCH 4 - PROGRESS: at 85.98% examples, 629528 words/s, in_qsize 16, out_qsize 1\n",
      "2020-01-21 21:27:40,725 : INFO : EPOCH 4 - PROGRESS: at 93.92% examples, 630337 words/s, in_qsize 16, out_qsize 0\n"
     ]
    },
    {
     "name": "stderr",
     "output_type": "stream",
     "text": [
      "2020-01-21 21:27:41,401 : INFO : worker thread finished; awaiting finish of 7 more threads\n",
      "2020-01-21 21:27:41,416 : INFO : worker thread finished; awaiting finish of 6 more threads\n",
      "2020-01-21 21:27:41,421 : INFO : worker thread finished; awaiting finish of 5 more threads\n",
      "2020-01-21 21:27:41,423 : INFO : worker thread finished; awaiting finish of 4 more threads\n",
      "2020-01-21 21:27:41,437 : INFO : worker thread finished; awaiting finish of 3 more threads\n",
      "2020-01-21 21:27:41,440 : INFO : worker thread finished; awaiting finish of 2 more threads\n",
      "2020-01-21 21:27:41,448 : INFO : worker thread finished; awaiting finish of 1 more threads\n",
      "2020-01-21 21:27:41,452 : INFO : worker thread finished; awaiting finish of 0 more threads\n",
      "2020-01-21 21:27:41,452 : INFO : EPOCH - 4 : training on 9227204 raw words (8222143 effective words) took 13.0s, 633663 effective words/s\n",
      "2020-01-21 21:27:42,481 : INFO : EPOCH 5 - PROGRESS: at 7.06% examples, 571259 words/s, in_qsize 14, out_qsize 1\n",
      "2020-01-21 21:27:43,485 : INFO : EPOCH 5 - PROGRESS: at 14.97% examples, 608740 words/s, in_qsize 16, out_qsize 0\n",
      "2020-01-21 21:27:44,490 : INFO : EPOCH 5 - PROGRESS: at 22.76% examples, 619105 words/s, in_qsize 15, out_qsize 0\n",
      "2020-01-21 21:27:45,509 : INFO : EPOCH 5 - PROGRESS: at 30.46% examples, 619098 words/s, in_qsize 15, out_qsize 0\n",
      "2020-01-21 21:27:46,539 : INFO : EPOCH 5 - PROGRESS: at 38.46% examples, 623717 words/s, in_qsize 15, out_qsize 0\n",
      "2020-01-21 21:27:47,557 : INFO : EPOCH 5 - PROGRESS: at 46.46% examples, 627425 words/s, in_qsize 14, out_qsize 1\n",
      "2020-01-21 21:27:48,564 : INFO : EPOCH 5 - PROGRESS: at 54.03% examples, 626398 words/s, in_qsize 14, out_qsize 1\n",
      "2020-01-21 21:27:49,569 : INFO : EPOCH 5 - PROGRESS: at 62.03% examples, 630233 words/s, in_qsize 15, out_qsize 0\n",
      "2020-01-21 21:27:50,580 : INFO : EPOCH 5 - PROGRESS: at 69.94% examples, 631607 words/s, in_qsize 15, out_qsize 0\n",
      "2020-01-21 21:27:51,597 : INFO : EPOCH 5 - PROGRESS: at 77.85% examples, 632388 words/s, in_qsize 16, out_qsize 0\n",
      "2020-01-21 21:27:52,600 : INFO : EPOCH 5 - PROGRESS: at 85.55% examples, 632103 words/s, in_qsize 16, out_qsize 1\n",
      "2020-01-21 21:27:53,602 : INFO : EPOCH 5 - PROGRESS: at 93.37% examples, 632762 words/s, in_qsize 15, out_qsize 0\n",
      "2020-01-21 21:27:54,325 : INFO : worker thread finished; awaiting finish of 7 more threads\n",
      "2020-01-21 21:27:54,333 : INFO : worker thread finished; awaiting finish of 6 more threads\n",
      "2020-01-21 21:27:54,335 : INFO : worker thread finished; awaiting finish of 5 more threads\n",
      "2020-01-21 21:27:54,337 : INFO : worker thread finished; awaiting finish of 4 more threads\n",
      "2020-01-21 21:27:54,342 : INFO : worker thread finished; awaiting finish of 3 more threads\n",
      "2020-01-21 21:27:54,348 : INFO : worker thread finished; awaiting finish of 2 more threads\n",
      "2020-01-21 21:27:54,354 : INFO : worker thread finished; awaiting finish of 1 more threads\n",
      "2020-01-21 21:27:54,365 : INFO : worker thread finished; awaiting finish of 0 more threads\n",
      "2020-01-21 21:27:54,366 : INFO : EPOCH - 5 : training on 9227204 raw words (8223201 effective words) took 12.9s, 637589 effective words/s\n",
      "2020-01-21 21:27:55,389 : INFO : EPOCH 6 - PROGRESS: at 7.38% examples, 598219 words/s, in_qsize 15, out_qsize 0\n",
      "2020-01-21 21:27:56,416 : INFO : EPOCH 6 - PROGRESS: at 15.19% examples, 610885 words/s, in_qsize 15, out_qsize 0\n",
      "2020-01-21 21:27:57,420 : INFO : EPOCH 6 - PROGRESS: at 22.87% examples, 617471 words/s, in_qsize 15, out_qsize 0\n",
      "2020-01-21 21:27:58,421 : INFO : EPOCH 6 - PROGRESS: at 30.67% examples, 623028 words/s, in_qsize 15, out_qsize 0\n",
      "2020-01-21 21:27:59,448 : INFO : EPOCH 6 - PROGRESS: at 38.25% examples, 620062 words/s, in_qsize 15, out_qsize 0\n",
      "2020-01-21 21:28:00,464 : INFO : EPOCH 6 - PROGRESS: at 45.92% examples, 620247 words/s, in_qsize 15, out_qsize 0\n",
      "2020-01-21 21:28:01,479 : INFO : EPOCH 6 - PROGRESS: at 53.70% examples, 621934 words/s, in_qsize 15, out_qsize 0\n",
      "2020-01-21 21:28:02,480 : INFO : EPOCH 6 - PROGRESS: at 61.50% examples, 624273 words/s, in_qsize 15, out_qsize 0\n",
      "2020-01-21 21:28:03,502 : INFO : EPOCH 6 - PROGRESS: at 69.18% examples, 623829 words/s, in_qsize 15, out_qsize 3\n",
      "2020-01-21 21:28:04,514 : INFO : EPOCH 6 - PROGRESS: at 77.09% examples, 625484 words/s, in_qsize 16, out_qsize 0\n",
      "2020-01-21 21:28:05,540 : INFO : EPOCH 6 - PROGRESS: at 84.80% examples, 624821 words/s, in_qsize 13, out_qsize 2\n",
      "2020-01-21 21:28:06,560 : INFO : EPOCH 6 - PROGRESS: at 92.39% examples, 623710 words/s, in_qsize 15, out_qsize 1\n",
      "2020-01-21 21:28:07,393 : INFO : worker thread finished; awaiting finish of 7 more threads\n",
      "2020-01-21 21:28:07,409 : INFO : worker thread finished; awaiting finish of 6 more threads\n",
      "2020-01-21 21:28:07,414 : INFO : worker thread finished; awaiting finish of 5 more threads\n",
      "2020-01-21 21:28:07,417 : INFO : worker thread finished; awaiting finish of 4 more threads\n",
      "2020-01-21 21:28:07,421 : INFO : worker thread finished; awaiting finish of 3 more threads\n",
      "2020-01-21 21:28:07,433 : INFO : worker thread finished; awaiting finish of 2 more threads\n",
      "2020-01-21 21:28:07,442 : INFO : worker thread finished; awaiting finish of 1 more threads\n",
      "2020-01-21 21:28:07,447 : INFO : worker thread finished; awaiting finish of 0 more threads\n",
      "2020-01-21 21:28:07,447 : INFO : EPOCH - 6 : training on 9227204 raw words (8222354 effective words) took 13.1s, 629013 effective words/s\n",
      "2020-01-21 21:28:08,474 : INFO : EPOCH 7 - PROGRESS: at 7.06% examples, 571292 words/s, in_qsize 15, out_qsize 0\n",
      "2020-01-21 21:28:09,474 : INFO : EPOCH 7 - PROGRESS: at 15.08% examples, 614714 words/s, in_qsize 15, out_qsize 0\n",
      "2020-01-21 21:28:10,478 : INFO : EPOCH 7 - PROGRESS: at 22.44% examples, 611284 words/s, in_qsize 15, out_qsize 0\n",
      "2020-01-21 21:28:11,487 : INFO : EPOCH 7 - PROGRESS: at 30.45% examples, 622098 words/s, in_qsize 15, out_qsize 0\n",
      "2020-01-21 21:28:12,520 : INFO : EPOCH 7 - PROGRESS: at 38.25% examples, 621593 words/s, in_qsize 16, out_qsize 0\n",
      "2020-01-21 21:28:13,550 : INFO : EPOCH 7 - PROGRESS: at 46.13% examples, 623360 words/s, in_qsize 14, out_qsize 2\n",
      "2020-01-21 21:28:14,551 : INFO : EPOCH 7 - PROGRESS: at 54.03% examples, 626967 words/s, in_qsize 16, out_qsize 0\n",
      "2020-01-21 21:28:15,568 : INFO : EPOCH 7 - PROGRESS: at 61.82% examples, 627578 words/s, in_qsize 13, out_qsize 2\n",
      "2020-01-21 21:28:16,573 : INFO : EPOCH 7 - PROGRESS: at 69.72% examples, 629771 words/s, in_qsize 15, out_qsize 0\n",
      "2020-01-21 21:28:17,618 : INFO : EPOCH 7 - PROGRESS: at 77.74% examples, 629776 words/s, in_qsize 15, out_qsize 1\n",
      "2020-01-21 21:28:18,622 : INFO : EPOCH 7 - PROGRESS: at 85.55% examples, 630668 words/s, in_qsize 15, out_qsize 0\n",
      "2020-01-21 21:28:19,630 : INFO : EPOCH 7 - PROGRESS: at 93.37% examples, 631024 words/s, in_qsize 15, out_qsize 0\n",
      "2020-01-21 21:28:20,374 : INFO : worker thread finished; awaiting finish of 7 more threads\n",
      "2020-01-21 21:28:20,376 : INFO : worker thread finished; awaiting finish of 6 more threads\n",
      "2020-01-21 21:28:20,380 : INFO : worker thread finished; awaiting finish of 5 more threads\n",
      "2020-01-21 21:28:20,381 : INFO : worker thread finished; awaiting finish of 4 more threads\n",
      "2020-01-21 21:28:20,389 : INFO : worker thread finished; awaiting finish of 3 more threads\n",
      "2020-01-21 21:28:20,396 : INFO : worker thread finished; awaiting finish of 2 more threads\n",
      "2020-01-21 21:28:20,406 : INFO : worker thread finished; awaiting finish of 1 more threads\n",
      "2020-01-21 21:28:20,408 : INFO : worker thread finished; awaiting finish of 0 more threads\n",
      "2020-01-21 21:28:20,408 : INFO : EPOCH - 7 : training on 9227204 raw words (8222902 effective words) took 12.9s, 635229 effective words/s\n",
      "2020-01-21 21:28:21,431 : INFO : EPOCH 8 - PROGRESS: at 6.94% examples, 567067 words/s, in_qsize 16, out_qsize 1\n",
      "2020-01-21 21:28:22,457 : INFO : EPOCH 8 - PROGRESS: at 14.75% examples, 596202 words/s, in_qsize 14, out_qsize 1\n",
      "2020-01-21 21:28:23,495 : INFO : EPOCH 8 - PROGRESS: at 22.98% examples, 615181 words/s, in_qsize 15, out_qsize 0\n",
      "2020-01-21 21:28:24,498 : INFO : EPOCH 8 - PROGRESS: at 30.67% examples, 619134 words/s, in_qsize 15, out_qsize 0\n",
      "2020-01-21 21:28:25,511 : INFO : EPOCH 8 - PROGRESS: at 38.35% examples, 620031 words/s, in_qsize 15, out_qsize 0\n",
      "2020-01-21 21:28:26,535 : INFO : EPOCH 8 - PROGRESS: at 46.24% examples, 622533 words/s, in_qsize 14, out_qsize 3\n"
     ]
    },
    {
     "name": "stderr",
     "output_type": "stream",
     "text": [
      "2020-01-21 21:28:27,546 : INFO : EPOCH 8 - PROGRESS: at 54.14% examples, 625833 words/s, in_qsize 15, out_qsize 0\n",
      "2020-01-21 21:28:28,549 : INFO : EPOCH 8 - PROGRESS: at 61.93% examples, 627445 words/s, in_qsize 16, out_qsize 0\n",
      "2020-01-21 21:28:29,566 : INFO : EPOCH 8 - PROGRESS: at 69.61% examples, 626907 words/s, in_qsize 14, out_qsize 2\n",
      "2020-01-21 21:28:30,568 : INFO : EPOCH 8 - PROGRESS: at 77.42% examples, 627952 words/s, in_qsize 13, out_qsize 2\n",
      "2020-01-21 21:28:31,574 : INFO : EPOCH 8 - PROGRESS: at 85.34% examples, 629757 words/s, in_qsize 16, out_qsize 0\n",
      "2020-01-21 21:28:32,593 : INFO : EPOCH 8 - PROGRESS: at 93.05% examples, 628922 words/s, in_qsize 16, out_qsize 0\n",
      "2020-01-21 21:28:33,372 : INFO : worker thread finished; awaiting finish of 7 more threads\n",
      "2020-01-21 21:28:33,378 : INFO : worker thread finished; awaiting finish of 6 more threads\n",
      "2020-01-21 21:28:33,384 : INFO : worker thread finished; awaiting finish of 5 more threads\n",
      "2020-01-21 21:28:33,386 : INFO : worker thread finished; awaiting finish of 4 more threads\n",
      "2020-01-21 21:28:33,402 : INFO : worker thread finished; awaiting finish of 3 more threads\n",
      "2020-01-21 21:28:33,406 : INFO : worker thread finished; awaiting finish of 2 more threads\n",
      "2020-01-21 21:28:33,418 : INFO : worker thread finished; awaiting finish of 1 more threads\n",
      "2020-01-21 21:28:33,424 : INFO : worker thread finished; awaiting finish of 0 more threads\n",
      "2020-01-21 21:28:33,425 : INFO : EPOCH - 8 : training on 9227204 raw words (8222876 effective words) took 13.0s, 632657 effective words/s\n",
      "2020-01-21 21:28:34,444 : INFO : EPOCH 9 - PROGRESS: at 7.38% examples, 604475 words/s, in_qsize 15, out_qsize 0\n",
      "2020-01-21 21:28:35,453 : INFO : EPOCH 9 - PROGRESS: at 14.97% examples, 611945 words/s, in_qsize 16, out_qsize 1\n",
      "2020-01-21 21:28:36,452 : INFO : EPOCH 9 - PROGRESS: at 22.76% examples, 621481 words/s, in_qsize 16, out_qsize 0\n",
      "2020-01-21 21:28:37,451 : INFO : EPOCH 9 - PROGRESS: at 30.46% examples, 624223 words/s, in_qsize 14, out_qsize 1\n",
      "2020-01-21 21:28:38,514 : INFO : EPOCH 9 - PROGRESS: at 38.35% examples, 621856 words/s, in_qsize 16, out_qsize 0\n",
      "2020-01-21 21:28:39,537 : INFO : EPOCH 9 - PROGRESS: at 46.35% examples, 625390 words/s, in_qsize 16, out_qsize 0\n",
      "2020-01-21 21:28:40,569 : INFO : EPOCH 9 - PROGRESS: at 54.56% examples, 629893 words/s, in_qsize 14, out_qsize 1\n",
      "2020-01-21 21:28:41,569 : INFO : EPOCH 9 - PROGRESS: at 62.36% examples, 631307 words/s, in_qsize 16, out_qsize 2\n",
      "2020-01-21 21:28:42,593 : INFO : EPOCH 9 - PROGRESS: at 70.37% examples, 632753 words/s, in_qsize 13, out_qsize 2\n",
      "2020-01-21 21:28:43,627 : INFO : EPOCH 9 - PROGRESS: at 78.40% examples, 633295 words/s, in_qsize 15, out_qsize 0\n",
      "2020-01-21 21:28:44,661 : INFO : EPOCH 9 - PROGRESS: at 86.31% examples, 632891 words/s, in_qsize 16, out_qsize 2\n",
      "2020-01-21 21:28:45,675 : INFO : EPOCH 9 - PROGRESS: at 94.36% examples, 634084 words/s, in_qsize 16, out_qsize 1\n",
      "2020-01-21 21:28:46,264 : INFO : worker thread finished; awaiting finish of 7 more threads\n",
      "2020-01-21 21:28:46,274 : INFO : worker thread finished; awaiting finish of 6 more threads\n",
      "2020-01-21 21:28:46,285 : INFO : worker thread finished; awaiting finish of 5 more threads\n",
      "2020-01-21 21:28:46,287 : INFO : worker thread finished; awaiting finish of 4 more threads\n",
      "2020-01-21 21:28:46,298 : INFO : worker thread finished; awaiting finish of 3 more threads\n",
      "2020-01-21 21:28:46,302 : INFO : worker thread finished; awaiting finish of 2 more threads\n",
      "2020-01-21 21:28:46,310 : INFO : worker thread finished; awaiting finish of 1 more threads\n",
      "2020-01-21 21:28:46,317 : INFO : worker thread finished; awaiting finish of 0 more threads\n",
      "2020-01-21 21:28:46,318 : INFO : EPOCH - 9 : training on 9227204 raw words (8221971 effective words) took 12.9s, 638584 effective words/s\n",
      "2020-01-21 21:28:47,355 : INFO : EPOCH 10 - PROGRESS: at 7.27% examples, 583005 words/s, in_qsize 15, out_qsize 0\n",
      "2020-01-21 21:28:48,364 : INFO : EPOCH 10 - PROGRESS: at 15.08% examples, 609422 words/s, in_qsize 16, out_qsize 0\n",
      "2020-01-21 21:28:49,383 : INFO : EPOCH 10 - PROGRESS: at 22.76% examples, 613602 words/s, in_qsize 14, out_qsize 1\n",
      "2020-01-21 21:28:50,388 : INFO : EPOCH 10 - PROGRESS: at 30.46% examples, 617122 words/s, in_qsize 15, out_qsize 0\n",
      "2020-01-21 21:28:51,439 : INFO : EPOCH 10 - PROGRESS: at 38.46% examples, 619323 words/s, in_qsize 16, out_qsize 1\n",
      "2020-01-21 21:28:52,455 : INFO : EPOCH 10 - PROGRESS: at 46.57% examples, 625857 words/s, in_qsize 16, out_qsize 0\n",
      "2020-01-21 21:28:53,452 : INFO : EPOCH 10 - PROGRESS: at 54.03% examples, 624322 words/s, in_qsize 15, out_qsize 0\n",
      "2020-01-21 21:28:54,455 : INFO : EPOCH 10 - PROGRESS: at 61.82% examples, 626409 words/s, in_qsize 14, out_qsize 1\n",
      "2020-01-21 21:28:55,478 : INFO : EPOCH 10 - PROGRESS: at 71.02% examples, 639172 words/s, in_qsize 15, out_qsize 0\n",
      "2020-01-21 21:28:56,504 : INFO : EPOCH 10 - PROGRESS: at 78.84% examples, 637717 words/s, in_qsize 16, out_qsize 1\n",
      "2020-01-21 21:28:57,506 : INFO : EPOCH 10 - PROGRESS: at 86.64% examples, 637836 words/s, in_qsize 13, out_qsize 2\n",
      "2020-01-21 21:28:58,528 : INFO : EPOCH 10 - PROGRESS: at 94.68% examples, 638354 words/s, in_qsize 15, out_qsize 0\n",
      "2020-01-21 21:28:59,060 : INFO : worker thread finished; awaiting finish of 7 more threads\n",
      "2020-01-21 21:28:59,076 : INFO : worker thread finished; awaiting finish of 6 more threads\n",
      "2020-01-21 21:28:59,081 : INFO : worker thread finished; awaiting finish of 5 more threads\n",
      "2020-01-21 21:28:59,085 : INFO : worker thread finished; awaiting finish of 4 more threads\n",
      "2020-01-21 21:28:59,088 : INFO : worker thread finished; awaiting finish of 3 more threads\n",
      "2020-01-21 21:28:59,094 : INFO : worker thread finished; awaiting finish of 2 more threads\n",
      "2020-01-21 21:28:59,108 : INFO : worker thread finished; awaiting finish of 1 more threads\n",
      "2020-01-21 21:28:59,116 : INFO : worker thread finished; awaiting finish of 0 more threads\n",
      "2020-01-21 21:28:59,117 : INFO : EPOCH - 10 : training on 9227204 raw words (8222405 effective words) took 12.8s, 643238 effective words/s\n",
      "2020-01-21 21:29:00,137 : INFO : EPOCH 11 - PROGRESS: at 7.17% examples, 585148 words/s, in_qsize 13, out_qsize 2\n",
      "2020-01-21 21:29:01,182 : INFO : EPOCH 11 - PROGRESS: at 15.19% examples, 608311 words/s, in_qsize 16, out_qsize 0\n",
      "2020-01-21 21:29:02,191 : INFO : EPOCH 11 - PROGRESS: at 23.31% examples, 625810 words/s, in_qsize 14, out_qsize 1\n",
      "2020-01-21 21:29:03,195 : INFO : EPOCH 11 - PROGRESS: at 30.78% examples, 622423 words/s, in_qsize 15, out_qsize 0\n",
      "2020-01-21 21:29:04,204 : INFO : EPOCH 11 - PROGRESS: at 38.67% examples, 626854 words/s, in_qsize 15, out_qsize 0\n",
      "2020-01-21 21:29:05,231 : INFO : EPOCH 11 - PROGRESS: at 46.67% examples, 629588 words/s, in_qsize 15, out_qsize 0\n",
      "2020-01-21 21:29:06,262 : INFO : EPOCH 11 - PROGRESS: at 54.67% examples, 631063 words/s, in_qsize 15, out_qsize 0\n",
      "2020-01-21 21:29:07,272 : INFO : EPOCH 11 - PROGRESS: at 62.36% examples, 630509 words/s, in_qsize 14, out_qsize 1\n",
      "2020-01-21 21:29:08,308 : INFO : EPOCH 11 - PROGRESS: at 70.48% examples, 631887 words/s, in_qsize 15, out_qsize 0\n",
      "2020-01-21 21:29:09,327 : INFO : EPOCH 11 - PROGRESS: at 78.51% examples, 633456 words/s, in_qsize 15, out_qsize 0\n",
      "2020-01-21 21:29:10,331 : INFO : EPOCH 11 - PROGRESS: at 86.10% examples, 632425 words/s, in_qsize 16, out_qsize 0\n",
      "2020-01-21 21:29:11,345 : INFO : EPOCH 11 - PROGRESS: at 93.92% examples, 632358 words/s, in_qsize 13, out_qsize 2\n",
      "2020-01-21 21:29:11,975 : INFO : worker thread finished; awaiting finish of 7 more threads\n",
      "2020-01-21 21:29:11,990 : INFO : worker thread finished; awaiting finish of 6 more threads\n",
      "2020-01-21 21:29:11,995 : INFO : worker thread finished; awaiting finish of 5 more threads\n",
      "2020-01-21 21:29:11,999 : INFO : worker thread finished; awaiting finish of 4 more threads\n",
      "2020-01-21 21:29:12,012 : INFO : worker thread finished; awaiting finish of 3 more threads\n",
      "2020-01-21 21:29:12,018 : INFO : worker thread finished; awaiting finish of 2 more threads\n",
      "2020-01-21 21:29:12,021 : INFO : worker thread finished; awaiting finish of 1 more threads\n",
      "2020-01-21 21:29:12,029 : INFO : worker thread finished; awaiting finish of 0 more threads\n",
      "2020-01-21 21:29:12,029 : INFO : EPOCH - 11 : training on 9227204 raw words (8222804 effective words) took 12.9s, 637608 effective words/s\n"
     ]
    },
    {
     "name": "stderr",
     "output_type": "stream",
     "text": [
      "2020-01-21 21:29:13,076 : INFO : EPOCH 12 - PROGRESS: at 7.28% examples, 577375 words/s, in_qsize 15, out_qsize 0\n",
      "2020-01-21 21:29:14,077 : INFO : EPOCH 12 - PROGRESS: at 15.41% examples, 621305 words/s, in_qsize 15, out_qsize 0\n",
      "2020-01-21 21:29:15,096 : INFO : EPOCH 12 - PROGRESS: at 23.20% examples, 624040 words/s, in_qsize 16, out_qsize 1\n",
      "2020-01-21 21:29:16,113 : INFO : EPOCH 12 - PROGRESS: at 30.89% examples, 623448 words/s, in_qsize 15, out_qsize 1\n",
      "2020-01-21 21:29:17,134 : INFO : EPOCH 12 - PROGRESS: at 38.89% examples, 628026 words/s, in_qsize 16, out_qsize 1\n",
      "2020-01-21 21:29:18,135 : INFO : EPOCH 12 - PROGRESS: at 46.67% examples, 630135 words/s, in_qsize 16, out_qsize 1\n",
      "2020-01-21 21:29:19,158 : INFO : EPOCH 12 - PROGRESS: at 54.45% examples, 629883 words/s, in_qsize 16, out_qsize 0\n",
      "2020-01-21 21:29:20,176 : INFO : EPOCH 12 - PROGRESS: at 62.57% examples, 633130 words/s, in_qsize 15, out_qsize 0\n",
      "2020-01-21 21:29:21,175 : INFO : EPOCH 12 - PROGRESS: at 70.37% examples, 633924 words/s, in_qsize 14, out_qsize 1\n",
      "2020-01-21 21:29:22,179 : INFO : EPOCH 12 - PROGRESS: at 77.96% examples, 632576 words/s, in_qsize 16, out_qsize 1\n",
      "2020-01-21 21:29:23,196 : INFO : EPOCH 12 - PROGRESS: at 85.56% examples, 630954 words/s, in_qsize 15, out_qsize 0\n",
      "2020-01-21 21:29:24,213 : INFO : EPOCH 12 - PROGRESS: at 93.48% examples, 631508 words/s, in_qsize 13, out_qsize 2\n",
      "2020-01-21 21:29:24,947 : INFO : worker thread finished; awaiting finish of 7 more threads\n",
      "2020-01-21 21:29:24,948 : INFO : worker thread finished; awaiting finish of 6 more threads\n",
      "2020-01-21 21:29:24,952 : INFO : worker thread finished; awaiting finish of 5 more threads\n",
      "2020-01-21 21:29:24,968 : INFO : worker thread finished; awaiting finish of 4 more threads\n",
      "2020-01-21 21:29:24,972 : INFO : worker thread finished; awaiting finish of 3 more threads\n",
      "2020-01-21 21:29:24,982 : INFO : worker thread finished; awaiting finish of 2 more threads\n",
      "2020-01-21 21:29:24,986 : INFO : worker thread finished; awaiting finish of 1 more threads\n",
      "2020-01-21 21:29:24,986 : INFO : worker thread finished; awaiting finish of 0 more threads\n",
      "2020-01-21 21:29:24,989 : INFO : EPOCH - 12 : training on 9227204 raw words (8221977 effective words) took 12.9s, 635086 effective words/s\n",
      "2020-01-21 21:29:26,036 : INFO : EPOCH 13 - PROGRESS: at 7.27% examples, 595394 words/s, in_qsize 14, out_qsize 1\n",
      "2020-01-21 21:29:27,063 : INFO : EPOCH 13 - PROGRESS: at 15.19% examples, 614537 words/s, in_qsize 15, out_qsize 0\n",
      "2020-01-21 21:29:28,070 : INFO : EPOCH 13 - PROGRESS: at 22.76% examples, 616642 words/s, in_qsize 16, out_qsize 1\n",
      "2020-01-21 21:29:29,070 : INFO : EPOCH 13 - PROGRESS: at 30.56% examples, 622517 words/s, in_qsize 15, out_qsize 0\n",
      "2020-01-21 21:29:30,128 : INFO : EPOCH 13 - PROGRESS: at 38.35% examples, 619094 words/s, in_qsize 15, out_qsize 0\n",
      "2020-01-21 21:29:31,149 : INFO : EPOCH 13 - PROGRESS: at 46.24% examples, 622241 words/s, in_qsize 16, out_qsize 0\n",
      "2020-01-21 21:29:32,161 : INFO : EPOCH 13 - PROGRESS: at 54.03% examples, 623999 words/s, in_qsize 15, out_qsize 0\n",
      "2020-01-21 21:29:33,187 : INFO : EPOCH 13 - PROGRESS: at 62.03% examples, 626133 words/s, in_qsize 15, out_qsize 0\n",
      "2020-01-21 21:29:34,215 : INFO : EPOCH 13 - PROGRESS: at 70.05% examples, 627966 words/s, in_qsize 16, out_qsize 0\n",
      "2020-01-21 21:29:35,239 : INFO : EPOCH 13 - PROGRESS: at 78.07% examples, 629553 words/s, in_qsize 15, out_qsize 1\n",
      "2020-01-21 21:29:36,244 : INFO : EPOCH 13 - PROGRESS: at 85.99% examples, 630977 words/s, in_qsize 16, out_qsize 0\n",
      "2020-01-21 21:29:37,266 : INFO : EPOCH 13 - PROGRESS: at 93.70% examples, 630087 words/s, in_qsize 15, out_qsize 0\n",
      "2020-01-21 21:29:37,951 : INFO : worker thread finished; awaiting finish of 7 more threads\n",
      "2020-01-21 21:29:37,961 : INFO : worker thread finished; awaiting finish of 6 more threads\n",
      "2020-01-21 21:29:37,966 : INFO : worker thread finished; awaiting finish of 5 more threads\n",
      "2020-01-21 21:29:37,970 : INFO : worker thread finished; awaiting finish of 4 more threads\n",
      "2020-01-21 21:29:37,970 : INFO : worker thread finished; awaiting finish of 3 more threads\n",
      "2020-01-21 21:29:37,981 : INFO : worker thread finished; awaiting finish of 2 more threads\n",
      "2020-01-21 21:29:37,988 : INFO : worker thread finished; awaiting finish of 1 more threads\n",
      "2020-01-21 21:29:37,992 : INFO : worker thread finished; awaiting finish of 0 more threads\n",
      "2020-01-21 21:29:37,992 : INFO : EPOCH - 13 : training on 9227204 raw words (8223286 effective words) took 13.0s, 634621 effective words/s\n",
      "2020-01-21 21:29:39,036 : INFO : EPOCH 14 - PROGRESS: at 6.95% examples, 554645 words/s, in_qsize 15, out_qsize 0\n",
      "2020-01-21 21:29:40,036 : INFO : EPOCH 14 - PROGRESS: at 14.97% examples, 605965 words/s, in_qsize 15, out_qsize 0\n",
      "2020-01-21 21:29:41,044 : INFO : EPOCH 14 - PROGRESS: at 22.54% examples, 610332 words/s, in_qsize 16, out_qsize 0\n",
      "2020-01-21 21:29:42,053 : INFO : EPOCH 14 - PROGRESS: at 29.91% examples, 607790 words/s, in_qsize 14, out_qsize 1\n",
      "2020-01-21 21:29:43,065 : INFO : EPOCH 14 - PROGRESS: at 38.03% examples, 618029 words/s, in_qsize 16, out_qsize 1\n",
      "2020-01-21 21:29:44,081 : INFO : EPOCH 14 - PROGRESS: at 45.59% examples, 617654 words/s, in_qsize 14, out_qsize 1\n",
      "2020-01-21 21:29:45,091 : INFO : EPOCH 14 - PROGRESS: at 53.70% examples, 623983 words/s, in_qsize 15, out_qsize 0\n",
      "2020-01-21 21:29:46,113 : INFO : EPOCH 14 - PROGRESS: at 61.06% examples, 620093 words/s, in_qsize 16, out_qsize 2\n",
      "2020-01-21 21:29:47,111 : INFO : EPOCH 14 - PROGRESS: at 68.75% examples, 621431 words/s, in_qsize 13, out_qsize 2\n",
      "2020-01-21 21:29:48,114 : INFO : EPOCH 14 - PROGRESS: at 76.55% examples, 623348 words/s, in_qsize 15, out_qsize 0\n",
      "2020-01-21 21:29:49,119 : INFO : EPOCH 14 - PROGRESS: at 84.48% examples, 625334 words/s, in_qsize 14, out_qsize 1\n",
      "2020-01-21 21:29:50,136 : INFO : EPOCH 14 - PROGRESS: at 91.96% examples, 623552 words/s, in_qsize 15, out_qsize 0\n",
      "2020-01-21 21:29:51,047 : INFO : worker thread finished; awaiting finish of 7 more threads\n",
      "2020-01-21 21:29:51,048 : INFO : worker thread finished; awaiting finish of 6 more threads\n",
      "2020-01-21 21:29:51,056 : INFO : worker thread finished; awaiting finish of 5 more threads\n",
      "2020-01-21 21:29:51,061 : INFO : worker thread finished; awaiting finish of 4 more threads\n",
      "2020-01-21 21:29:51,061 : INFO : worker thread finished; awaiting finish of 3 more threads\n",
      "2020-01-21 21:29:51,074 : INFO : worker thread finished; awaiting finish of 2 more threads\n",
      "2020-01-21 21:29:51,080 : INFO : worker thread finished; awaiting finish of 1 more threads\n",
      "2020-01-21 21:29:51,085 : INFO : worker thread finished; awaiting finish of 0 more threads\n",
      "2020-01-21 21:29:51,086 : INFO : EPOCH - 14 : training on 9227204 raw words (8223611 effective words) took 13.1s, 628796 effective words/s\n",
      "2020-01-21 21:29:52,129 : INFO : EPOCH 15 - PROGRESS: at 7.38% examples, 585843 words/s, in_qsize 15, out_qsize 0\n",
      "2020-01-21 21:29:53,137 : INFO : EPOCH 15 - PROGRESS: at 15.19% examples, 611669 words/s, in_qsize 14, out_qsize 1\n",
      "2020-01-21 21:29:54,171 : INFO : EPOCH 15 - PROGRESS: at 23.31% examples, 622823 words/s, in_qsize 15, out_qsize 0\n",
      "2020-01-21 21:29:55,180 : INFO : EPOCH 15 - PROGRESS: at 31.32% examples, 630470 words/s, in_qsize 15, out_qsize 0\n",
      "2020-01-21 21:29:56,194 : INFO : EPOCH 15 - PROGRESS: at 39.22% examples, 632665 words/s, in_qsize 15, out_qsize 0\n",
      "2020-01-21 21:29:57,200 : INFO : EPOCH 15 - PROGRESS: at 47.21% examples, 636468 words/s, in_qsize 14, out_qsize 1\n",
      "2020-01-21 21:29:58,220 : INFO : EPOCH 15 - PROGRESS: at 54.99% examples, 635204 words/s, in_qsize 14, out_qsize 1\n",
      "2020-01-21 21:29:59,229 : INFO : EPOCH 15 - PROGRESS: at 62.68% examples, 634180 words/s, in_qsize 14, out_qsize 1\n",
      "2020-01-21 21:30:00,239 : INFO : EPOCH 15 - PROGRESS: at 70.26% examples, 632368 words/s, in_qsize 16, out_qsize 1\n",
      "2020-01-21 21:30:01,247 : INFO : EPOCH 15 - PROGRESS: at 78.29% examples, 634561 words/s, in_qsize 15, out_qsize 0\n",
      "2020-01-21 21:30:02,258 : INFO : EPOCH 15 - PROGRESS: at 85.88% examples, 632792 words/s, in_qsize 16, out_qsize 0\n",
      "2020-01-21 21:30:03,267 : INFO : EPOCH 15 - PROGRESS: at 93.81% examples, 633745 words/s, in_qsize 15, out_qsize 0\n",
      "2020-01-21 21:30:03,960 : INFO : worker thread finished; awaiting finish of 7 more threads\n"
     ]
    },
    {
     "name": "stderr",
     "output_type": "stream",
     "text": [
      "2020-01-21 21:30:03,967 : INFO : worker thread finished; awaiting finish of 6 more threads\n",
      "2020-01-21 21:30:03,973 : INFO : worker thread finished; awaiting finish of 5 more threads\n",
      "2020-01-21 21:30:03,976 : INFO : worker thread finished; awaiting finish of 4 more threads\n",
      "2020-01-21 21:30:03,986 : INFO : worker thread finished; awaiting finish of 3 more threads\n",
      "2020-01-21 21:30:03,989 : INFO : worker thread finished; awaiting finish of 2 more threads\n",
      "2020-01-21 21:30:03,993 : INFO : worker thread finished; awaiting finish of 1 more threads\n",
      "2020-01-21 21:30:04,005 : INFO : worker thread finished; awaiting finish of 0 more threads\n",
      "2020-01-21 21:30:04,005 : INFO : EPOCH - 15 : training on 9227204 raw words (8222505 effective words) took 12.9s, 636941 effective words/s\n",
      "2020-01-21 21:30:05,020 : INFO : EPOCH 16 - PROGRESS: at 7.17% examples, 587667 words/s, in_qsize 15, out_qsize 0\n",
      "2020-01-21 21:30:06,038 : INFO : EPOCH 16 - PROGRESS: at 14.97% examples, 609099 words/s, in_qsize 14, out_qsize 1\n",
      "2020-01-21 21:30:07,046 : INFO : EPOCH 16 - PROGRESS: at 22.87% examples, 621016 words/s, in_qsize 16, out_qsize 0\n",
      "2020-01-21 21:30:08,067 : INFO : EPOCH 16 - PROGRESS: at 30.78% examples, 625097 words/s, in_qsize 14, out_qsize 1\n",
      "2020-01-21 21:30:09,074 : INFO : EPOCH 16 - PROGRESS: at 38.78% examples, 631130 words/s, in_qsize 16, out_qsize 1\n",
      "2020-01-21 21:30:10,090 : INFO : EPOCH 16 - PROGRESS: at 46.57% examples, 630949 words/s, in_qsize 16, out_qsize 0\n",
      "2020-01-21 21:30:11,104 : INFO : EPOCH 16 - PROGRESS: at 54.46% examples, 632562 words/s, in_qsize 15, out_qsize 0\n",
      "2020-01-21 21:30:12,113 : INFO : EPOCH 16 - PROGRESS: at 62.03% examples, 630787 words/s, in_qsize 16, out_qsize 0\n",
      "2020-01-21 21:30:13,122 : INFO : EPOCH 16 - PROGRESS: at 69.83% examples, 631368 words/s, in_qsize 16, out_qsize 1\n",
      "2020-01-21 21:30:14,140 : INFO : EPOCH 16 - PROGRESS: at 77.96% examples, 633872 words/s, in_qsize 15, out_qsize 0\n",
      "2020-01-21 21:30:15,156 : INFO : EPOCH 16 - PROGRESS: at 85.77% examples, 633595 words/s, in_qsize 15, out_qsize 0\n",
      "2020-01-21 21:30:16,170 : INFO : EPOCH 16 - PROGRESS: at 93.48% examples, 632844 words/s, in_qsize 16, out_qsize 1\n",
      "2020-01-21 21:30:16,879 : INFO : worker thread finished; awaiting finish of 7 more threads\n",
      "2020-01-21 21:30:16,886 : INFO : worker thread finished; awaiting finish of 6 more threads\n",
      "2020-01-21 21:30:16,888 : INFO : worker thread finished; awaiting finish of 5 more threads\n",
      "2020-01-21 21:30:16,894 : INFO : worker thread finished; awaiting finish of 4 more threads\n",
      "2020-01-21 21:30:16,898 : INFO : worker thread finished; awaiting finish of 3 more threads\n",
      "2020-01-21 21:30:16,905 : INFO : worker thread finished; awaiting finish of 2 more threads\n",
      "2020-01-21 21:30:16,915 : INFO : worker thread finished; awaiting finish of 1 more threads\n",
      "2020-01-21 21:30:16,923 : INFO : worker thread finished; awaiting finish of 0 more threads\n",
      "2020-01-21 21:30:16,925 : INFO : EPOCH - 16 : training on 9227204 raw words (8222798 effective words) took 12.9s, 637267 effective words/s\n",
      "2020-01-21 21:30:17,971 : INFO : EPOCH 17 - PROGRESS: at 7.27% examples, 580238 words/s, in_qsize 16, out_qsize 0\n",
      "2020-01-21 21:30:18,973 : INFO : EPOCH 17 - PROGRESS: at 15.41% examples, 622573 words/s, in_qsize 15, out_qsize 0\n",
      "2020-01-21 21:30:20,001 : INFO : EPOCH 17 - PROGRESS: at 23.31% examples, 626395 words/s, in_qsize 16, out_qsize 0\n",
      "2020-01-21 21:30:21,001 : INFO : EPOCH 17 - PROGRESS: at 31.10% examples, 630005 words/s, in_qsize 15, out_qsize 0\n",
      "2020-01-21 21:30:22,009 : INFO : EPOCH 17 - PROGRESS: at 39.00% examples, 633054 words/s, in_qsize 16, out_qsize 1\n",
      "2020-01-21 21:30:23,025 : INFO : EPOCH 17 - PROGRESS: at 46.78% examples, 632764 words/s, in_qsize 15, out_qsize 0\n",
      "2020-01-21 21:30:24,053 : INFO : EPOCH 17 - PROGRESS: at 54.78% examples, 634126 words/s, in_qsize 15, out_qsize 0\n",
      "2020-01-21 21:30:25,073 : INFO : EPOCH 17 - PROGRESS: at 62.47% examples, 632226 words/s, in_qsize 15, out_qsize 0\n",
      "2020-01-21 21:30:26,087 : INFO : EPOCH 17 - PROGRESS: at 70.37% examples, 633269 words/s, in_qsize 14, out_qsize 1\n",
      "2020-01-21 21:30:27,100 : INFO : EPOCH 17 - PROGRESS: at 78.07% examples, 632363 words/s, in_qsize 13, out_qsize 2\n",
      "2020-01-21 21:30:28,112 : INFO : EPOCH 17 - PROGRESS: at 86.20% examples, 634887 words/s, in_qsize 16, out_qsize 1\n",
      "2020-01-21 21:30:29,124 : INFO : EPOCH 17 - PROGRESS: at 94.14% examples, 635526 words/s, in_qsize 14, out_qsize 1\n",
      "2020-01-21 21:30:29,743 : INFO : worker thread finished; awaiting finish of 7 more threads\n",
      "2020-01-21 21:30:29,761 : INFO : worker thread finished; awaiting finish of 6 more threads\n",
      "2020-01-21 21:30:29,769 : INFO : worker thread finished; awaiting finish of 5 more threads\n",
      "2020-01-21 21:30:29,778 : INFO : worker thread finished; awaiting finish of 4 more threads\n",
      "2020-01-21 21:30:29,781 : INFO : worker thread finished; awaiting finish of 3 more threads\n",
      "2020-01-21 21:30:29,793 : INFO : worker thread finished; awaiting finish of 2 more threads\n",
      "2020-01-21 21:30:29,794 : INFO : worker thread finished; awaiting finish of 1 more threads\n",
      "2020-01-21 21:30:29,797 : INFO : worker thread finished; awaiting finish of 0 more threads\n",
      "2020-01-21 21:30:29,798 : INFO : EPOCH - 17 : training on 9227204 raw words (8223766 effective words) took 12.9s, 639764 effective words/s\n",
      "2020-01-21 21:30:30,854 : INFO : EPOCH 18 - PROGRESS: at 7.38% examples, 589283 words/s, in_qsize 15, out_qsize 0\n",
      "2020-01-21 21:30:31,879 : INFO : EPOCH 18 - PROGRESS: at 15.41% examples, 616056 words/s, in_qsize 14, out_qsize 1\n",
      "2020-01-21 21:30:32,880 : INFO : EPOCH 18 - PROGRESS: at 23.42% examples, 630119 words/s, in_qsize 14, out_qsize 1\n",
      "2020-01-21 21:30:33,897 : INFO : EPOCH 18 - PROGRESS: at 30.99% examples, 625637 words/s, in_qsize 14, out_qsize 1\n",
      "2020-01-21 21:30:34,907 : INFO : EPOCH 18 - PROGRESS: at 39.11% examples, 632740 words/s, in_qsize 15, out_qsize 0\n",
      "2020-01-21 21:30:35,924 : INFO : EPOCH 18 - PROGRESS: at 46.78% examples, 631006 words/s, in_qsize 15, out_qsize 0\n",
      "2020-01-21 21:30:36,949 : INFO : EPOCH 18 - PROGRESS: at 54.67% examples, 631615 words/s, in_qsize 15, out_qsize 0\n",
      "2020-01-21 21:30:37,954 : INFO : EPOCH 18 - PROGRESS: at 62.68% examples, 634602 words/s, in_qsize 16, out_qsize 0\n",
      "2020-01-21 21:30:38,957 : INFO : EPOCH 18 - PROGRESS: at 70.59% examples, 636197 words/s, in_qsize 16, out_qsize 0\n",
      "2020-01-21 21:30:39,961 : INFO : EPOCH 18 - PROGRESS: at 78.40% examples, 636280 words/s, in_qsize 15, out_qsize 0\n",
      "2020-01-21 21:30:40,967 : INFO : EPOCH 18 - PROGRESS: at 85.88% examples, 634004 words/s, in_qsize 16, out_qsize 0\n",
      "2020-01-21 21:30:41,970 : INFO : EPOCH 18 - PROGRESS: at 93.70% examples, 634537 words/s, in_qsize 15, out_qsize 1\n",
      "2020-01-21 21:30:42,681 : INFO : worker thread finished; awaiting finish of 7 more threads\n",
      "2020-01-21 21:30:42,689 : INFO : worker thread finished; awaiting finish of 6 more threads\n",
      "2020-01-21 21:30:42,694 : INFO : worker thread finished; awaiting finish of 5 more threads\n",
      "2020-01-21 21:30:42,702 : INFO : worker thread finished; awaiting finish of 4 more threads\n",
      "2020-01-21 21:30:42,705 : INFO : worker thread finished; awaiting finish of 3 more threads\n",
      "2020-01-21 21:30:42,718 : INFO : worker thread finished; awaiting finish of 2 more threads\n",
      "2020-01-21 21:30:42,722 : INFO : worker thread finished; awaiting finish of 1 more threads\n",
      "2020-01-21 21:30:42,728 : INFO : worker thread finished; awaiting finish of 0 more threads\n",
      "2020-01-21 21:30:42,729 : INFO : EPOCH - 18 : training on 9227204 raw words (8222948 effective words) took 12.9s, 637364 effective words/s\n",
      "2020-01-21 21:30:43,784 : INFO : EPOCH 19 - PROGRESS: at 6.95% examples, 548046 words/s, in_qsize 15, out_qsize 0\n",
      "2020-01-21 21:30:44,795 : INFO : EPOCH 19 - PROGRESS: at 14.54% examples, 580875 words/s, in_qsize 15, out_qsize 0\n",
      "2020-01-21 21:30:45,799 : INFO : EPOCH 19 - PROGRESS: at 22.22% examples, 597670 words/s, in_qsize 15, out_qsize 0\n",
      "2020-01-21 21:30:46,812 : INFO : EPOCH 19 - PROGRESS: at 29.26% examples, 591199 words/s, in_qsize 15, out_qsize 3\n",
      "2020-01-21 21:30:47,834 : INFO : EPOCH 19 - PROGRESS: at 37.37% examples, 603531 words/s, in_qsize 14, out_qsize 1\n",
      "2020-01-21 21:30:48,860 : INFO : EPOCH 19 - PROGRESS: at 45.27% examples, 608650 words/s, in_qsize 16, out_qsize 1\n"
     ]
    },
    {
     "name": "stderr",
     "output_type": "stream",
     "text": [
      "2020-01-21 21:30:49,866 : INFO : EPOCH 19 - PROGRESS: at 52.84% examples, 610434 words/s, in_qsize 14, out_qsize 1\n",
      "2020-01-21 21:30:50,885 : INFO : EPOCH 19 - PROGRESS: at 60.74% examples, 613679 words/s, in_qsize 16, out_qsize 0\n",
      "2020-01-21 21:30:51,891 : INFO : EPOCH 19 - PROGRESS: at 68.42% examples, 615469 words/s, in_qsize 15, out_qsize 0\n",
      "2020-01-21 21:30:52,903 : INFO : EPOCH 19 - PROGRESS: at 76.33% examples, 618089 words/s, in_qsize 15, out_qsize 0\n",
      "2020-01-21 21:30:53,956 : INFO : EPOCH 19 - PROGRESS: at 84.16% examples, 617137 words/s, in_qsize 16, out_qsize 0\n",
      "2020-01-21 21:30:54,976 : INFO : EPOCH 19 - PROGRESS: at 92.28% examples, 620336 words/s, in_qsize 15, out_qsize 0\n",
      "2020-01-21 21:30:55,851 : INFO : worker thread finished; awaiting finish of 7 more threads\n",
      "2020-01-21 21:30:55,855 : INFO : worker thread finished; awaiting finish of 6 more threads\n",
      "2020-01-21 21:30:55,860 : INFO : worker thread finished; awaiting finish of 5 more threads\n",
      "2020-01-21 21:30:55,861 : INFO : worker thread finished; awaiting finish of 4 more threads\n",
      "2020-01-21 21:30:55,879 : INFO : worker thread finished; awaiting finish of 3 more threads\n",
      "2020-01-21 21:30:55,885 : INFO : worker thread finished; awaiting finish of 2 more threads\n",
      "2020-01-21 21:30:55,892 : INFO : worker thread finished; awaiting finish of 1 more threads\n",
      "2020-01-21 21:30:55,894 : INFO : worker thread finished; awaiting finish of 0 more threads\n",
      "2020-01-21 21:30:55,895 : INFO : EPOCH - 19 : training on 9227204 raw words (8222053 effective words) took 13.2s, 625181 effective words/s\n",
      "2020-01-21 21:30:56,917 : INFO : EPOCH 20 - PROGRESS: at 7.38% examples, 605012 words/s, in_qsize 16, out_qsize 0\n",
      "2020-01-21 21:30:57,954 : INFO : EPOCH 20 - PROGRESS: at 14.97% examples, 603550 words/s, in_qsize 15, out_qsize 0\n",
      "2020-01-21 21:30:58,973 : INFO : EPOCH 20 - PROGRESS: at 22.22% examples, 596976 words/s, in_qsize 14, out_qsize 1\n",
      "2020-01-21 21:30:59,999 : INFO : EPOCH 20 - PROGRESS: at 30.02% examples, 604096 words/s, in_qsize 16, out_qsize 2\n",
      "2020-01-21 21:31:01,006 : INFO : EPOCH 20 - PROGRESS: at 38.24% examples, 617874 words/s, in_qsize 15, out_qsize 0\n",
      "2020-01-21 21:31:02,014 : INFO : EPOCH 20 - PROGRESS: at 45.70% examples, 616247 words/s, in_qsize 16, out_qsize 1\n",
      "2020-01-21 21:31:03,017 : INFO : EPOCH 20 - PROGRESS: at 53.59% examples, 620876 words/s, in_qsize 16, out_qsize 0\n",
      "2020-01-21 21:31:04,036 : INFO : EPOCH 20 - PROGRESS: at 61.28% examples, 620861 words/s, in_qsize 14, out_qsize 1\n",
      "2020-01-21 21:31:05,063 : INFO : EPOCH 20 - PROGRESS: at 69.18% examples, 622417 words/s, in_qsize 16, out_qsize 0\n",
      "2020-01-21 21:31:06,082 : INFO : EPOCH 20 - PROGRESS: at 76.98% examples, 623068 words/s, in_qsize 15, out_qsize 0\n",
      "2020-01-21 21:31:07,084 : INFO : EPOCH 20 - PROGRESS: at 84.80% examples, 624555 words/s, in_qsize 15, out_qsize 0\n",
      "2020-01-21 21:31:08,107 : INFO : EPOCH 20 - PROGRESS: at 92.72% examples, 625414 words/s, in_qsize 16, out_qsize 0\n",
      "2020-01-21 21:31:08,930 : INFO : worker thread finished; awaiting finish of 7 more threads\n",
      "2020-01-21 21:31:08,940 : INFO : worker thread finished; awaiting finish of 6 more threads\n",
      "2020-01-21 21:31:08,945 : INFO : worker thread finished; awaiting finish of 5 more threads\n",
      "2020-01-21 21:31:08,949 : INFO : worker thread finished; awaiting finish of 4 more threads\n",
      "2020-01-21 21:31:08,951 : INFO : worker thread finished; awaiting finish of 3 more threads\n",
      "2020-01-21 21:31:08,964 : INFO : worker thread finished; awaiting finish of 2 more threads\n",
      "2020-01-21 21:31:08,968 : INFO : worker thread finished; awaiting finish of 1 more threads\n",
      "2020-01-21 21:31:08,976 : INFO : worker thread finished; awaiting finish of 0 more threads\n",
      "2020-01-21 21:31:08,976 : INFO : EPOCH - 20 : training on 9227204 raw words (8222911 effective words) took 13.1s, 629546 effective words/s\n",
      "2020-01-21 21:31:10,009 : INFO : EPOCH 21 - PROGRESS: at 7.27% examples, 588067 words/s, in_qsize 15, out_qsize 0\n",
      "2020-01-21 21:31:11,027 : INFO : EPOCH 21 - PROGRESS: at 15.08% examples, 609246 words/s, in_qsize 14, out_qsize 1\n",
      "2020-01-21 21:31:12,057 : INFO : EPOCH 21 - PROGRESS: at 22.87% examples, 613881 words/s, in_qsize 15, out_qsize 0\n",
      "2020-01-21 21:31:13,064 : INFO : EPOCH 21 - PROGRESS: at 30.89% examples, 623969 words/s, in_qsize 15, out_qsize 0\n",
      "2020-01-21 21:31:14,077 : INFO : EPOCH 21 - PROGRESS: at 38.68% examples, 625373 words/s, in_qsize 14, out_qsize 1\n",
      "2020-01-21 21:31:15,082 : INFO : EPOCH 21 - PROGRESS: at 46.57% examples, 628961 words/s, in_qsize 15, out_qsize 0\n",
      "2020-01-21 21:31:16,100 : INFO : EPOCH 21 - PROGRESS: at 54.25% examples, 628189 words/s, in_qsize 14, out_qsize 1\n",
      "2020-01-21 21:31:17,116 : INFO : EPOCH 21 - PROGRESS: at 62.14% examples, 629552 words/s, in_qsize 16, out_qsize 1\n",
      "2020-01-21 21:31:18,137 : INFO : EPOCH 21 - PROGRESS: at 69.94% examples, 629409 words/s, in_qsize 15, out_qsize 0\n",
      "2020-01-21 21:31:19,143 : INFO : EPOCH 21 - PROGRESS: at 77.63% examples, 629292 words/s, in_qsize 14, out_qsize 1\n",
      "2020-01-21 21:31:20,150 : INFO : EPOCH 21 - PROGRESS: at 85.66% examples, 631628 words/s, in_qsize 15, out_qsize 0\n",
      "2020-01-21 21:31:21,154 : INFO : EPOCH 21 - PROGRESS: at 93.26% examples, 630571 words/s, in_qsize 15, out_qsize 0\n",
      "2020-01-21 21:31:21,902 : INFO : worker thread finished; awaiting finish of 7 more threads\n",
      "2020-01-21 21:31:21,909 : INFO : worker thread finished; awaiting finish of 6 more threads\n",
      "2020-01-21 21:31:21,911 : INFO : worker thread finished; awaiting finish of 5 more threads\n",
      "2020-01-21 21:31:21,913 : INFO : worker thread finished; awaiting finish of 4 more threads\n",
      "2020-01-21 21:31:21,932 : INFO : worker thread finished; awaiting finish of 3 more threads\n",
      "2020-01-21 21:31:21,934 : INFO : worker thread finished; awaiting finish of 2 more threads\n",
      "2020-01-21 21:31:21,938 : INFO : worker thread finished; awaiting finish of 1 more threads\n",
      "2020-01-21 21:31:21,944 : INFO : worker thread finished; awaiting finish of 0 more threads\n",
      "2020-01-21 21:31:21,948 : INFO : EPOCH - 21 : training on 9227204 raw words (8222068 effective words) took 13.0s, 634744 effective words/s\n",
      "2020-01-21 21:31:23,011 : INFO : EPOCH 22 - PROGRESS: at 6.95% examples, 546106 words/s, in_qsize 15, out_qsize 2\n",
      "2020-01-21 21:31:24,040 : INFO : EPOCH 22 - PROGRESS: at 15.08% examples, 596592 words/s, in_qsize 16, out_qsize 1\n",
      "2020-01-21 21:31:25,095 : INFO : EPOCH 22 - PROGRESS: at 23.09% examples, 606433 words/s, in_qsize 15, out_qsize 0\n",
      "2020-01-21 21:31:26,099 : INFO : EPOCH 22 - PROGRESS: at 30.89% examples, 614143 words/s, in_qsize 16, out_qsize 1\n",
      "2020-01-21 21:31:27,124 : INFO : EPOCH 22 - PROGRESS: at 38.57% examples, 614827 words/s, in_qsize 15, out_qsize 2\n",
      "2020-01-21 21:31:28,125 : INFO : EPOCH 22 - PROGRESS: at 46.57% examples, 621725 words/s, in_qsize 16, out_qsize 0\n",
      "2020-01-21 21:31:29,148 : INFO : EPOCH 22 - PROGRESS: at 54.46% examples, 623963 words/s, in_qsize 15, out_qsize 0\n",
      "2020-01-21 21:31:30,156 : INFO : EPOCH 22 - PROGRESS: at 62.68% examples, 629605 words/s, in_qsize 16, out_qsize 0\n",
      "2020-01-21 21:31:31,170 : INFO : EPOCH 22 - PROGRESS: at 70.37% examples, 629083 words/s, in_qsize 14, out_qsize 1\n",
      "2020-01-21 21:31:32,209 : INFO : EPOCH 22 - PROGRESS: at 78.18% examples, 627765 words/s, in_qsize 15, out_qsize 2\n",
      "2020-01-21 21:31:33,219 : INFO : EPOCH 22 - PROGRESS: at 85.99% examples, 628519 words/s, in_qsize 15, out_qsize 1\n",
      "2020-01-21 21:31:34,219 : INFO : EPOCH 22 - PROGRESS: at 93.81% examples, 629444 words/s, in_qsize 13, out_qsize 2\n",
      "2020-01-21 21:31:34,876 : INFO : worker thread finished; awaiting finish of 7 more threads\n",
      "2020-01-21 21:31:34,891 : INFO : worker thread finished; awaiting finish of 6 more threads\n",
      "2020-01-21 21:31:34,894 : INFO : worker thread finished; awaiting finish of 5 more threads\n",
      "2020-01-21 21:31:34,897 : INFO : worker thread finished; awaiting finish of 4 more threads\n",
      "2020-01-21 21:31:34,905 : INFO : worker thread finished; awaiting finish of 3 more threads\n",
      "2020-01-21 21:31:34,910 : INFO : worker thread finished; awaiting finish of 2 more threads\n",
      "2020-01-21 21:31:34,920 : INFO : worker thread finished; awaiting finish of 1 more threads\n",
      "2020-01-21 21:31:34,922 : INFO : worker thread finished; awaiting finish of 0 more threads\n",
      "2020-01-21 21:31:34,922 : INFO : EPOCH - 22 : training on 9227204 raw words (8222720 effective words) took 13.0s, 634695 effective words/s\n"
     ]
    },
    {
     "name": "stderr",
     "output_type": "stream",
     "text": [
      "2020-01-21 21:31:35,941 : INFO : EPOCH 23 - PROGRESS: at 7.49% examples, 613502 words/s, in_qsize 14, out_qsize 1\n",
      "2020-01-21 21:31:36,950 : INFO : EPOCH 23 - PROGRESS: at 15.41% examples, 628582 words/s, in_qsize 16, out_qsize 1\n",
      "2020-01-21 21:31:37,954 : INFO : EPOCH 23 - PROGRESS: at 23.31% examples, 635056 words/s, in_qsize 15, out_qsize 2\n",
      "2020-01-21 21:31:38,986 : INFO : EPOCH 23 - PROGRESS: at 31.21% examples, 633789 words/s, in_qsize 15, out_qsize 0\n",
      "2020-01-21 21:31:40,015 : INFO : EPOCH 23 - PROGRESS: at 39.11% examples, 633446 words/s, in_qsize 14, out_qsize 1\n",
      "2020-01-21 21:31:41,028 : INFO : EPOCH 23 - PROGRESS: at 47.00% examples, 634759 words/s, in_qsize 15, out_qsize 0\n",
      "2020-01-21 21:31:42,034 : INFO : EPOCH 23 - PROGRESS: at 54.78% examples, 635080 words/s, in_qsize 16, out_qsize 1\n",
      "2020-01-21 21:31:43,056 : INFO : EPOCH 23 - PROGRESS: at 62.79% examples, 636530 words/s, in_qsize 15, out_qsize 2\n",
      "2020-01-21 21:31:44,056 : INFO : EPOCH 23 - PROGRESS: at 70.70% examples, 637933 words/s, in_qsize 16, out_qsize 0\n",
      "2020-01-21 21:31:45,063 : INFO : EPOCH 23 - PROGRESS: at 78.40% examples, 636923 words/s, in_qsize 16, out_qsize 1\n",
      "2020-01-21 21:31:46,073 : INFO : EPOCH 23 - PROGRESS: at 85.88% examples, 634227 words/s, in_qsize 16, out_qsize 0\n",
      "2020-01-21 21:31:47,085 : INFO : EPOCH 23 - PROGRESS: at 94.03% examples, 636527 words/s, in_qsize 14, out_qsize 1\n",
      "2020-01-21 21:31:47,740 : INFO : worker thread finished; awaiting finish of 7 more threads\n",
      "2020-01-21 21:31:47,744 : INFO : worker thread finished; awaiting finish of 6 more threads\n",
      "2020-01-21 21:31:47,745 : INFO : worker thread finished; awaiting finish of 5 more threads\n",
      "2020-01-21 21:31:47,746 : INFO : worker thread finished; awaiting finish of 4 more threads\n",
      "2020-01-21 21:31:47,763 : INFO : worker thread finished; awaiting finish of 3 more threads\n",
      "2020-01-21 21:31:47,765 : INFO : worker thread finished; awaiting finish of 2 more threads\n",
      "2020-01-21 21:31:47,773 : INFO : worker thread finished; awaiting finish of 1 more threads\n",
      "2020-01-21 21:31:47,775 : INFO : worker thread finished; awaiting finish of 0 more threads\n",
      "2020-01-21 21:31:47,776 : INFO : EPOCH - 23 : training on 9227204 raw words (8222191 effective words) took 12.8s, 640528 effective words/s\n",
      "2020-01-21 21:31:48,790 : INFO : EPOCH 24 - PROGRESS: at 7.17% examples, 587199 words/s, in_qsize 16, out_qsize 0\n",
      "2020-01-21 21:31:49,854 : INFO : EPOCH 24 - PROGRESS: at 15.19% examples, 603918 words/s, in_qsize 16, out_qsize 0\n",
      "2020-01-21 21:31:50,853 : INFO : EPOCH 24 - PROGRESS: at 23.20% examples, 621565 words/s, in_qsize 15, out_qsize 0\n",
      "2020-01-21 21:31:51,871 : INFO : EPOCH 24 - PROGRESS: at 30.78% examples, 619241 words/s, in_qsize 15, out_qsize 0\n",
      "2020-01-21 21:31:52,876 : INFO : EPOCH 24 - PROGRESS: at 38.68% examples, 625009 words/s, in_qsize 15, out_qsize 0\n",
      "2020-01-21 21:31:53,880 : INFO : EPOCH 24 - PROGRESS: at 46.57% examples, 628460 words/s, in_qsize 15, out_qsize 0\n",
      "2020-01-21 21:31:54,913 : INFO : EPOCH 24 - PROGRESS: at 54.46% examples, 628716 words/s, in_qsize 16, out_qsize 0\n",
      "2020-01-21 21:31:55,917 : INFO : EPOCH 24 - PROGRESS: at 62.25% examples, 630046 words/s, in_qsize 15, out_qsize 0\n",
      "2020-01-21 21:31:56,938 : INFO : EPOCH 24 - PROGRESS: at 70.16% examples, 630802 words/s, in_qsize 14, out_qsize 1\n",
      "2020-01-21 21:31:57,944 : INFO : EPOCH 24 - PROGRESS: at 78.07% examples, 632300 words/s, in_qsize 15, out_qsize 0\n",
      "2020-01-21 21:31:58,948 : INFO : EPOCH 24 - PROGRESS: at 85.56% examples, 630640 words/s, in_qsize 15, out_qsize 0\n",
      "2020-01-21 21:31:59,963 : INFO : EPOCH 24 - PROGRESS: at 93.70% examples, 632856 words/s, in_qsize 15, out_qsize 0\n",
      "2020-01-21 21:32:00,651 : INFO : worker thread finished; awaiting finish of 7 more threads\n",
      "2020-01-21 21:32:00,672 : INFO : worker thread finished; awaiting finish of 6 more threads\n",
      "2020-01-21 21:32:00,677 : INFO : worker thread finished; awaiting finish of 5 more threads\n",
      "2020-01-21 21:32:00,689 : INFO : worker thread finished; awaiting finish of 4 more threads\n",
      "2020-01-21 21:32:00,693 : INFO : worker thread finished; awaiting finish of 3 more threads\n",
      "2020-01-21 21:32:00,706 : INFO : worker thread finished; awaiting finish of 2 more threads\n",
      "2020-01-21 21:32:00,708 : INFO : worker thread finished; awaiting finish of 1 more threads\n",
      "2020-01-21 21:32:00,713 : INFO : worker thread finished; awaiting finish of 0 more threads\n",
      "2020-01-21 21:32:00,714 : INFO : EPOCH - 24 : training on 9227204 raw words (8223011 effective words) took 12.9s, 636147 effective words/s\n",
      "2020-01-21 21:32:01,743 : INFO : EPOCH 25 - PROGRESS: at 7.06% examples, 569842 words/s, in_qsize 15, out_qsize 0\n",
      "2020-01-21 21:32:02,758 : INFO : EPOCH 25 - PROGRESS: at 14.75% examples, 596497 words/s, in_qsize 14, out_qsize 1\n",
      "2020-01-21 21:32:03,832 : INFO : EPOCH 25 - PROGRESS: at 22.76% examples, 602277 words/s, in_qsize 16, out_qsize 1\n",
      "2020-01-21 21:32:04,844 : INFO : EPOCH 25 - PROGRESS: at 30.78% examples, 614338 words/s, in_qsize 16, out_qsize 1\n",
      "2020-01-21 21:32:05,882 : INFO : EPOCH 25 - PROGRESS: at 38.68% examples, 617090 words/s, in_qsize 15, out_qsize 0\n",
      "2020-01-21 21:32:06,880 : INFO : EPOCH 25 - PROGRESS: at 45.70% examples, 610873 words/s, in_qsize 15, out_qsize 0\n",
      "2020-01-21 21:32:07,917 : INFO : EPOCH 25 - PROGRESS: at 53.05% examples, 607070 words/s, in_qsize 12, out_qsize 3\n",
      "2020-01-21 21:32:08,935 : INFO : EPOCH 25 - PROGRESS: at 60.19% examples, 603433 words/s, in_qsize 15, out_qsize 0\n",
      "2020-01-21 21:32:09,940 : INFO : EPOCH 25 - PROGRESS: at 68.10% examples, 608180 words/s, in_qsize 15, out_qsize 0\n",
      "2020-01-21 21:32:10,958 : INFO : EPOCH 25 - PROGRESS: at 75.67% examples, 608526 words/s, in_qsize 15, out_qsize 2\n",
      "2020-01-21 21:32:11,975 : INFO : EPOCH 25 - PROGRESS: at 83.83% examples, 613068 words/s, in_qsize 16, out_qsize 0\n",
      "2020-01-21 21:32:12,989 : INFO : EPOCH 25 - PROGRESS: at 91.09% examples, 611013 words/s, in_qsize 16, out_qsize 1\n",
      "2020-01-21 21:32:13,976 : INFO : worker thread finished; awaiting finish of 7 more threads\n",
      "2020-01-21 21:32:13,988 : INFO : worker thread finished; awaiting finish of 6 more threads\n",
      "2020-01-21 21:32:13,990 : INFO : EPOCH 25 - PROGRESS: at 99.45% examples, 616630 words/s, in_qsize 5, out_qsize 1\n",
      "2020-01-21 21:32:13,992 : INFO : worker thread finished; awaiting finish of 5 more threads\n",
      "2020-01-21 21:32:13,997 : INFO : worker thread finished; awaiting finish of 4 more threads\n",
      "2020-01-21 21:32:14,004 : INFO : worker thread finished; awaiting finish of 3 more threads\n",
      "2020-01-21 21:32:14,012 : INFO : worker thread finished; awaiting finish of 2 more threads\n",
      "2020-01-21 21:32:14,013 : INFO : worker thread finished; awaiting finish of 1 more threads\n",
      "2020-01-21 21:32:14,017 : INFO : worker thread finished; awaiting finish of 0 more threads\n",
      "2020-01-21 21:32:14,018 : INFO : EPOCH - 25 : training on 9227204 raw words (8222283 effective words) took 13.3s, 618715 effective words/s\n",
      "2020-01-21 21:32:15,062 : INFO : EPOCH 26 - PROGRESS: at 7.27% examples, 582867 words/s, in_qsize 16, out_qsize 1\n",
      "2020-01-21 21:32:16,070 : INFO : EPOCH 26 - PROGRESS: at 15.41% examples, 622133 words/s, in_qsize 16, out_qsize 0\n",
      "2020-01-21 21:32:17,076 : INFO : EPOCH 26 - PROGRESS: at 23.09% examples, 623801 words/s, in_qsize 14, out_qsize 1\n",
      "2020-01-21 21:32:18,083 : INFO : EPOCH 26 - PROGRESS: at 30.89% examples, 627508 words/s, in_qsize 15, out_qsize 0\n",
      "2020-01-21 21:32:19,085 : INFO : EPOCH 26 - PROGRESS: at 38.78% examples, 631599 words/s, in_qsize 15, out_qsize 0\n",
      "2020-01-21 21:32:20,115 : INFO : EPOCH 26 - PROGRESS: at 46.57% examples, 630155 words/s, in_qsize 15, out_qsize 0\n",
      "2020-01-21 21:32:21,147 : INFO : EPOCH 26 - PROGRESS: at 54.56% examples, 631351 words/s, in_qsize 15, out_qsize 0\n",
      "2020-01-21 21:32:22,178 : INFO : EPOCH 26 - PROGRESS: at 62.57% examples, 632417 words/s, in_qsize 16, out_qsize 1\n",
      "2020-01-21 21:32:23,199 : INFO : EPOCH 26 - PROGRESS: at 70.59% examples, 633833 words/s, in_qsize 15, out_qsize 0\n",
      "2020-01-21 21:32:24,214 : INFO : EPOCH 26 - PROGRESS: at 78.51% examples, 634483 words/s, in_qsize 15, out_qsize 0\n",
      "2020-01-21 21:32:25,238 : INFO : EPOCH 26 - PROGRESS: at 86.53% examples, 635325 words/s, in_qsize 15, out_qsize 0\n",
      "2020-01-21 21:32:26,270 : INFO : EPOCH 26 - PROGRESS: at 94.58% examples, 635556 words/s, in_qsize 15, out_qsize 0\n"
     ]
    },
    {
     "name": "stderr",
     "output_type": "stream",
     "text": [
      "2020-01-21 21:32:26,814 : INFO : worker thread finished; awaiting finish of 7 more threads\n",
      "2020-01-21 21:32:26,833 : INFO : worker thread finished; awaiting finish of 6 more threads\n",
      "2020-01-21 21:32:26,833 : INFO : worker thread finished; awaiting finish of 5 more threads\n",
      "2020-01-21 21:32:26,835 : INFO : worker thread finished; awaiting finish of 4 more threads\n",
      "2020-01-21 21:32:26,848 : INFO : worker thread finished; awaiting finish of 3 more threads\n",
      "2020-01-21 21:32:26,856 : INFO : worker thread finished; awaiting finish of 2 more threads\n",
      "2020-01-21 21:32:26,867 : INFO : worker thread finished; awaiting finish of 1 more threads\n",
      "2020-01-21 21:32:26,877 : INFO : worker thread finished; awaiting finish of 0 more threads\n",
      "2020-01-21 21:32:26,878 : INFO : EPOCH - 26 : training on 9227204 raw words (8222764 effective words) took 12.8s, 640364 effective words/s\n",
      "2020-01-21 21:32:27,899 : INFO : EPOCH 27 - PROGRESS: at 7.17% examples, 583214 words/s, in_qsize 14, out_qsize 1\n",
      "2020-01-21 21:32:28,908 : INFO : EPOCH 27 - PROGRESS: at 14.97% examples, 609643 words/s, in_qsize 15, out_qsize 0\n",
      "2020-01-21 21:32:29,923 : INFO : EPOCH 27 - PROGRESS: at 22.43% examples, 608249 words/s, in_qsize 16, out_qsize 1\n",
      "2020-01-21 21:32:30,925 : INFO : EPOCH 27 - PROGRESS: at 30.02% examples, 611647 words/s, in_qsize 16, out_qsize 1\n",
      "2020-01-21 21:32:31,931 : INFO : EPOCH 27 - PROGRESS: at 38.24% examples, 624322 words/s, in_qsize 15, out_qsize 0\n",
      "2020-01-21 21:32:32,942 : INFO : EPOCH 27 - PROGRESS: at 46.03% examples, 626022 words/s, in_qsize 15, out_qsize 0\n",
      "2020-01-21 21:32:33,949 : INFO : EPOCH 27 - PROGRESS: at 53.92% examples, 628965 words/s, in_qsize 15, out_qsize 0\n",
      "2020-01-21 21:32:34,959 : INFO : EPOCH 27 - PROGRESS: at 61.61% examples, 628432 words/s, in_qsize 14, out_qsize 1\n",
      "2020-01-21 21:32:35,977 : INFO : EPOCH 27 - PROGRESS: at 69.50% examples, 629597 words/s, in_qsize 14, out_qsize 1\n",
      "2020-01-21 21:32:37,016 : INFO : EPOCH 27 - PROGRESS: at 77.52% examples, 630085 words/s, in_qsize 15, out_qsize 0\n",
      "2020-01-21 21:32:38,017 : INFO : EPOCH 27 - PROGRESS: at 85.45% examples, 631761 words/s, in_qsize 13, out_qsize 2\n",
      "2020-01-21 21:32:39,019 : INFO : EPOCH 27 - PROGRESS: at 93.37% examples, 633231 words/s, in_qsize 16, out_qsize 0\n",
      "2020-01-21 21:32:39,767 : INFO : worker thread finished; awaiting finish of 7 more threads\n",
      "2020-01-21 21:32:39,771 : INFO : worker thread finished; awaiting finish of 6 more threads\n",
      "2020-01-21 21:32:39,775 : INFO : worker thread finished; awaiting finish of 5 more threads\n",
      "2020-01-21 21:32:39,778 : INFO : worker thread finished; awaiting finish of 4 more threads\n",
      "2020-01-21 21:32:39,785 : INFO : worker thread finished; awaiting finish of 3 more threads\n",
      "2020-01-21 21:32:39,794 : INFO : worker thread finished; awaiting finish of 2 more threads\n",
      "2020-01-21 21:32:39,797 : INFO : worker thread finished; awaiting finish of 1 more threads\n",
      "2020-01-21 21:32:39,803 : INFO : worker thread finished; awaiting finish of 0 more threads\n",
      "2020-01-21 21:32:39,807 : INFO : EPOCH - 27 : training on 9227204 raw words (8222795 effective words) took 12.9s, 636770 effective words/s\n",
      "2020-01-21 21:32:40,833 : INFO : EPOCH 28 - PROGRESS: at 6.95% examples, 562537 words/s, in_qsize 14, out_qsize 1\n",
      "2020-01-21 21:32:41,835 : INFO : EPOCH 28 - PROGRESS: at 14.54% examples, 592160 words/s, in_qsize 14, out_qsize 1\n",
      "2020-01-21 21:32:42,858 : INFO : EPOCH 28 - PROGRESS: at 22.43% examples, 606815 words/s, in_qsize 13, out_qsize 2\n",
      "2020-01-21 21:32:43,861 : INFO : EPOCH 28 - PROGRESS: at 30.46% examples, 619473 words/s, in_qsize 15, out_qsize 0\n",
      "2020-01-21 21:32:44,874 : INFO : EPOCH 28 - PROGRESS: at 38.14% examples, 620440 words/s, in_qsize 16, out_qsize 0\n",
      "2020-01-21 21:32:45,884 : INFO : EPOCH 28 - PROGRESS: at 46.02% examples, 624150 words/s, in_qsize 15, out_qsize 0\n",
      "2020-01-21 21:32:46,890 : INFO : EPOCH 28 - PROGRESS: at 53.70% examples, 624911 words/s, in_qsize 16, out_qsize 0\n",
      "2020-01-21 21:32:47,932 : INFO : EPOCH 28 - PROGRESS: at 61.82% examples, 627204 words/s, in_qsize 16, out_qsize 1\n",
      "2020-01-21 21:32:48,949 : INFO : EPOCH 28 - PROGRESS: at 69.72% examples, 628537 words/s, in_qsize 16, out_qsize 0\n",
      "2020-01-21 21:32:49,962 : INFO : EPOCH 28 - PROGRESS: at 77.52% examples, 629064 words/s, in_qsize 16, out_qsize 1\n",
      "2020-01-21 21:32:51,005 : INFO : EPOCH 28 - PROGRESS: at 85.66% examples, 630054 words/s, in_qsize 16, out_qsize 2\n",
      "2020-01-21 21:32:52,007 : INFO : EPOCH 28 - PROGRESS: at 93.59% examples, 631546 words/s, in_qsize 16, out_qsize 0\n",
      "2020-01-21 21:32:52,708 : INFO : worker thread finished; awaiting finish of 7 more threads\n",
      "2020-01-21 21:32:52,721 : INFO : worker thread finished; awaiting finish of 6 more threads\n",
      "2020-01-21 21:32:52,726 : INFO : worker thread finished; awaiting finish of 5 more threads\n",
      "2020-01-21 21:32:52,728 : INFO : worker thread finished; awaiting finish of 4 more threads\n",
      "2020-01-21 21:32:52,738 : INFO : worker thread finished; awaiting finish of 3 more threads\n",
      "2020-01-21 21:32:52,749 : INFO : worker thread finished; awaiting finish of 2 more threads\n",
      "2020-01-21 21:32:52,757 : INFO : worker thread finished; awaiting finish of 1 more threads\n",
      "2020-01-21 21:32:52,758 : INFO : worker thread finished; awaiting finish of 0 more threads\n",
      "2020-01-21 21:32:52,758 : INFO : EPOCH - 28 : training on 9227204 raw words (8222060 effective words) took 12.9s, 635666 effective words/s\n",
      "2020-01-21 21:32:53,775 : INFO : EPOCH 29 - PROGRESS: at 7.05% examples, 579087 words/s, in_qsize 15, out_qsize 0\n",
      "2020-01-21 21:32:54,799 : INFO : EPOCH 29 - PROGRESS: at 14.87% examples, 602217 words/s, in_qsize 16, out_qsize 3\n",
      "2020-01-21 21:32:55,804 : INFO : EPOCH 29 - PROGRESS: at 22.76% examples, 617197 words/s, in_qsize 14, out_qsize 1\n",
      "2020-01-21 21:32:56,845 : INFO : EPOCH 29 - PROGRESS: at 30.89% examples, 623526 words/s, in_qsize 15, out_qsize 0\n",
      "2020-01-21 21:32:57,856 : INFO : EPOCH 29 - PROGRESS: at 38.89% examples, 629154 words/s, in_qsize 16, out_qsize 0\n",
      "2020-01-21 21:32:58,875 : INFO : EPOCH 29 - PROGRESS: at 46.46% examples, 626475 words/s, in_qsize 15, out_qsize 0\n",
      "2020-01-21 21:32:59,881 : INFO : EPOCH 29 - PROGRESS: at 54.35% examples, 629399 words/s, in_qsize 15, out_qsize 0\n",
      "2020-01-21 21:33:00,879 : INFO : EPOCH 29 - PROGRESS: at 62.14% examples, 630868 words/s, in_qsize 15, out_qsize 0\n",
      "2020-01-21 21:33:01,905 : INFO : EPOCH 29 - PROGRESS: at 70.05% examples, 631207 words/s, in_qsize 14, out_qsize 1\n",
      "2020-01-21 21:33:02,924 : INFO : EPOCH 29 - PROGRESS: at 77.96% examples, 632022 words/s, in_qsize 13, out_qsize 2\n",
      "2020-01-21 21:33:03,925 : INFO : EPOCH 29 - PROGRESS: at 85.99% examples, 634259 words/s, in_qsize 16, out_qsize 1\n",
      "2020-01-21 21:33:04,956 : INFO : EPOCH 29 - PROGRESS: at 93.81% examples, 633147 words/s, in_qsize 16, out_qsize 0\n",
      "2020-01-21 21:33:05,600 : INFO : worker thread finished; awaiting finish of 7 more threads\n",
      "2020-01-21 21:33:05,608 : INFO : worker thread finished; awaiting finish of 6 more threads\n",
      "2020-01-21 21:33:05,617 : INFO : worker thread finished; awaiting finish of 5 more threads\n",
      "2020-01-21 21:33:05,622 : INFO : worker thread finished; awaiting finish of 4 more threads\n",
      "2020-01-21 21:33:05,627 : INFO : worker thread finished; awaiting finish of 3 more threads\n",
      "2020-01-21 21:33:05,641 : INFO : worker thread finished; awaiting finish of 2 more threads\n",
      "2020-01-21 21:33:05,644 : INFO : worker thread finished; awaiting finish of 1 more threads\n",
      "2020-01-21 21:33:05,647 : INFO : worker thread finished; awaiting finish of 0 more threads\n",
      "2020-01-21 21:33:05,648 : INFO : EPOCH - 29 : training on 9227204 raw words (8222762 effective words) took 12.9s, 638790 effective words/s\n",
      "2020-01-21 21:33:06,666 : INFO : EPOCH 30 - PROGRESS: at 6.84% examples, 559448 words/s, in_qsize 16, out_qsize 1\n",
      "2020-01-21 21:33:07,665 : INFO : EPOCH 30 - PROGRESS: at 14.76% examples, 604931 words/s, in_qsize 13, out_qsize 2\n",
      "2020-01-21 21:33:08,673 : INFO : EPOCH 30 - PROGRESS: at 22.43% examples, 612731 words/s, in_qsize 13, out_qsize 2\n",
      "2020-01-21 21:33:09,694 : INFO : EPOCH 30 - PROGRESS: at 30.24% examples, 616363 words/s, in_qsize 15, out_qsize 0\n",
      "2020-01-21 21:33:10,695 : INFO : EPOCH 30 - PROGRESS: at 38.03% examples, 621091 words/s, in_qsize 15, out_qsize 0\n",
      "2020-01-21 21:33:11,700 : INFO : EPOCH 30 - PROGRESS: at 45.92% examples, 625345 words/s, in_qsize 15, out_qsize 0\n"
     ]
    },
    {
     "name": "stderr",
     "output_type": "stream",
     "text": [
      "2020-01-21 21:33:12,721 : INFO : EPOCH 30 - PROGRESS: at 53.81% examples, 627200 words/s, in_qsize 15, out_qsize 0\n",
      "2020-01-21 21:33:13,743 : INFO : EPOCH 30 - PROGRESS: at 62.03% examples, 631583 words/s, in_qsize 15, out_qsize 0\n",
      "2020-01-21 21:33:14,774 : INFO : EPOCH 30 - PROGRESS: at 69.61% examples, 628648 words/s, in_qsize 15, out_qsize 0\n",
      "2020-01-21 21:33:15,813 : INFO : EPOCH 30 - PROGRESS: at 77.63% examples, 629209 words/s, in_qsize 16, out_qsize 0\n",
      "2020-01-21 21:33:16,819 : INFO : EPOCH 30 - PROGRESS: at 85.45% examples, 629928 words/s, in_qsize 12, out_qsize 3\n",
      "2020-01-21 21:33:17,832 : INFO : EPOCH 30 - PROGRESS: at 93.37% examples, 630998 words/s, in_qsize 15, out_qsize 0\n",
      "2020-01-21 21:33:18,564 : INFO : worker thread finished; awaiting finish of 7 more threads\n",
      "2020-01-21 21:33:18,571 : INFO : worker thread finished; awaiting finish of 6 more threads\n",
      "2020-01-21 21:33:18,573 : INFO : worker thread finished; awaiting finish of 5 more threads\n",
      "2020-01-21 21:33:18,574 : INFO : worker thread finished; awaiting finish of 4 more threads\n",
      "2020-01-21 21:33:18,581 : INFO : worker thread finished; awaiting finish of 3 more threads\n",
      "2020-01-21 21:33:18,595 : INFO : worker thread finished; awaiting finish of 2 more threads\n",
      "2020-01-21 21:33:18,597 : INFO : worker thread finished; awaiting finish of 1 more threads\n",
      "2020-01-21 21:33:18,601 : INFO : worker thread finished; awaiting finish of 0 more threads\n",
      "2020-01-21 21:33:18,605 : INFO : EPOCH - 30 : training on 9227204 raw words (8222817 effective words) took 12.9s, 635371 effective words/s\n",
      "2020-01-21 21:33:19,652 : INFO : EPOCH 31 - PROGRESS: at 7.06% examples, 559003 words/s, in_qsize 15, out_qsize 0\n",
      "2020-01-21 21:33:20,694 : INFO : EPOCH 31 - PROGRESS: at 15.30% examples, 604305 words/s, in_qsize 16, out_qsize 3\n",
      "2020-01-21 21:33:21,717 : INFO : EPOCH 31 - PROGRESS: at 23.31% examples, 617426 words/s, in_qsize 14, out_qsize 1\n",
      "2020-01-21 21:33:22,731 : INFO : EPOCH 31 - PROGRESS: at 31.21% examples, 623580 words/s, in_qsize 15, out_qsize 0\n",
      "2020-01-21 21:33:23,741 : INFO : EPOCH 31 - PROGRESS: at 39.11% examples, 627641 words/s, in_qsize 14, out_qsize 1\n",
      "2020-01-21 21:33:24,762 : INFO : EPOCH 31 - PROGRESS: at 46.78% examples, 626372 words/s, in_qsize 16, out_qsize 0\n",
      "2020-01-21 21:33:25,774 : INFO : EPOCH 31 - PROGRESS: at 54.89% examples, 631136 words/s, in_qsize 16, out_qsize 0\n",
      "2020-01-21 21:33:26,791 : INFO : EPOCH 31 - PROGRESS: at 62.58% examples, 629905 words/s, in_qsize 14, out_qsize 1\n",
      "2020-01-21 21:33:27,799 : INFO : EPOCH 31 - PROGRESS: at 70.58% examples, 632575 words/s, in_qsize 15, out_qsize 0\n",
      "2020-01-21 21:33:28,801 : INFO : EPOCH 31 - PROGRESS: at 78.40% examples, 633377 words/s, in_qsize 15, out_qsize 0\n",
      "2020-01-21 21:33:29,804 : INFO : EPOCH 31 - PROGRESS: at 86.10% examples, 633035 words/s, in_qsize 15, out_qsize 0\n",
      "2020-01-21 21:33:30,804 : INFO : EPOCH 31 - PROGRESS: at 93.81% examples, 632902 words/s, in_qsize 16, out_qsize 0\n",
      "2020-01-21 21:33:31,449 : INFO : worker thread finished; awaiting finish of 7 more threads\n",
      "2020-01-21 21:33:31,466 : INFO : worker thread finished; awaiting finish of 6 more threads\n",
      "2020-01-21 21:33:31,471 : INFO : worker thread finished; awaiting finish of 5 more threads\n",
      "2020-01-21 21:33:31,472 : INFO : worker thread finished; awaiting finish of 4 more threads\n",
      "2020-01-21 21:33:31,480 : INFO : worker thread finished; awaiting finish of 3 more threads\n",
      "2020-01-21 21:33:31,490 : INFO : worker thread finished; awaiting finish of 2 more threads\n",
      "2020-01-21 21:33:31,499 : INFO : worker thread finished; awaiting finish of 1 more threads\n",
      "2020-01-21 21:33:31,503 : INFO : worker thread finished; awaiting finish of 0 more threads\n",
      "2020-01-21 21:33:31,504 : INFO : EPOCH - 31 : training on 9227204 raw words (8222047 effective words) took 12.9s, 638067 effective words/s\n",
      "2020-01-21 21:33:32,526 : INFO : EPOCH 32 - PROGRESS: at 7.27% examples, 592953 words/s, in_qsize 15, out_qsize 0\n",
      "2020-01-21 21:33:33,564 : INFO : EPOCH 32 - PROGRESS: at 14.97% examples, 602299 words/s, in_qsize 14, out_qsize 3\n",
      "2020-01-21 21:33:34,582 : INFO : EPOCH 32 - PROGRESS: at 22.87% examples, 614396 words/s, in_qsize 16, out_qsize 0\n",
      "2020-01-21 21:33:35,595 : INFO : EPOCH 32 - PROGRESS: at 30.99% examples, 625493 words/s, in_qsize 16, out_qsize 0\n",
      "2020-01-21 21:33:36,611 : INFO : EPOCH 32 - PROGRESS: at 38.79% examples, 626520 words/s, in_qsize 14, out_qsize 1\n",
      "2020-01-21 21:33:37,625 : INFO : EPOCH 32 - PROGRESS: at 46.67% examples, 629161 words/s, in_qsize 14, out_qsize 1\n",
      "2020-01-21 21:33:38,640 : INFO : EPOCH 32 - PROGRESS: at 54.56% examples, 630802 words/s, in_qsize 15, out_qsize 0\n",
      "2020-01-21 21:33:39,646 : INFO : EPOCH 32 - PROGRESS: at 62.46% examples, 632701 words/s, in_qsize 15, out_qsize 0\n",
      "2020-01-21 21:33:40,658 : INFO : EPOCH 32 - PROGRESS: at 70.69% examples, 636799 words/s, in_qsize 16, out_qsize 1\n",
      "2020-01-21 21:33:41,691 : INFO : EPOCH 32 - PROGRESS: at 78.62% examples, 635863 words/s, in_qsize 16, out_qsize 0\n",
      "2020-01-21 21:33:42,726 : INFO : EPOCH 32 - PROGRESS: at 86.85% examples, 637649 words/s, in_qsize 16, out_qsize 0\n",
      "2020-01-21 21:33:43,725 : INFO : EPOCH 32 - PROGRESS: at 94.58% examples, 637180 words/s, in_qsize 16, out_qsize 1\n",
      "2020-01-21 21:33:44,315 : INFO : worker thread finished; awaiting finish of 7 more threads\n",
      "2020-01-21 21:33:44,324 : INFO : worker thread finished; awaiting finish of 6 more threads\n",
      "2020-01-21 21:33:44,328 : INFO : worker thread finished; awaiting finish of 5 more threads\n",
      "2020-01-21 21:33:44,330 : INFO : worker thread finished; awaiting finish of 4 more threads\n",
      "2020-01-21 21:33:44,331 : INFO : worker thread finished; awaiting finish of 3 more threads\n",
      "2020-01-21 21:33:44,341 : INFO : worker thread finished; awaiting finish of 2 more threads\n",
      "2020-01-21 21:33:44,350 : INFO : worker thread finished; awaiting finish of 1 more threads\n",
      "2020-01-21 21:33:44,354 : INFO : worker thread finished; awaiting finish of 0 more threads\n",
      "2020-01-21 21:33:44,355 : INFO : EPOCH - 32 : training on 9227204 raw words (8223310 effective words) took 12.8s, 640832 effective words/s\n",
      "2020-01-21 21:33:44,356 : INFO : training on a 295270528 raw words (263127334 effective words) took 414.3s, 635123 effective words/s\n"
     ]
    },
    {
     "name": "stdout",
     "output_type": "stream",
     "text": [
      "Wall time: 6min 54s\n"
     ]
    },
    {
     "data": {
      "text/plain": [
       "(263127334, 295270528)"
      ]
     },
     "execution_count": 30,
     "metadata": {},
     "output_type": "execute_result"
    }
   ],
   "source": [
    "%%time\n",
    "w2v_model.train(documents, total_examples=len(documents), epochs=W2V_EPOCH)"
   ]
  },
  {
   "cell_type": "code",
   "execution_count": 39,
   "metadata": {
    "_uuid": "27cc2651c74227115d8bfd8c40e5618048e05edd"
   },
   "outputs": [
    {
     "name": "stderr",
     "output_type": "stream",
     "text": [
      "C:\\Users\\KRISHNA PRASAD P\\Anaconda3\\lib\\site-packages\\ipykernel_launcher.py:1: DeprecationWarning: Call to deprecated `most_similar` (Method will be removed in 4.0.0, use self.wv.most_similar() instead).\n",
      "  \"\"\"Entry point for launching an IPython kernel.\n"
     ]
    },
    {
     "data": {
      "text/plain": [
       "[('luv', 0.5845032930374146),\n",
       " ('loves', 0.5546305179595947),\n",
       " ('loved', 0.5534921884536743),\n",
       " ('amazing', 0.5110648274421692),\n",
       " ('adore', 0.5036742687225342),\n",
       " ('looove', 0.485459566116333),\n",
       " ('loveee', 0.4781234562397003),\n",
       " ('awesome', 0.45939570665359497),\n",
       " ('loooove', 0.4559696912765503),\n",
       " ('lovee', 0.4417044520378113)]"
      ]
     },
     "execution_count": 39,
     "metadata": {},
     "output_type": "execute_result"
    }
   ],
   "source": [
    "w2v_model.most_similar(\"love\")"
   ]
  },
  {
   "cell_type": "code",
   "execution_count": 40,
   "metadata": {},
   "outputs": [
    {
     "name": "stderr",
     "output_type": "stream",
     "text": [
      "C:\\Users\\KRISHNA PRASAD P\\Anaconda3\\lib\\site-packages\\ipykernel_launcher.py:1: DeprecationWarning: Call to deprecated `similarity` (Method will be removed in 4.0.0, use self.wv.similarity() instead).\n",
      "  \"\"\"Entry point for launching an IPython kernel.\n"
     ]
    },
    {
     "data": {
      "text/plain": [
       "0.41282398"
      ]
     },
     "execution_count": 40,
     "metadata": {},
     "output_type": "execute_result"
    }
   ],
   "source": [
    "w2v_model.similarity('move','go')"
   ]
  },
  {
   "cell_type": "markdown",
   "metadata": {
    "_uuid": "e13563644468037258598637b49373ca96b9b879"
   },
   "source": [
    "### Tokenize Text\n",
    "https://keras.io/preprocessing/text/\n",
    "\n",
    "\n",
    "https://machinelearningmastery.com/use-word-embedding-layers-deep-learning-keras/"
   ]
  },
  {
   "cell_type": "code",
   "execution_count": 63,
   "metadata": {
    "_uuid": "6852bc709a7cd20173cbeeb218505078f8f37c57"
   },
   "outputs": [
    {
     "name": "stdout",
     "output_type": "stream",
     "text": [
      "Total words 290419\n",
      "Wall time: 17.2 s\n"
     ]
    }
   ],
   "source": [
    "%%time\n",
    "tokenizer = Tokenizer()\n",
    "tokenizer.fit_on_texts(df_train.text)\n",
    "\n",
    "vocab_size = len(tokenizer.word_index) + 1\n",
    "print(\"Total words\", vocab_size)"
   ]
  },
  {
   "cell_type": "code",
   "execution_count": 86,
   "metadata": {},
   "outputs": [
    {
     "data": {
      "text/plain": [
       "'awww bummer shoulda got david carr third day'"
      ]
     },
     "execution_count": 86,
     "metadata": {},
     "output_type": "execute_result"
    }
   ],
   "source": [
    "df_train.text[0]"
   ]
  },
  {
   "cell_type": "markdown",
   "metadata": {},
   "source": [
    "https://machinelearningmastery.com/prepare-text-data-deep-learning-keras/"
   ]
  },
  {
   "cell_type": "code",
   "execution_count": 87,
   "metadata": {},
   "outputs": [
    {
     "data": {
      "text/plain": [
       "[[],\n",
       " [181],\n",
       " [181],\n",
       " [181],\n",
       " [],\n",
       " [210],\n",
       " [15],\n",
       " [],\n",
       " [],\n",
       " [475],\n",
       " [219],\n",
       " [],\n",
       " [],\n",
       " [1129],\n",
       " [],\n",
       " [15],\n",
       " [499],\n",
       " [],\n",
       " [],\n",
       " [],\n",
       " [640],\n",
       " [],\n",
       " [],\n",
       " [],\n",
       " [],\n",
       " [],\n",
       " [714],\n",
       " [],\n",
       " [],\n",
       " [],\n",
       " [307],\n",
       " [],\n",
       " [219],\n",
       " [219],\n",
       " [],\n",
       " [],\n",
       " [1129],\n",
       " [],\n",
       " [219],\n",
       " [],\n",
       " [],\n",
       " [],\n",
       " [],\n",
       " []]"
      ]
     },
     "execution_count": 87,
     "metadata": {},
     "output_type": "execute_result"
    }
   ],
   "source": [
    "tokenizer.texts_to_sequences(df_train.text[0])"
   ]
  },
  {
   "cell_type": "code",
   "execution_count": 88,
   "metadata": {
    "_uuid": "45de439df3015030c71f84c2d170346936a1d68f"
   },
   "outputs": [
    {
     "name": "stdout",
     "output_type": "stream",
     "text": [
      "Wall time: 26.8 s\n"
     ]
    }
   ],
   "source": [
    "%%time\n",
    "x_train = pad_sequences(tokenizer.texts_to_sequences(df_train.text), maxlen=SEQUENCE_LENGTH)\n",
    "x_test = pad_sequences(tokenizer.texts_to_sequences(df_test.text), maxlen=SEQUENCE_LENGTH)"
   ]
  },
  {
   "cell_type": "markdown",
   "metadata": {
    "_uuid": "03b35903fc6260e190d6928d240ef7432de117fc"
   },
   "source": [
    "### Label Encoder "
   ]
  },
  {
   "cell_type": "code",
   "execution_count": 65,
   "metadata": {
    "_uuid": "33676e0efa39e97d89bd650b8b4eae933a22fbf0"
   },
   "outputs": [
    {
     "data": {
      "text/plain": [
       "['POSITIVE', 'NEGATIVE', 'NEUTRAL']"
      ]
     },
     "execution_count": 65,
     "metadata": {},
     "output_type": "execute_result"
    }
   ],
   "source": [
    "labels = df_train.target.unique().tolist()\n",
    "labels.append(NEUTRAL)\n",
    "labels"
   ]
  },
  {
   "cell_type": "code",
   "execution_count": 66,
   "metadata": {
    "_uuid": "04239a9bef76e7922fd86098a5601dfde8ee4665"
   },
   "outputs": [
    {
     "name": "stdout",
     "output_type": "stream",
     "text": [
      "y_train (1280000,)\n",
      "y_test (320000,)\n",
      "y_train (1280000, 1)\n",
      "y_test (320000, 1)\n"
     ]
    }
   ],
   "source": [
    "encoder = LabelEncoder()\n",
    "encoder.fit(df_train.target.tolist())\n",
    "\n",
    "y_train = encoder.transform(df_train.target.tolist())\n",
    "y_test = encoder.transform(df_test.target.tolist())\n",
    "\n",
    "print(\"y_train\",y_train.shape)\n",
    "print(\"y_test\",y_test.shape)\n",
    "\n",
    "y_train = y_train.reshape(-1,1)\n",
    "y_test = y_test.reshape(-1,1)\n",
    "\n",
    "print(\"y_train\",y_train.shape)\n",
    "print(\"y_test\",y_test.shape)"
   ]
  },
  {
   "cell_type": "code",
   "execution_count": 67,
   "metadata": {
    "_uuid": "04299c886911ca135583ab64878f213939a2990c"
   },
   "outputs": [
    {
     "name": "stdout",
     "output_type": "stream",
     "text": [
      "x_train (1280000, 300)\n",
      "y_train (1280000, 1)\n",
      "\n",
      "x_test (320000, 300)\n",
      "y_test (320000, 1)\n"
     ]
    }
   ],
   "source": [
    "print(\"x_train\", x_train.shape)\n",
    "print(\"y_train\", y_train.shape)\n",
    "print()\n",
    "print(\"x_test\", x_test.shape)\n",
    "print(\"y_test\", y_test.shape)"
   ]
  },
  {
   "cell_type": "code",
   "execution_count": 68,
   "metadata": {
    "_uuid": "232533fb27b7be99d9b8c2f8fb22c9c6bf121a6f"
   },
   "outputs": [
    {
     "data": {
      "text/plain": [
       "array([[1],\n",
       "       [1],\n",
       "       [1],\n",
       "       [0],\n",
       "       [1],\n",
       "       [1],\n",
       "       [1],\n",
       "       [1],\n",
       "       [1],\n",
       "       [1]], dtype=int64)"
      ]
     },
     "execution_count": 68,
     "metadata": {},
     "output_type": "execute_result"
    }
   ],
   "source": [
    "y_train[:10]"
   ]
  },
  {
   "cell_type": "markdown",
   "metadata": {
    "_uuid": "233c0ea94055a03e2e7df3e2a13d036ec963484f"
   },
   "source": [
    "### Embedding layer"
   ]
  },
  {
   "cell_type": "code",
   "execution_count": 90,
   "metadata": {
    "_uuid": "9ab488374b59e3f30f8b1ea92767d853c4846bac"
   },
   "outputs": [
    {
     "name": "stdout",
     "output_type": "stream",
     "text": [
      "(290419, 300)\n"
     ]
    }
   ],
   "source": [
    "embedding_matrix = np.zeros((vocab_size, W2V_SIZE))\n",
    "for word, i in tokenizer.word_index.items():\n",
    "  if word in w2v_model.wv:\n",
    "    embedding_matrix[i] = w2v_model.wv[word]\n",
    "print(embedding_matrix.shape)"
   ]
  },
  {
   "cell_type": "code",
   "execution_count": 91,
   "metadata": {},
   "outputs": [
    {
     "data": {
      "text/plain": [
       "array([-2.13993654e-01, -1.10969496e+00, -1.70774683e-01,  2.10472131e+00,\n",
       "        1.88466147e-01,  3.01042587e-01,  3.52580011e-01, -8.12475801e-01,\n",
       "        5.20028286e-02, -6.02019846e-01,  1.05696821e+00, -9.12261084e-02,\n",
       "        4.27098364e-01, -1.25994074e+00,  1.23717093e+00,  6.97268307e-01,\n",
       "       -4.21278805e-01,  5.15994549e-01, -7.47559905e-01, -3.76945406e-01,\n",
       "       -9.95786130e-01, -4.89366651e-01, -4.79547739e-01, -2.93195490e-02,\n",
       "        8.48072231e-01, -1.52693784e+00,  3.50778371e-01, -1.93571523e-01,\n",
       "       -1.26101291e-02, -3.70299190e-01, -1.72299862e-01, -6.22707009e-01,\n",
       "        7.20909461e-02, -5.93955576e-01, -1.32653856e+00, -2.52410740e-01,\n",
       "        5.97637355e-01,  4.53915866e-03,  1.02148438e+00,  7.06400812e-01,\n",
       "        2.44697362e-01, -1.31150949e+00, -7.18063116e-02,  2.41271198e-01,\n",
       "        1.05375230e+00,  3.15156490e-01, -5.28656006e-01,  1.55352503e-02,\n",
       "       -7.87463665e-01,  1.47574091e+00, -1.14149928e+00,  1.28678524e+00,\n",
       "        1.72944844e+00, -1.03835287e-02,  6.20016992e-01,  8.36454809e-01,\n",
       "       -6.84164643e-01,  2.60402858e-01, -3.11332196e-01, -3.10392044e-02,\n",
       "       -2.58833170e-01,  1.25505850e-01,  2.46737671e+00,  1.95508885e+00,\n",
       "       -3.54186684e-01,  2.47575603e-02, -6.12520516e-01, -7.81961203e-01,\n",
       "        1.42786175e-01,  7.99630284e-01,  1.18236101e+00, -1.88908890e-01,\n",
       "        4.39878523e-01, -1.20968930e-01, -1.27483740e-01,  7.37516046e-01,\n",
       "       -7.26891635e-03,  8.19271386e-01, -1.22489917e+00, -2.92718709e-01,\n",
       "       -8.88347626e-01, -4.70699430e-01,  2.63907880e-01, -5.88748276e-01,\n",
       "        1.69796646e+00, -9.49979007e-01, -9.75939870e-01,  1.45338404e+00,\n",
       "        3.88299018e-01,  2.68104225e-01,  6.07760489e-01, -8.72539163e-01,\n",
       "       -6.37870908e-01, -6.68195188e-01, -1.53560495e+00,  5.03639393e-02,\n",
       "       -1.29500139e+00, -9.46854353e-01, -7.97155678e-01, -6.85188890e-01,\n",
       "       -4.10337627e-01, -4.13353801e-01, -1.52258143e-01, -1.61068842e-01,\n",
       "       -7.60977447e-01,  7.88128972e-02, -2.11528325e+00, -1.33285403e+00,\n",
       "       -2.17421316e-02,  4.76186246e-01, -1.99365366e+00,  5.53992391e-01,\n",
       "        1.44328043e-01,  1.06071115e+00,  1.01572561e+00,  7.47026384e-01,\n",
       "        4.37244654e-01,  4.27541494e-01, -1.18761218e+00,  2.62675822e-01,\n",
       "        2.36385569e-01,  1.11622602e-01,  1.92355916e-01,  9.70942497e-01,\n",
       "       -1.67279318e-01, -7.32650995e-01,  1.81082678e+00, -5.65030396e-01,\n",
       "        1.62556171e-01,  4.28786278e-02,  8.08823168e-01, -1.32632479e-01,\n",
       "        9.69157040e-01,  7.88787365e-01, -7.66757369e-01, -7.76630998e-01,\n",
       "        1.06108032e-01,  8.42381358e-01, -8.07323694e-01,  3.96454930e-01,\n",
       "        1.28824607e-01, -1.29837310e+00, -3.25837404e-01,  8.45901191e-01,\n",
       "        2.13448927e-02, -2.79935896e-01, -1.30645201e-01,  1.40783083e+00,\n",
       "        7.35194683e-02, -6.23064280e-01,  9.05886590e-01,  9.10633862e-01,\n",
       "        7.92106986e-02,  3.99718404e-01,  7.60205761e-02,  2.11718276e-01,\n",
       "       -2.24091038e-01, -7.63347521e-02,  4.68434691e-02, -1.35216236e-01,\n",
       "        3.65431719e-02, -5.54597266e-02,  7.33255148e-01, -8.35587621e-01,\n",
       "        7.26629078e-01, -8.01787853e-01,  5.95371127e-01,  5.91227114e-01,\n",
       "        5.58783710e-01, -5.11216760e-01,  4.69140112e-01, -4.15894240e-01,\n",
       "       -8.23492110e-01,  5.83756939e-02, -1.50648463e+00, -2.14356869e-01,\n",
       "        6.41741455e-02, -1.17653453e+00, -5.15416086e-01,  1.63008705e-01,\n",
       "       -2.41534878e-03,  6.08892322e-01, -1.58339882e+00,  2.11058661e-01,\n",
       "        4.05244797e-01, -1.99448049e-01, -1.53120446e+00,  4.83424991e-01,\n",
       "       -8.25485468e-01,  6.09719574e-01, -8.63444626e-01,  8.95031571e-01,\n",
       "       -9.32388529e-02, -5.24590969e-01, -1.89752090e+00, -6.28506780e-01,\n",
       "        1.50450110e+00,  5.35847008e-01,  1.42799586e-01,  6.08858645e-01,\n",
       "       -3.02513361e-01,  3.12439412e-01,  9.31728542e-01, -1.05743456e+00,\n",
       "        7.62819707e-01, -4.37511891e-01,  1.02494061e+00, -1.52766015e-02,\n",
       "        2.77399361e-01, -9.51591432e-02, -5.86498678e-01,  8.28636467e-01,\n",
       "       -5.18019013e-02, -6.83936954e-01,  5.97530067e-01,  1.27629948e+00,\n",
       "        6.03699565e-01,  1.34613979e+00,  1.89507914e+00, -7.05560148e-02,\n",
       "       -9.10230875e-01,  8.75858843e-01,  5.59963584e-01,  1.35937226e+00,\n",
       "        1.65224865e-01, -8.59662890e-02,  1.03626676e-01,  4.65121210e-01,\n",
       "       -4.48057979e-01,  4.61202562e-01,  1.59852087e-01,  1.93865943e+00,\n",
       "        4.58507121e-01,  1.05600929e+00,  9.02042270e-01,  5.89674652e-01,\n",
       "        6.88875794e-01,  1.01563346e+00, -1.26635981e+00,  3.43658864e-01,\n",
       "        3.17240059e-01,  4.55633283e-01, -1.03864384e+00, -5.00413537e-01,\n",
       "        5.26092887e-01, -1.23171222e+00, -1.03106368e+00, -4.47902083e-01,\n",
       "       -1.14220083e-01, -4.93738055e-01,  3.95046741e-01, -4.84390944e-01,\n",
       "        6.23298526e-01,  8.52308154e-01,  4.89131987e-01, -1.67724478e+00,\n",
       "        1.31449246e+00,  1.21559799e+00,  4.45734680e-01,  4.18527007e-01,\n",
       "        1.03433537e+00,  7.80263543e-01, -7.74372995e-01, -4.06638384e-02,\n",
       "        5.40685713e-01, -1.00708222e+00, -1.93440825e-01,  1.29768026e+00,\n",
       "        9.84534740e-01, -4.65503573e-01,  9.33688700e-01, -1.52114344e+00,\n",
       "        6.43603653e-02,  1.85901791e-01, -9.43806589e-01, -1.61603999e+00,\n",
       "       -1.79583937e-01, -2.65670009e-02,  6.24620952e-02, -2.37688020e-01,\n",
       "       -8.48097861e-01, -1.96366861e-01, -2.10029155e-01,  3.02256972e-01,\n",
       "       -9.29052830e-01, -6.05999589e-01, -5.67192316e-01,  4.58386958e-01,\n",
       "        3.70954603e-01, -9.05066371e-01,  2.83871412e-01, -9.27031398e-01,\n",
       "        3.59380007e-01,  2.07585588e-01, -2.72947758e-01,  6.16249740e-01,\n",
       "       -1.02291338e-01,  1.36510503e+00, -7.42138445e-01,  6.34961486e-01])"
      ]
     },
     "execution_count": 91,
     "metadata": {},
     "output_type": "execute_result"
    }
   ],
   "source": [
    "embedding_matrix[10]"
   ]
  },
  {
   "cell_type": "code",
   "execution_count": 92,
   "metadata": {
    "_uuid": "833279d91e4286065968237fb5f2a0c2dd4d246c"
   },
   "outputs": [],
   "source": [
    "embedding_layer = Embedding(vocab_size, W2V_SIZE, weights=[embedding_matrix], input_length=SEQUENCE_LENGTH, trainable=False)"
   ]
  },
  {
   "cell_type": "markdown",
   "metadata": {
    "_uuid": "b299ef78f94c2085942c993a2d58753a7476305a"
   },
   "source": [
    "### Build Model\n",
    "\n",
    "https://towardsdatascience.com/illustrated-guide-to-lstms-and-gru-s-a-step-by-step-explanation-44e9eb85bf21"
   ]
  },
  {
   "cell_type": "code",
   "execution_count": 93,
   "metadata": {
    "_uuid": "e775ef4f1b74e6412457181383c39f2df554ef3f"
   },
   "outputs": [
    {
     "name": "stdout",
     "output_type": "stream",
     "text": [
      "Model: \"sequential_1\"\n",
      "_________________________________________________________________\n",
      "Layer (type)                 Output Shape              Param #   \n",
      "=================================================================\n",
      "embedding_1 (Embedding)      (None, 300, 300)          87125700  \n",
      "_________________________________________________________________\n",
      "dropout_1 (Dropout)          (None, 300, 300)          0         \n",
      "_________________________________________________________________\n",
      "lstm_1 (LSTM)                (None, 100)               160400    \n",
      "_________________________________________________________________\n",
      "dense_1 (Dense)              (None, 1)                 101       \n",
      "=================================================================\n",
      "Total params: 87,286,201\n",
      "Trainable params: 160,501\n",
      "Non-trainable params: 87,125,700\n",
      "_________________________________________________________________\n"
     ]
    }
   ],
   "source": [
    "model = Sequential()\n",
    "model.add(embedding_layer)\n",
    "model.add(Dropout(0.5))\n",
    "model.add(LSTM(100, dropout=0.2, recurrent_dropout=0.2))\n",
    "model.add(Dense(1, activation='sigmoid'))\n",
    "\n",
    "model.summary()"
   ]
  },
  {
   "cell_type": "markdown",
   "metadata": {
    "_uuid": "28d22eafd0c7d798dcf3d742bc92fb8577939e6c"
   },
   "source": [
    "### Compile model"
   ]
  },
  {
   "cell_type": "code",
   "execution_count": 94,
   "metadata": {
    "_uuid": "1331e08d590bb2aa2033706c8faca217afc0f1c3"
   },
   "outputs": [
    {
     "name": "stdout",
     "output_type": "stream",
     "text": [
      "WARNING:tensorflow:From C:\\Users\\KRISHNA PRASAD P\\Anaconda3\\lib\\site-packages\\tensorflow\\python\\ops\\nn_impl.py:180: add_dispatch_support.<locals>.wrapper (from tensorflow.python.ops.array_ops) is deprecated and will be removed in a future version.\n",
      "Instructions for updating:\n",
      "Use tf.where in 2.0, which has the same broadcast rule as np.where\n"
     ]
    },
    {
     "name": "stderr",
     "output_type": "stream",
     "text": [
      "2020-01-21 22:21:41,685 : WARNING : From C:\\Users\\KRISHNA PRASAD P\\Anaconda3\\lib\\site-packages\\tensorflow\\python\\ops\\nn_impl.py:180: add_dispatch_support.<locals>.wrapper (from tensorflow.python.ops.array_ops) is deprecated and will be removed in a future version.\n",
      "Instructions for updating:\n",
      "Use tf.where in 2.0, which has the same broadcast rule as np.where\n"
     ]
    }
   ],
   "source": [
    "model.compile(loss='binary_crossentropy',\n",
    "              optimizer=\"adam\",\n",
    "              metrics=['accuracy'])"
   ]
  },
  {
   "cell_type": "markdown",
   "metadata": {
    "_uuid": "c7733127cb8b380e0c807268903bf4d03ef92542"
   },
   "source": [
    "### Callbacks"
   ]
  },
  {
   "cell_type": "code",
   "execution_count": 95,
   "metadata": {
    "_uuid": "a688df590386f5748da6fe00b01904fe6c71619e"
   },
   "outputs": [],
   "source": [
    "callbacks = [ ReduceLROnPlateau(monitor='val_loss', patience=5, cooldown=0),\n",
    "              EarlyStopping(monitor='val_acc', min_delta=1e-4, patience=5)]"
   ]
  },
  {
   "cell_type": "code",
   "execution_count": 96,
   "metadata": {},
   "outputs": [],
   "source": [
    "model.load_weights('nlp.h5')"
   ]
  },
  {
   "cell_type": "markdown",
   "metadata": {
    "_uuid": "8d0873633dd49179c8cae17377641b97d323ef3b"
   },
   "source": [
    "### Train"
   ]
  },
  {
   "cell_type": "code",
   "execution_count": null,
   "metadata": {
    "_uuid": "2b659d390c6577dc5cdb6b6297934279b4e801d5"
   },
   "outputs": [
    {
     "name": "stdout",
     "output_type": "stream",
     "text": [
      "Train on 1152000 samples, validate on 128000 samples\n",
      "Epoch 1/8\n",
      "  15360/1152000 [..............................] - ETA: 2:12:58 - loss: 0.6438 - acc: 0.6188"
     ]
    }
   ],
   "source": [
    "# %%time\n",
    "# history = model.fit(x_train, y_train,\n",
    "#                     batch_size=BATCH_SIZE,\n",
    "#                     epochs=EPOCHS,\n",
    "#                     validation_split=0.1,\n",
    "#                     verbose=1,\n",
    "#                     callbacks=callbacks)\n",
    "# model.save('nlp.h5')"
   ]
  },
  {
   "cell_type": "markdown",
   "metadata": {
    "_uuid": "267258196d96796ac69a7b8c466314bcf5d6ee42"
   },
   "source": [
    "### Evaluate"
   ]
  },
  {
   "cell_type": "code",
   "execution_count": 97,
   "metadata": {
    "_uuid": "98ecd8f1b8b74594c3ea775dd68a094e92458022"
   },
   "outputs": [
    {
     "name": "stdout",
     "output_type": "stream",
     "text": [
      "WARNING:tensorflow:From C:\\Users\\KRISHNA PRASAD P\\Anaconda3\\lib\\site-packages\\keras\\backend\\tensorflow_backend.py:422: The name tf.global_variables is deprecated. Please use tf.compat.v1.global_variables instead.\n",
      "\n"
     ]
    },
    {
     "name": "stderr",
     "output_type": "stream",
     "text": [
      "2020-01-21 22:22:46,925 : WARNING : From C:\\Users\\KRISHNA PRASAD P\\Anaconda3\\lib\\site-packages\\keras\\backend\\tensorflow_backend.py:422: The name tf.global_variables is deprecated. Please use tf.compat.v1.global_variables instead.\n",
      "\n"
     ]
    },
    {
     "name": "stdout",
     "output_type": "stream",
     "text": [
      "320000/320000 [==============================] - 435s 1ms/step\n",
      "\n",
      "ACCURACY: 0.7911999821662903\n",
      "LOSS: 0.44547695817947386\n",
      "Wall time: 7min 14s\n"
     ]
    }
   ],
   "source": [
    "%%time\n",
    "score = model.evaluate(x_test, y_test, batch_size=BATCH_SIZE)\n",
    "print()\n",
    "print(\"ACCURACY:\",score[1])\n",
    "print(\"LOSS:\",score[0])"
   ]
  },
  {
   "cell_type": "code",
   "execution_count": 33,
   "metadata": {
    "_uuid": "40c72cd1e9d6c4fd799cbba7c813765ac4039dfc"
   },
   "outputs": [],
   "source": [
    "# acc = history.history['accuracy']\n",
    "# val_acc = history.history['val_accuracy']\n",
    "# loss = history.history['loss']\n",
    "# val_loss = history.history['val_loss']\n",
    " \n",
    "# epochs = range(len(acc))\n",
    " \n",
    "# plt.plot(epochs, acc, 'b', label='Training acc')\n",
    "# plt.plot(epochs, val_acc, 'r', label='Validation acc')\n",
    "# plt.title('Training and validation accuracy')\n",
    "# plt.legend()\n",
    " \n",
    "# plt.figure()\n",
    " \n",
    "# plt.plot(epochs, loss, 'b', label='Training loss')\n",
    "# plt.plot(epochs, val_loss, 'r', label='Validation loss')\n",
    "# plt.title('Training and validation loss')\n",
    "# plt.legend()\n",
    " \n",
    "# plt.show()"
   ]
  },
  {
   "cell_type": "markdown",
   "metadata": {
    "_uuid": "6bdfc0f6a6af5bebc0271d83dd7432c91001409b"
   },
   "source": [
    "### Predict"
   ]
  },
  {
   "cell_type": "code",
   "execution_count": 98,
   "metadata": {
    "_uuid": "f0b0fa3d4b1bb14b3f5e3d169a369f3ebef29ae1"
   },
   "outputs": [],
   "source": [
    "def decode_sentiment(score, include_neutral=True):\n",
    "    if include_neutral:        \n",
    "        label = NEUTRAL\n",
    "        if score <= SENTIMENT_THRESHOLDS[0]:\n",
    "            label = NEGATIVE\n",
    "        elif score >= SENTIMENT_THRESHOLDS[1]:\n",
    "            label = POSITIVE\n",
    "\n",
    "        return label\n",
    "    else:\n",
    "        return NEGATIVE if score < 0.5 else POSITIVE"
   ]
  },
  {
   "cell_type": "code",
   "execution_count": 99,
   "metadata": {
    "_uuid": "ed4086d651f2f8cbed11d3c909a8873607d29a06"
   },
   "outputs": [],
   "source": [
    "def predict(text, include_neutral=True):\n",
    "    start_at = time.time()\n",
    "    # Tokenize text\n",
    "    x_test = pad_sequences(tokenizer.texts_to_sequences([text]), maxlen=SEQUENCE_LENGTH)\n",
    "    # Predict\n",
    "    score = model.predict([x_test])[0]\n",
    "    # Decode sentiment\n",
    "    label = decode_sentiment(score, include_neutral=include_neutral)\n",
    "\n",
    "    return {\"label\": label, \"score\": float(score),\n",
    "       \"elapsed_time\": time.time()-start_at}  "
   ]
  },
  {
   "cell_type": "code",
   "execution_count": 100,
   "metadata": {
    "_uuid": "ca38b1e6c9b5acfed7467de2cf02a78333108872"
   },
   "outputs": [
    {
     "data": {
      "text/plain": [
       "{'label': 'POSITIVE',\n",
       " 'score': 0.9719203114509583,\n",
       " 'elapsed_time': 0.11070466041564941}"
      ]
     },
     "execution_count": 100,
     "metadata": {},
     "output_type": "execute_result"
    }
   ],
   "source": [
    "predict(\"I love the music\")"
   ]
  },
  {
   "cell_type": "code",
   "execution_count": 101,
   "metadata": {
    "_uuid": "0e5fe647533be0148850de349fea6ef6f71303d1"
   },
   "outputs": [
    {
     "data": {
      "text/plain": [
       "{'label': 'NEGATIVE',\n",
       " 'score': 0.006692883092910051,\n",
       " 'elapsed_time': 0.01894998550415039}"
      ]
     },
     "execution_count": 101,
     "metadata": {},
     "output_type": "execute_result"
    }
   ],
   "source": [
    "predict(\"I hate the rain\")"
   ]
  },
  {
   "cell_type": "code",
   "execution_count": 102,
   "metadata": {
    "_uuid": "37064dffcc8920d34ccd54fac7c8b50e583a8269"
   },
   "outputs": [
    {
     "data": {
      "text/plain": [
       "{'label': 'NEGATIVE',\n",
       " 'score': 0.28236323595046997,\n",
       " 'elapsed_time': 0.02094125747680664}"
      ]
     },
     "execution_count": 102,
     "metadata": {},
     "output_type": "execute_result"
    }
   ],
   "source": [
    "predict(\"i don't know what i'm doing\")"
   ]
  },
  {
   "cell_type": "markdown",
   "metadata": {
    "_uuid": "3ee72e47f84b6dbc32e02a783de5ec1661f157e1"
   },
   "source": [
    "### Confusion Matrix"
   ]
  },
  {
   "cell_type": "code",
   "execution_count": null,
   "metadata": {
    "_uuid": "0e920173eb05f04aecdd735bc5dff0f5be5f8d15"
   },
   "outputs": [
    {
     "name": "stdout",
     "output_type": "stream",
     "text": [
      " 16000/320000 [>.............................] - ETA: 12:53"
     ]
    }
   ],
   "source": [
    "%%time\n",
    "y_pred_1d = []\n",
    "y_test_1d = list(df_test.target)\n",
    "scores = model.predict(x_test, verbose=1, batch_size=8000)\n",
    "y_pred_1d = [decode_sentiment(score, include_neutral=False) for score in scores]"
   ]
  },
  {
   "cell_type": "code",
   "execution_count": null,
   "metadata": {
    "_uuid": "b3575191bb425ab871f3f41e83812ee84bb7e595"
   },
   "outputs": [],
   "source": [
    "def plot_confusion_matrix(cm, classes,\n",
    "                          title='Confusion matrix',\n",
    "                          cmap=plt.cm.Blues):\n",
    "    \"\"\"\n",
    "    This function prints and plots the confusion matrix.\n",
    "    Normalization can be applied by setting `normalize=True`.\n",
    "    \"\"\"\n",
    "\n",
    "    cm = cm.astype('float') / cm.sum(axis=1)[:, np.newaxis]\n",
    "\n",
    "    plt.imshow(cm, interpolation='nearest', cmap=cmap)\n",
    "    plt.title(title, fontsize=30)\n",
    "    plt.colorbar()\n",
    "    tick_marks = np.arange(len(classes))\n",
    "    plt.xticks(tick_marks, classes, rotation=90, fontsize=22)\n",
    "    plt.yticks(tick_marks, classes, fontsize=22)\n",
    "\n",
    "    fmt = '.2f'\n",
    "    thresh = cm.max() / 2.\n",
    "    for i, j in itertools.product(range(cm.shape[0]), range(cm.shape[1])):\n",
    "        plt.text(j, i, format(cm[i, j], fmt),\n",
    "                 horizontalalignment=\"center\",\n",
    "                 color=\"white\" if cm[i, j] > thresh else \"black\")\n",
    "\n",
    "    plt.ylabel('True label', fontsize=25)\n",
    "    plt.xlabel('Predicted label', fontsize=25)"
   ]
  },
  {
   "cell_type": "code",
   "execution_count": null,
   "metadata": {
    "_uuid": "a57dc6f6211c144491a70f533225edfa95a2dc66"
   },
   "outputs": [],
   "source": [
    "%%time\n",
    "\n",
    "cnf_matrix = confusion_matrix(y_test_1d, y_pred_1d)\n",
    "plt.figure(figsize=(12,12))\n",
    "plot_confusion_matrix(cnf_matrix, classes=df_train.target.unique(), title=\"Confusion matrix\")\n",
    "plt.show()"
   ]
  },
  {
   "cell_type": "markdown",
   "metadata": {
    "_uuid": "e23b957348dcc084249d3cc7538b972da471c2cd"
   },
   "source": [
    "### Classification Report"
   ]
  },
  {
   "cell_type": "code",
   "execution_count": null,
   "metadata": {
    "_uuid": "a7fe05b7caa1c984ff1deb0be2f7c6bc043df9f5"
   },
   "outputs": [],
   "source": [
    "print(classification_report(y_test_1d, y_pred_1d))"
   ]
  },
  {
   "cell_type": "markdown",
   "metadata": {
    "_uuid": "4eb300f0c6693a618587c7dcf32f77f5416cbfb9"
   },
   "source": [
    "### Accuracy Score"
   ]
  },
  {
   "cell_type": "code",
   "execution_count": null,
   "metadata": {
    "_uuid": "5cf76e6e09f8a60ed25947932b94c772eda44d23"
   },
   "outputs": [],
   "source": [
    "accuracy_score(y_test_1d, y_pred_1d)"
   ]
  },
  {
   "cell_type": "markdown",
   "metadata": {
    "_uuid": "4f014c32f3833db282e1a075c526604f34e3158c"
   },
   "source": [
    "### Save model"
   ]
  },
  {
   "cell_type": "code",
   "execution_count": null,
   "metadata": {
    "_uuid": "3b2b3ad5b592977b404acfa1c9ad303a62837255"
   },
   "outputs": [],
   "source": [
    "model.save(KERAS_MODEL)\n",
    "w2v_model.save(WORD2VEC_MODEL)\n",
    "pickle.dump(tokenizer, open(TOKENIZER_MODEL, \"wb\"), protocol=0)\n",
    "pickle.dump(encoder, open(ENCODER_MODEL, \"wb\"), protocol=0)"
   ]
  },
  {
   "cell_type": "code",
   "execution_count": null,
   "metadata": {
    "_uuid": "cc363c54782894757f5ea8820c6a170f2e16ef93"
   },
   "outputs": [],
   "source": []
  }
 ],
 "metadata": {
  "kernelspec": {
   "display_name": "Python 3",
   "language": "python",
   "name": "python3"
  },
  "language_info": {
   "codemirror_mode": {
    "name": "ipython",
    "version": 3
   },
   "file_extension": ".py",
   "mimetype": "text/x-python",
   "name": "python",
   "nbconvert_exporter": "python",
   "pygments_lexer": "ipython3",
   "version": "3.7.4"
  }
 },
 "nbformat": 4,
 "nbformat_minor": 1
}
