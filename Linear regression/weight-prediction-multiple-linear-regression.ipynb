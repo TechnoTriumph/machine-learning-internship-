{
 "cells": [
  {
   "cell_type": "code",
   "execution_count": 1,
   "metadata": {
    "_cell_guid": "b1076dfc-b9ad-4769-8c92-a6c4dae69d19",
    "_uuid": "8f2839f25d086af736a60e9eeb907d3b93b6e0e5"
   },
   "outputs": [
    {
     "name": "stdout",
     "output_type": "stream",
     "text": [
      "['Fish.csv']\n",
      "There are 159 rows and 7 columns\n"
     ]
    }
   ],
   "source": [
    "# This Python 3 environment comes with many helpful analytics libraries installed\n",
    "# It is defined by the kaggle/python docker image: https://github.com/kaggle/docker-python\n",
    "# For example, here's several helpful packages to load in \n",
    "\n",
    "import numpy as np # linear algebra\n",
    "import pandas as pd # data processing, CSV file I/O (e.g. pd.read_csv)\n",
    "\n",
    "# Input data files are available in the \"../input/\" directory.\n",
    "# For example, running this (by clicking run or pressing Shift+Enter) will list the files in the input directory\n",
    "\n",
    "import os\n",
    "print(os.listdir(\"../input\"))\n",
    "\n",
    "# Any results you write to the current directory are saved as output.\n",
    "\n",
    "dataset = pd.read_csv('../input/Fish.csv', delimiter=',')\n",
    "nRow, nCol = dataset.shape\n",
    "print(f'There are {nRow} rows and {nCol} columns')"
   ]
  },
  {
   "cell_type": "code",
   "execution_count": 2,
   "metadata": {},
   "outputs": [
    {
     "data": {
      "text/html": [
       "<div>\n",
       "<style scoped>\n",
       "    .dataframe tbody tr th:only-of-type {\n",
       "        vertical-align: middle;\n",
       "    }\n",
       "\n",
       "    .dataframe tbody tr th {\n",
       "        vertical-align: top;\n",
       "    }\n",
       "\n",
       "    .dataframe thead th {\n",
       "        text-align: right;\n",
       "    }\n",
       "</style>\n",
       "<table border=\"1\" class=\"dataframe\">\n",
       "  <thead>\n",
       "    <tr style=\"text-align: right;\">\n",
       "      <th></th>\n",
       "      <th>Species</th>\n",
       "      <th>Weight</th>\n",
       "      <th>Length1</th>\n",
       "      <th>Length2</th>\n",
       "      <th>Length3</th>\n",
       "      <th>Height</th>\n",
       "      <th>Width</th>\n",
       "    </tr>\n",
       "  </thead>\n",
       "  <tbody>\n",
       "    <tr>\n",
       "      <th>0</th>\n",
       "      <td>Bream</td>\n",
       "      <td>242.0</td>\n",
       "      <td>23.2</td>\n",
       "      <td>25.4</td>\n",
       "      <td>30.0</td>\n",
       "      <td>11.5200</td>\n",
       "      <td>4.0200</td>\n",
       "    </tr>\n",
       "    <tr>\n",
       "      <th>1</th>\n",
       "      <td>Bream</td>\n",
       "      <td>290.0</td>\n",
       "      <td>24.0</td>\n",
       "      <td>26.3</td>\n",
       "      <td>31.2</td>\n",
       "      <td>12.4800</td>\n",
       "      <td>4.3056</td>\n",
       "    </tr>\n",
       "    <tr>\n",
       "      <th>2</th>\n",
       "      <td>Bream</td>\n",
       "      <td>340.0</td>\n",
       "      <td>23.9</td>\n",
       "      <td>26.5</td>\n",
       "      <td>31.1</td>\n",
       "      <td>12.3778</td>\n",
       "      <td>4.6961</td>\n",
       "    </tr>\n",
       "    <tr>\n",
       "      <th>3</th>\n",
       "      <td>Bream</td>\n",
       "      <td>363.0</td>\n",
       "      <td>26.3</td>\n",
       "      <td>29.0</td>\n",
       "      <td>33.5</td>\n",
       "      <td>12.7300</td>\n",
       "      <td>4.4555</td>\n",
       "    </tr>\n",
       "    <tr>\n",
       "      <th>4</th>\n",
       "      <td>Bream</td>\n",
       "      <td>430.0</td>\n",
       "      <td>26.5</td>\n",
       "      <td>29.0</td>\n",
       "      <td>34.0</td>\n",
       "      <td>12.4440</td>\n",
       "      <td>5.1340</td>\n",
       "    </tr>\n",
       "  </tbody>\n",
       "</table>\n",
       "</div>"
      ],
      "text/plain": [
       "  Species  Weight  Length1  Length2  Length3   Height   Width\n",
       "0   Bream   242.0     23.2     25.4     30.0  11.5200  4.0200\n",
       "1   Bream   290.0     24.0     26.3     31.2  12.4800  4.3056\n",
       "2   Bream   340.0     23.9     26.5     31.1  12.3778  4.6961\n",
       "3   Bream   363.0     26.3     29.0     33.5  12.7300  4.4555\n",
       "4   Bream   430.0     26.5     29.0     34.0  12.4440  5.1340"
      ]
     },
     "execution_count": 2,
     "metadata": {},
     "output_type": "execute_result"
    }
   ],
   "source": [
    "dataset.head(5)"
   ]
  },
  {
   "cell_type": "code",
   "execution_count": 3,
   "metadata": {
    "_cell_guid": "79c7e3d0-c299-4dcb-8224-4455121ee9b0",
    "_uuid": "d629ff2d2480ee46fbb7e2d37f6b5fab8052498a"
   },
   "outputs": [
    {
     "data": {
      "text/plain": [
       "array([[<matplotlib.axes._subplots.AxesSubplot object at 0x7f3505ff2ac8>,\n",
       "        <matplotlib.axes._subplots.AxesSubplot object at 0x7f3505f79208>],\n",
       "       [<matplotlib.axes._subplots.AxesSubplot object at 0x7f3505f206a0>,\n",
       "        <matplotlib.axes._subplots.AxesSubplot object at 0x7f3505ecac18>],\n",
       "       [<matplotlib.axes._subplots.AxesSubplot object at 0x7f3505ef91d0>,\n",
       "        <matplotlib.axes._subplots.AxesSubplot object at 0x7f3505ea1748>]],\n",
       "      dtype=object)"
      ]
     },
     "execution_count": 3,
     "metadata": {},
     "output_type": "execute_result"
    },
    {
     "data": {
      "image/png": "[encoded data removed]",
      "text/plain": [
       "<Figure size 432x288 with 6 Axes>"
      ]
     },
     "metadata": {},
     "output_type": "display_data"
    }
   ],
   "source": [
    "dataset.hist(bins=5)"
   ]
  },
  {
   "cell_type": "code",
   "execution_count": 4,
   "metadata": {},
   "outputs": [
    {
     "name": "stdout",
     "output_type": "stream",
     "text": [
      "           Weight   Length1   Length2   Length3    Height     Width\n",
      "Weight   1.000000  0.915712  0.918618  0.923044  0.724345  0.886507\n",
      "Length1  0.915712  1.000000  0.999517  0.992031  0.625378  0.867050\n",
      "Length2  0.918618  0.999517  1.000000  0.994103  0.640441  0.873547\n",
      "Length3  0.923044  0.992031  0.994103  1.000000  0.703409  0.878520\n",
      "Height   0.724345  0.625378  0.640441  0.703409  1.000000  0.792881\n",
      "Width    0.886507  0.867050  0.873547  0.878520  0.792881  1.000000\n"
     ]
    },
    {
     "data": {
      "image/png": "[encoded data removed]",
      "text/plain": [
       "<Figure size 432x288 with 2 Axes>"
      ]
     },
     "metadata": {},
     "output_type": "display_data"
    }
   ],
   "source": [
    "# correlation\n",
    "import seaborn as sns\n",
    "corr = dataset.corr()\n",
    "ax = sns.heatmap(\n",
    "    corr, \n",
    "    vmin=-1, vmax=1, center=0,\n",
    "    cmap=sns.diverging_palette(20, 220, n=200),\n",
    "    square=True\n",
    ")\n",
    "ax.set_xticklabels(\n",
    "    ax.get_xticklabels(),\n",
    "    rotation=45,\n",
    "    horizontalalignment='right'\n",
    ");\n",
    "print(corr)"
   ]
  },
  {
   "cell_type": "code",
   "execution_count": 5,
   "metadata": {},
   "outputs": [],
   "source": [
    "feature_cols = ['Species','Length1','Length2','Length3','Height','Width']\n",
    "x = dataset[feature_cols]\n",
    "y = dataset.Weight"
   ]
  },
  {
   "cell_type": "code",
   "execution_count": 6,
   "metadata": {},
   "outputs": [
    {
     "name": "stderr",
     "output_type": "stream",
     "text": [
      "/opt/conda/lib/python3.6/site-packages/pandas/core/indexing.py:543: SettingWithCopyWarning: \n",
      "A value is trying to be set on a copy of a slice from a DataFrame.\n",
      "Try using .loc[row_indexer,col_indexer] = value instead\n",
      "\n",
      "See the caveats in the documentation: http://pandas.pydata.org/pandas-docs/stable/indexing.html#indexing-view-versus-copy\n",
      "  self.obj[item] = s\n",
      "/opt/conda/lib/python3.6/site-packages/sklearn/preprocessing/_encoders.py:371: FutureWarning: The handling of integer data will change in version 0.22. Currently, the categories are determined based on the range [0, max(values)], while in the future they will be determined based on the unique values.\n",
      "If you want the future behaviour and silence this warning, you can specify \"categories='auto'\".\n",
      "In case you used a LabelEncoder before this OneHotEncoder to convert the categories to integers, then you can now use the OneHotEncoder directly.\n",
      "  warnings.warn(msg, FutureWarning)\n",
      "/opt/conda/lib/python3.6/site-packages/sklearn/preprocessing/_encoders.py:392: DeprecationWarning: The 'categorical_features' keyword is deprecated in version 0.20 and will be removed in 0.22. You can use the ColumnTransformer instead.\n",
      "  \"use the ColumnTransformer instead.\", DeprecationWarning)\n"
     ]
    }
   ],
   "source": [
    "# label encoding\n",
    "from sklearn.preprocessing import LabelEncoder, OneHotEncoder\n",
    "label_encoder = LabelEncoder()\n",
    "x.iloc[:,0] = label_encoder.fit_transform(x.iloc[:,0]) #LabelEncoder is used to encode the country value\n",
    "hot_encoder = OneHotEncoder(categorical_features = [0])\n",
    "x = hot_encoder.fit_transform(x).toarray()"
   ]
  },
  {
   "cell_type": "code",
   "execution_count": 7,
   "metadata": {},
   "outputs": [],
   "source": [
    "# split dataset\n",
    "from sklearn.model_selection import train_test_split\n",
    "x_train, x_test, y_train, y_test = train_test_split(x, y, test_size = 0.3, random_state=1)"
   ]
  },
  {
   "cell_type": "code",
   "execution_count": 8,
   "metadata": {},
   "outputs": [
    {
     "name": "stdout",
     "output_type": "stream",
     "text": [
      "Coefficients:  -804.160721688842 [ -40.53645316  113.89444893   36.51828575 -408.49238974   -2.9586426\n",
      "  309.65088539   -8.07613457  -76.5407275    81.77099358   30.99385261\n",
      "  -10.28484203    3.76426174]\n"
     ]
    }
   ],
   "source": [
    "# fit linear regression\n",
    "from sklearn.linear_model import LinearRegression\n",
    "regressor = LinearRegression()\n",
    "regressor.fit(x_train, y_train)\n",
    "\n",
    "print(\"Coefficients: \",regressor.intercept_, regressor.coef_)"
   ]
  },
  {
   "cell_type": "code",
   "execution_count": 9,
   "metadata": {},
   "outputs": [
    {
     "name": "stdout",
     "output_type": "stream",
     "text": [
      "[ 766.93900762  109.24860669  540.30915139  200.38611819   83.77406638\n",
      "  594.03009269  121.03443347  485.77804732   67.59191171  250.14107983\n",
      "  181.70598493  225.06229285 -177.28869484  374.93367395  715.94402367\n",
      "  187.10059476  191.76996904  534.46040736  476.69719788  312.29978096\n",
      "    4.94762006 -173.53927847  253.69563765  486.74601124  147.89525721\n",
      "  825.98378208  581.03081489  -84.18909947 1315.32547121  206.65384085\n",
      " 1028.91815727  375.25230437  674.02807414  357.7993448   509.24494258\n",
      "  359.14032741  141.04616195  274.83038465  901.64464647  350.40113616\n",
      "  374.95049462  653.98692253  386.15393947   21.94198552  506.86128463\n",
      "  750.53235142  -95.29506484  727.49253278]\n"
     ]
    }
   ],
   "source": [
    "# predict\n",
    "predict_val = regressor.predict(x_test)\n",
    "print(predict_val)"
   ]
  },
  {
   "cell_type": "code",
   "execution_count": 10,
   "metadata": {},
   "outputs": [
    {
     "name": "stdout",
     "output_type": "stream",
     "text": [
      "84.2774596723125\n",
      "10680.309034948817\n",
      "103.34558062611491\n",
      "y error (difference between observed and predicted values) =  29     1000.0\n",
      "42      120.0\n",
      "14      600.0\n",
      "91      130.0\n",
      "81       85.0\n",
      "19      650.0\n",
      "44      145.0\n",
      "11      500.0\n",
      "40        0.0\n",
      "97      145.0\n",
      "89      135.0\n",
      "94      150.0\n",
      "73       32.0\n",
      "105     250.0\n",
      "59      800.0\n",
      "90      110.0\n",
      "66      140.0\n",
      "54      390.0\n",
      "108     320.0\n",
      "100     197.0\n",
      "153       9.8\n",
      "35       40.0\n",
      "51      180.0\n",
      "5       450.0\n",
      "84      125.0\n",
      "31      955.0\n",
      "16      700.0\n",
      "145       6.7\n",
      "143    1550.0\n",
      "93      145.0\n",
      "127    1000.0\n",
      "103     260.0\n",
      "111     840.0\n",
      "131     300.0\n",
      "58      540.0\n",
      "102     300.0\n",
      "47      160.0\n",
      "69      200.0\n",
      "33      975.0\n",
      "56      270.0\n",
      "132     430.0\n",
      "110     556.0\n",
      "106     250.0\n",
      "154      12.2\n",
      "12      500.0\n",
      "114     700.0\n",
      "75       51.5\n",
      "28      850.0\n",
      "Name: Weight, dtype: float64 [ 766.93900762  109.24860669  540.30915139  200.38611819   83.77406638\n",
      "  594.03009269  121.03443347  485.77804732   67.59191171  250.14107983\n",
      "  181.70598493  225.06229285 -177.28869484  374.93367395  715.94402367\n",
      "  187.10059476  191.76996904  534.46040736  476.69719788  312.29978096\n",
      "    4.94762006 -173.53927847  253.69563765  486.74601124  147.89525721\n",
      "  825.98378208  581.03081489  -84.18909947 1315.32547121  206.65384085\n",
      " 1028.91815727  375.25230437  674.02807414  357.7993448   509.24494258\n",
      "  359.14032741  141.04616195  274.83038465  901.64464647  350.40113616\n",
      "  374.95049462  653.98692253  386.15393947   21.94198552  506.86128463\n",
      "  750.53235142  -95.29506484  727.49253278]\n",
      "R square  0.9096349552643731\n"
     ]
    }
   ],
   "source": [
    "# metrics\n",
    "from sklearn import metrics\n",
    "import numpy as np\n",
    "print(metrics.mean_absolute_error(y_test, predict_val))\n",
    "print(metrics.mean_squared_error(y_test, predict_val))\n",
    "print(np.sqrt(metrics.mean_squared_error(y_test,predict_val)))\n",
    "\n",
    "print(\"y error (difference between observed and predicted values) = \", y_test, predict_val)\n",
    "\n",
    "from sklearn.metrics import r2_score\n",
    "print(\"R square \", r2_score(y_test,predict_val))"
   ]
  },
  {
   "cell_type": "code",
   "execution_count": 11,
   "metadata": {},
   "outputs": [
    {
     "data": {
      "image/png": "[encoded data removed]",
      "text/plain": [
       "<Figure size 432x288 with 1 Axes>"
      ]
     },
     "metadata": {},
     "output_type": "display_data"
    }
   ],
   "source": [
    "from matplotlib import pyplot as plt\n",
    "plt.scatter(y_test, predict_val, color='red')\n",
    "plt.xlabel('Real weight', color='red')\n",
    "plt.ylabel('Predicted weight', color='blue')\n",
    "plt.plot(y_test, y_test + 1, '-o' , linestyle='solid',label='y=2x+1', color='blue')\n",
    "plt.legend(loc='upper left')\n",
    "plt.grid()\n",
    "plt.show()"
   ]
  },
  {
   "cell_type": "code",
   "execution_count": 12,
   "metadata": {},
   "outputs": [
    {
     "data": {
      "text/html": [
       "<table class=\"simpletable\">\n",
       "<caption>OLS Regression Results</caption>\n",
       "<tr>\n",
       "  <th>Dep. Variable:</th>         <td>Weight</td>      <th>  R-squared:         </th> <td>   0.936</td>\n",
       "</tr>\n",
       "<tr>\n",
       "  <th>Model:</th>                   <td>OLS</td>       <th>  Adj. R-squared:    </th> <td>   0.931</td>\n",
       "</tr>\n",
       "<tr>\n",
       "  <th>Method:</th>             <td>Least Squares</td>  <th>  F-statistic:       </th> <td>   195.7</td>\n",
       "</tr>\n",
       "<tr>\n",
       "  <th>Date:</th>             <td>Thu, 13 Jun 2019</td> <th>  Prob (F-statistic):</th> <td>6.85e-82</td>\n",
       "</tr>\n",
       "<tr>\n",
       "  <th>Time:</th>                 <td>15:19:00</td>     <th>  Log-Likelihood:    </th> <td> -941.46</td>\n",
       "</tr>\n",
       "<tr>\n",
       "  <th>No. Observations:</th>      <td>   159</td>      <th>  AIC:               </th> <td>   1907.</td>\n",
       "</tr>\n",
       "<tr>\n",
       "  <th>Df Residuals:</th>          <td>   147</td>      <th>  BIC:               </th> <td>   1944.</td>\n",
       "</tr>\n",
       "<tr>\n",
       "  <th>Df Model:</th>              <td>    11</td>      <th>                     </th>     <td> </td>   \n",
       "</tr>\n",
       "<tr>\n",
       "  <th>Covariance Type:</th>      <td>nonrobust</td>    <th>                     </th>     <td> </td>   \n",
       "</tr>\n",
       "</table>\n",
       "<table class=\"simpletable\">\n",
       "<tr>\n",
       "    <td></td>       <th>coef</th>     <th>std err</th>      <th>t</th>      <th>P>|t|</th>  <th>[0.025</th>    <th>0.975]</th>  \n",
       "</tr>\n",
       "<tr>\n",
       "  <th>const</th> <td> -711.3869</td> <td>   47.172</td> <td>  -15.081</td> <td> 0.000</td> <td> -804.611</td> <td> -618.163</td>\n",
       "</tr>\n",
       "<tr>\n",
       "  <th>x1</th>    <td> -206.9452</td> <td>   89.978</td> <td>   -2.300</td> <td> 0.023</td> <td> -384.762</td> <td>  -29.128</td>\n",
       "</tr>\n",
       "<tr>\n",
       "  <th>x2</th>    <td>  -42.2226</td> <td>   41.601</td> <td>   -1.015</td> <td> 0.312</td> <td> -124.436</td> <td>   39.991</td>\n",
       "</tr>\n",
       "<tr>\n",
       "  <th>x3</th>    <td>  -68.9963</td> <td>   37.083</td> <td>   -1.861</td> <td> 0.065</td> <td> -142.281</td> <td>    4.288</td>\n",
       "</tr>\n",
       "<tr>\n",
       "  <th>x4</th>    <td> -415.3746</td> <td>   69.881</td> <td>   -5.944</td> <td> 0.000</td> <td> -553.476</td> <td> -277.273</td>\n",
       "</tr>\n",
       "<tr>\n",
       "  <th>x5</th>    <td> -103.9053</td> <td>   24.123</td> <td>   -4.307</td> <td> 0.000</td> <td> -151.578</td> <td>  -56.232</td>\n",
       "</tr>\n",
       "<tr>\n",
       "  <th>x6</th>    <td>  239.1281</td> <td>   38.181</td> <td>    6.263</td> <td> 0.000</td> <td>  163.674</td> <td>  314.582</td>\n",
       "</tr>\n",
       "<tr>\n",
       "  <th>x7</th>    <td> -113.0711</td> <td>   38.588</td> <td>   -2.930</td> <td> 0.004</td> <td> -189.330</td> <td>  -36.812</td>\n",
       "</tr>\n",
       "<tr>\n",
       "  <th>x8</th>    <td>  -80.3030</td> <td>   36.279</td> <td>   -2.214</td> <td> 0.028</td> <td> -151.998</td> <td>   -8.608</td>\n",
       "</tr>\n",
       "<tr>\n",
       "  <th>x9</th>    <td>   79.8886</td> <td>   45.718</td> <td>    1.747</td> <td> 0.083</td> <td>  -10.461</td> <td>  170.238</td>\n",
       "</tr>\n",
       "<tr>\n",
       "  <th>x10</th>   <td>   32.5354</td> <td>   29.300</td> <td>    1.110</td> <td> 0.269</td> <td>  -25.369</td> <td>   90.439</td>\n",
       "</tr>\n",
       "<tr>\n",
       "  <th>x11</th>   <td>    5.2510</td> <td>   13.056</td> <td>    0.402</td> <td> 0.688</td> <td>  -20.551</td> <td>   31.053</td>\n",
       "</tr>\n",
       "<tr>\n",
       "  <th>x12</th>   <td>   -0.5154</td> <td>   23.913</td> <td>   -0.022</td> <td> 0.983</td> <td>  -47.773</td> <td>   46.742</td>\n",
       "</tr>\n",
       "</table>\n",
       "<table class=\"simpletable\">\n",
       "<tr>\n",
       "  <th>Omnibus:</th>       <td>43.558</td> <th>  Durbin-Watson:     </th> <td>   0.973</td>\n",
       "</tr>\n",
       "<tr>\n",
       "  <th>Prob(Omnibus):</th> <td> 0.000</td> <th>  Jarque-Bera (JB):  </th> <td>  97.422</td>\n",
       "</tr>\n",
       "<tr>\n",
       "  <th>Skew:</th>          <td> 1.184</td> <th>  Prob(JB):          </th> <td>7.00e-22</td>\n",
       "</tr>\n",
       "<tr>\n",
       "  <th>Kurtosis:</th>      <td> 6.016</td> <th>  Cond. No.          </th> <td>6.56e+17</td>\n",
       "</tr>\n",
       "</table><br/><br/>Warnings:<br/>[1] Standard Errors assume that the covariance matrix of the errors is correctly specified.<br/>[2] The smallest eigenvalue is 1.08e-30. This might indicate that there are<br/>strong multicollinearity problems or that the design matrix is singular."
      ],
      "text/plain": [
       "<class 'statsmodels.iolib.summary.Summary'>\n",
       "\"\"\"\n",
       "                            OLS Regression Results                            \n",
       "==============================================================================\n",
       "Dep. Variable:                 Weight   R-squared:                       0.936\n",
       "Model:                            OLS   Adj. R-squared:                  0.931\n",
       "Method:                 Least Squares   F-statistic:                     195.7\n",
       "Date:                Thu, 13 Jun 2019   Prob (F-statistic):           6.85e-82\n",
       "Time:                        15:19:00   Log-Likelihood:                -941.46\n",
       "No. Observations:                 159   AIC:                             1907.\n",
       "Df Residuals:                     147   BIC:                             1944.\n",
       "Df Model:                          11                                         \n",
       "Covariance Type:            nonrobust                                         \n",
       "==============================================================================\n",
       "                 coef    std err          t      P>|t|      [0.025      0.975]\n",
       "------------------------------------------------------------------------------\n",
       "const       -711.3869     47.172    -15.081      0.000    -804.611    -618.163\n",
       "x1          -206.9452     89.978     -2.300      0.023    -384.762     -29.128\n",
       "x2           -42.2226     41.601     -1.015      0.312    -124.436      39.991\n",
       "x3           -68.9963     37.083     -1.861      0.065    -142.281       4.288\n",
       "x4          -415.3746     69.881     -5.944      0.000    -553.476    -277.273\n",
       "x5          -103.9053     24.123     -4.307      0.000    -151.578     -56.232\n",
       "x6           239.1281     38.181      6.263      0.000     163.674     314.582\n",
       "x7          -113.0711     38.588     -2.930      0.004    -189.330     -36.812\n",
       "x8           -80.3030     36.279     -2.214      0.028    -151.998      -8.608\n",
       "x9            79.8886     45.718      1.747      0.083     -10.461     170.238\n",
       "x10           32.5354     29.300      1.110      0.269     -25.369      90.439\n",
       "x11            5.2510     13.056      0.402      0.688     -20.551      31.053\n",
       "x12           -0.5154     23.913     -0.022      0.983     -47.773      46.742\n",
       "==============================================================================\n",
       "Omnibus:                       43.558   Durbin-Watson:                   0.973\n",
       "Prob(Omnibus):                  0.000   Jarque-Bera (JB):               97.422\n",
       "Skew:                           1.184   Prob(JB):                     7.00e-22\n",
       "Kurtosis:                       6.016   Cond. No.                     6.56e+17\n",
       "==============================================================================\n",
       "\n",
       "Warnings:\n",
       "[1] Standard Errors assume that the covariance matrix of the errors is correctly specified.\n",
       "[2] The smallest eigenvalue is 1.08e-30. This might indicate that there are\n",
       "strong multicollinearity problems or that the design matrix is singular.\n",
       "\"\"\""
      ]
     },
     "execution_count": 12,
     "metadata": {},
     "output_type": "execute_result"
    }
   ],
   "source": [
    "# optimal model using backward elimination\n",
    "import numpy as np\n",
    "import statsmodels.formula.api as sm\n",
    "x = np.append(arr = np.ones((159, 1)).astype(int), values = x, axis = 1)\n",
    "x_opt = x[:, [0,1,2,3,4,5,6,7,8,9,10,11,12]]\n",
    "regressor_ols = sm.OLS(endog=y, exog=x_opt).fit()\n",
    "regressor_ols.summary()"
   ]
  }
 ],
 "metadata": {
  "kernelspec": {
   "display_name": "Python 3",
   "language": "python",
   "name": "python3"
  },
  "language_info": {
   "codemirror_mode": {
    "name": "ipython",
    "version": 3
   },
   "file_extension": ".py",
   "mimetype": "text/x-python",
   "name": "python",
   "nbconvert_exporter": "python",
   "pygments_lexer": "ipython3",
   "version": "3.7.4"
  }
 },
 "nbformat": 4,
 "nbformat_minor": 1
}
